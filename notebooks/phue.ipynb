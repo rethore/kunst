{
 "cells": [
  {
   "cell_type": "code",
   "execution_count": 2,
   "metadata": {},
   "outputs": [],
   "source": [
    "from time import sleep\n",
    "from phue import Bridge\n",
    "import random\n",
    "from numpy import zeros, ones"
   ]
  },
  {
   "cell_type": "markdown",
   "metadata": {},
   "source": [
    "Find the bridge IP address"
   ]
  },
  {
   "cell_type": "code",
   "execution_count": 3,
   "metadata": {},
   "outputs": [
    {
     "name": "stdout",
     "output_type": "stream",
     "text": [
      "[{\"id\":\"001788fffe273a83\",\"internalipaddress\":\"10.0.1.2\"}]"
     ]
    }
   ],
   "source": [
    "!curl https://www.meethue.com/api/nupnp"
   ]
  },
  {
   "cell_type": "code",
   "execution_count": 4,
   "metadata": {},
   "outputs": [],
   "source": [
    "import requests as req"
   ]
  },
  {
   "cell_type": "code",
   "execution_count": 5,
   "metadata": {},
   "outputs": [],
   "source": [
    "IP = req.get('https://www.meethue.com/api/nupnp').json()[0]['internalipaddress']"
   ]
  },
  {
   "cell_type": "markdown",
   "metadata": {},
   "source": [
    "API link: http://www.developers.meethue.com/philips-hue-api"
   ]
  },
  {
   "cell_type": "code",
   "execution_count": 10,
   "metadata": {},
   "outputs": [],
   "source": [
    "b = Bridge(IP) # Enter bridge IP here.\n",
    "\n",
    "#If running for the first time, press button on bridge and run with b.connect() uncommented\n",
    "b.connect()\n"
   ]
  },
  {
   "cell_type": "code",
   "execution_count": 13,
   "metadata": {},
   "outputs": [
    {
     "data": {
      "text/plain": [
       "{'1': {'manufacturername': 'Philips',\n",
       "  'modelid': 'LCT001',\n",
       "  'name': 'AJ',\n",
       "  'state': {'alert': 'none',\n",
       "   'bri': 0,\n",
       "   'colormode': 'hs',\n",
       "   'ct': 0,\n",
       "   'effect': 'none',\n",
       "   'hue': 0,\n",
       "   'on': False,\n",
       "   'reachable': False,\n",
       "   'sat': 0,\n",
       "   'xy': [0.0, 0.0]},\n",
       "  'swversion': '66013452',\n",
       "  'type': 'Extended color light',\n",
       "  'uniqueid': '00:17:88:01:00:ff:ec:16-0b'},\n",
       " '10': {'manufacturername': 'Philips',\n",
       "  'modelid': 'LCT001',\n",
       "  'name': 'P5',\n",
       "  'state': {'alert': 'none',\n",
       "   'bri': 254,\n",
       "   'colormode': 'ct',\n",
       "   'ct': 369,\n",
       "   'effect': 'none',\n",
       "   'hue': 14922,\n",
       "   'on': True,\n",
       "   'reachable': True,\n",
       "   'sat': 144,\n",
       "   'xy': [0.4595, 0.4105]},\n",
       "  'swversion': '66009663',\n",
       "  'type': 'Extended color light',\n",
       "  'uniqueid': '00:17:88:01:00:ee:c7:5f-0b'},\n",
       " '11': {'manufacturername': 'Philips',\n",
       "  'modelid': 'LCT001',\n",
       "  'name': 'P15',\n",
       "  'state': {'alert': 'none',\n",
       "   'bri': 254,\n",
       "   'colormode': 'ct',\n",
       "   'ct': 369,\n",
       "   'effect': 'none',\n",
       "   'hue': 14910,\n",
       "   'on': True,\n",
       "   'reachable': True,\n",
       "   'sat': 144,\n",
       "   'xy': [0.4596, 0.4105]},\n",
       "  'swversion': '66013187',\n",
       "  'type': 'Extended color light',\n",
       "  'uniqueid': '00:17:88:01:00:dc:58:1b-0b'},\n",
       " '13': {'manufacturername': 'Philips',\n",
       "  'modelid': 'LCT001',\n",
       "  'name': 'P14',\n",
       "  'state': {'alert': 'none',\n",
       "   'bri': 254,\n",
       "   'colormode': 'ct',\n",
       "   'ct': 369,\n",
       "   'effect': 'none',\n",
       "   'hue': 14910,\n",
       "   'on': True,\n",
       "   'reachable': True,\n",
       "   'sat': 144,\n",
       "   'xy': [0.4596, 0.4105]},\n",
       "  'swversion': '66013187',\n",
       "  'type': 'Extended color light',\n",
       "  'uniqueid': '00:17:88:01:00:f5:80:7f-0b'},\n",
       " '15': {'manufacturername': 'Philips',\n",
       "  'modelid': 'LCT001',\n",
       "  'name': 'P3',\n",
       "  'state': {'alert': 'none',\n",
       "   'bri': 254,\n",
       "   'colormode': 'ct',\n",
       "   'ct': 369,\n",
       "   'effect': 'none',\n",
       "   'hue': 14910,\n",
       "   'on': True,\n",
       "   'reachable': True,\n",
       "   'sat': 144,\n",
       "   'xy': [0.4596, 0.4105]},\n",
       "  'swversion': '66013187',\n",
       "  'type': 'Extended color light',\n",
       "  'uniqueid': '00:17:88:01:00:d9:cb:67-0b'},\n",
       " '17': {'manufacturername': 'Philips',\n",
       "  'modelid': 'LCT001',\n",
       "  'name': 'P7',\n",
       "  'state': {'alert': 'none',\n",
       "   'bri': 254,\n",
       "   'colormode': 'ct',\n",
       "   'ct': 369,\n",
       "   'effect': 'none',\n",
       "   'hue': 14922,\n",
       "   'on': True,\n",
       "   'reachable': False,\n",
       "   'sat': 144,\n",
       "   'xy': [0.4595, 0.4105]},\n",
       "  'swversion': '66009663',\n",
       "  'type': 'Extended color light',\n",
       "  'uniqueid': '00:17:88:01:00:ee:c6:91-0b'},\n",
       " '18': {'manufacturername': 'Philips',\n",
       "  'modelid': 'LCT001',\n",
       "  'name': 'P17',\n",
       "  'state': {'alert': 'none',\n",
       "   'bri': 254,\n",
       "   'colormode': 'ct',\n",
       "   'ct': 369,\n",
       "   'effect': 'none',\n",
       "   'hue': 14910,\n",
       "   'on': True,\n",
       "   'reachable': True,\n",
       "   'sat': 144,\n",
       "   'xy': [0.4596, 0.4105]},\n",
       "  'swversion': '66013187',\n",
       "  'type': 'Extended color light',\n",
       "  'uniqueid': '00:17:88:01:00:d9:bd:12-0b'},\n",
       " '19': {'manufacturername': 'Philips',\n",
       "  'modelid': 'LCT001',\n",
       "  'name': 'P6',\n",
       "  'state': {'alert': 'none',\n",
       "   'bri': 254,\n",
       "   'colormode': 'ct',\n",
       "   'ct': 369,\n",
       "   'effect': 'none',\n",
       "   'hue': 14922,\n",
       "   'on': True,\n",
       "   'reachable': False,\n",
       "   'sat': 144,\n",
       "   'xy': [0.4595, 0.4105]},\n",
       "  'swversion': '66009663',\n",
       "  'type': 'Extended color light',\n",
       "  'uniqueid': '00:17:88:01:00:ec:91:a2-0b'},\n",
       " '20': {'manufacturername': 'Philips',\n",
       "  'modelid': 'LCT001',\n",
       "  'name': 'P4',\n",
       "  'state': {'alert': 'none',\n",
       "   'bri': 254,\n",
       "   'colormode': 'ct',\n",
       "   'ct': 369,\n",
       "   'effect': 'none',\n",
       "   'hue': 14922,\n",
       "   'on': True,\n",
       "   'reachable': True,\n",
       "   'sat': 144,\n",
       "   'xy': [0.4595, 0.4105]},\n",
       "  'swversion': '66009663',\n",
       "  'type': 'Extended color light',\n",
       "  'uniqueid': '00:17:88:01:00:ec:91:5b-0b'},\n",
       " '21': {'manufacturername': 'Philips',\n",
       "  'modelid': 'LCT001',\n",
       "  'name': 'P2',\n",
       "  'state': {'alert': 'none',\n",
       "   'bri': 254,\n",
       "   'colormode': 'ct',\n",
       "   'ct': 369,\n",
       "   'effect': 'none',\n",
       "   'hue': 14910,\n",
       "   'on': True,\n",
       "   'reachable': True,\n",
       "   'sat': 144,\n",
       "   'xy': [0.4596, 0.4105]},\n",
       "  'swversion': '66013187',\n",
       "  'type': 'Extended color light',\n",
       "  'uniqueid': '00:17:88:01:00:f5:8e:ff-0b'},\n",
       " '22': {'manufacturername': 'Philips',\n",
       "  'modelid': 'LCT001',\n",
       "  'name': 'P1',\n",
       "  'state': {'alert': 'none',\n",
       "   'bri': 254,\n",
       "   'colormode': 'ct',\n",
       "   'ct': 369,\n",
       "   'effect': 'none',\n",
       "   'hue': 14910,\n",
       "   'on': True,\n",
       "   'reachable': True,\n",
       "   'sat': 144,\n",
       "   'xy': [0.4596, 0.4105]},\n",
       "  'swversion': '66013187',\n",
       "  'type': 'Extended color light',\n",
       "  'uniqueid': '00:17:88:01:00:d9:c9:cf-0b'},\n",
       " '23': {'manufacturername': 'Philips',\n",
       "  'modelid': 'LCT001',\n",
       "  'name': 'P16',\n",
       "  'state': {'alert': 'none',\n",
       "   'bri': 254,\n",
       "   'colormode': 'ct',\n",
       "   'ct': 369,\n",
       "   'effect': 'none',\n",
       "   'hue': 14910,\n",
       "   'on': True,\n",
       "   'reachable': True,\n",
       "   'sat': 144,\n",
       "   'xy': [0.4596, 0.4105]},\n",
       "  'swversion': '66013187',\n",
       "  'type': 'Extended color light',\n",
       "  'uniqueid': '00:17:88:01:00:dc:ea:dc-0b'},\n",
       " '24': {'manufacturername': 'Philips',\n",
       "  'modelid': 'LCT001',\n",
       "  'name': 'P19',\n",
       "  'state': {'alert': 'none',\n",
       "   'bri': 254,\n",
       "   'colormode': 'ct',\n",
       "   'ct': 369,\n",
       "   'effect': 'none',\n",
       "   'hue': 14910,\n",
       "   'on': True,\n",
       "   'reachable': False,\n",
       "   'sat': 144,\n",
       "   'xy': [0.4596, 0.4105]},\n",
       "  'swversion': '66013187',\n",
       "  'type': 'Extended color light',\n",
       "  'uniqueid': '00:17:88:01:00:d9:ca:66-0b'},\n",
       " '3': {'manufacturername': 'Philips',\n",
       "  'modelid': 'LCT001',\n",
       "  'name': 'P10',\n",
       "  'state': {'alert': 'none',\n",
       "   'bri': 254,\n",
       "   'colormode': 'ct',\n",
       "   'ct': 369,\n",
       "   'effect': 'none',\n",
       "   'hue': 14910,\n",
       "   'on': True,\n",
       "   'reachable': True,\n",
       "   'sat': 144,\n",
       "   'xy': [0.4596, 0.4105]},\n",
       "  'swversion': '66013187',\n",
       "  'type': 'Extended color light',\n",
       "  'uniqueid': '00:17:88:01:00:d9:cb:35-0b'},\n",
       " '4': {'manufacturername': 'Philips',\n",
       "  'modelid': 'LCT001',\n",
       "  'name': 'P9',\n",
       "  'state': {'alert': 'none',\n",
       "   'bri': 254,\n",
       "   'colormode': 'ct',\n",
       "   'ct': 369,\n",
       "   'effect': 'none',\n",
       "   'hue': 14922,\n",
       "   'on': True,\n",
       "   'reachable': True,\n",
       "   'sat': 144,\n",
       "   'xy': [0.4595, 0.4105]},\n",
       "  'swversion': '66009663',\n",
       "  'type': 'Extended color light',\n",
       "  'uniqueid': '00:17:88:01:00:ec:92:7e-0b'},\n",
       " '5': {'manufacturername': 'Philips',\n",
       "  'modelid': 'LCT001',\n",
       "  'name': 'P11',\n",
       "  'state': {'alert': 'none',\n",
       "   'bri': 254,\n",
       "   'colormode': 'ct',\n",
       "   'ct': 369,\n",
       "   'effect': 'none',\n",
       "   'hue': 14910,\n",
       "   'on': True,\n",
       "   'reachable': True,\n",
       "   'sat': 144,\n",
       "   'xy': [0.4596, 0.4105]},\n",
       "  'swversion': '66013187',\n",
       "  'type': 'Extended color light',\n",
       "  'uniqueid': '00:17:88:01:00:f5:92:2e-0b'},\n",
       " '6': {'manufacturername': 'Philips',\n",
       "  'modelid': 'LCT001',\n",
       "  'name': 'P12',\n",
       "  'state': {'alert': 'none',\n",
       "   'bri': 254,\n",
       "   'colormode': 'ct',\n",
       "   'ct': 369,\n",
       "   'effect': 'none',\n",
       "   'hue': 14910,\n",
       "   'on': True,\n",
       "   'reachable': True,\n",
       "   'sat': 144,\n",
       "   'xy': [0.4596, 0.4105]},\n",
       "  'swversion': '66013187',\n",
       "  'type': 'Extended color light',\n",
       "  'uniqueid': '00:17:88:01:00:f5:71:01-0b'},\n",
       " '7': {'manufacturername': 'Philips',\n",
       "  'modelid': 'LCT001',\n",
       "  'name': 'P13',\n",
       "  'state': {'alert': 'none',\n",
       "   'bri': 254,\n",
       "   'colormode': 'ct',\n",
       "   'ct': 369,\n",
       "   'effect': 'none',\n",
       "   'hue': 14910,\n",
       "   'on': True,\n",
       "   'reachable': True,\n",
       "   'sat': 144,\n",
       "   'xy': [0.4596, 0.4105]},\n",
       "  'swversion': '66013187',\n",
       "  'type': 'Extended color light',\n",
       "  'uniqueid': '00:17:88:01:00:f5:7c:ae-0b'},\n",
       " '8': {'manufacturername': 'Philips',\n",
       "  'modelid': 'LCT001',\n",
       "  'name': 'P8',\n",
       "  'state': {'alert': 'none',\n",
       "   'bri': 254,\n",
       "   'colormode': 'ct',\n",
       "   'ct': 369,\n",
       "   'effect': 'none',\n",
       "   'hue': 14922,\n",
       "   'on': True,\n",
       "   'reachable': True,\n",
       "   'sat': 144,\n",
       "   'xy': [0.4595, 0.4105]},\n",
       "  'swversion': '66009663',\n",
       "  'type': 'Extended color light',\n",
       "  'uniqueid': '00:17:88:01:00:ee:c4:2e-0b'},\n",
       " '9': {'manufacturername': 'Philips',\n",
       "  'modelid': 'LCT001',\n",
       "  'name': 'P18',\n",
       "  'state': {'alert': 'none',\n",
       "   'bri': 254,\n",
       "   'colormode': 'ct',\n",
       "   'ct': 369,\n",
       "   'effect': 'none',\n",
       "   'hue': 14910,\n",
       "   'on': True,\n",
       "   'reachable': True,\n",
       "   'sat': 144,\n",
       "   'xy': [0.4596, 0.4105]},\n",
       "  'swversion': '66013187',\n",
       "  'type': 'Extended color light',\n",
       "  'uniqueid': '00:17:88:01:00:db:ad:de-0b'}}"
      ]
     },
     "execution_count": 13,
     "metadata": {},
     "output_type": "execute_result"
    }
   ],
   "source": [
    "b.get_light()"
   ]
  },
  {
   "cell_type": "code",
   "execution_count": 19,
   "metadata": {
    "scrolled": true
   },
   "outputs": [
    {
     "ename": "KeyError",
     "evalue": "2",
     "output_type": "error",
     "traceback": [
      "\u001b[1;31m---------------------------------------------------------------------------\u001b[0m",
      "\u001b[1;31mKeyError\u001b[0m                                  Traceback (most recent call last)",
      "\u001b[1;32m<ipython-input-19-8b6966cac7e3>\u001b[0m in \u001b[0;36m<module>\u001b[1;34m()\u001b[0m\n\u001b[1;32m----> 1\u001b[1;33m \u001b[0mlights\u001b[0m \u001b[1;33m=\u001b[0m \u001b[0mb\u001b[0m\u001b[1;33m.\u001b[0m\u001b[0mget_light_objects\u001b[0m\u001b[1;33m(\u001b[0m\u001b[1;33m)\u001b[0m\u001b[1;33m\u001b[0m\u001b[0m\n\u001b[0m",
      "\u001b[1;32m/home/pi/.local/lib/python3.4/site-packages/phue.py\u001b[0m in \u001b[0;36mget_light_objects\u001b[1;34m(self, mode)\u001b[0m\n\u001b[0;32m    586\u001b[0m             \u001b[1;32mreturn\u001b[0m \u001b[0mself\u001b[0m\u001b[1;33m.\u001b[0m\u001b[0mlights_by_name\u001b[0m\u001b[1;33m\u001b[0m\u001b[0m\n\u001b[0;32m    587\u001b[0m         \u001b[1;32mif\u001b[0m \u001b[0mmode\u001b[0m \u001b[1;33m==\u001b[0m \u001b[1;34m'list'\u001b[0m\u001b[1;33m:\u001b[0m\u001b[1;33m\u001b[0m\u001b[0m\n\u001b[1;32m--> 588\u001b[1;33m             \u001b[1;32mreturn\u001b[0m \u001b[1;33m[\u001b[0m\u001b[0mself\u001b[0m\u001b[1;33m.\u001b[0m\u001b[0mlights_by_id\u001b[0m\u001b[1;33m[\u001b[0m\u001b[0mx\u001b[0m\u001b[1;33m]\u001b[0m \u001b[1;32mfor\u001b[0m \u001b[0mx\u001b[0m \u001b[1;32min\u001b[0m \u001b[0mrange\u001b[0m\u001b[1;33m(\u001b[0m\u001b[1;36m1\u001b[0m\u001b[1;33m,\u001b[0m \u001b[0mlen\u001b[0m\u001b[1;33m(\u001b[0m\u001b[0mself\u001b[0m\u001b[1;33m.\u001b[0m\u001b[0mlights_by_id\u001b[0m\u001b[1;33m)\u001b[0m \u001b[1;33m+\u001b[0m \u001b[1;36m1\u001b[0m\u001b[1;33m)\u001b[0m\u001b[1;33m]\u001b[0m\u001b[1;33m\u001b[0m\u001b[0m\n\u001b[0m\u001b[0;32m    589\u001b[0m \u001b[1;33m\u001b[0m\u001b[0m\n\u001b[0;32m    590\u001b[0m     \u001b[1;32mdef\u001b[0m \u001b[0m__getitem__\u001b[0m\u001b[1;33m(\u001b[0m\u001b[0mself\u001b[0m\u001b[1;33m,\u001b[0m \u001b[0mkey\u001b[0m\u001b[1;33m)\u001b[0m\u001b[1;33m:\u001b[0m\u001b[1;33m\u001b[0m\u001b[0m\n",
      "\u001b[1;32m/home/pi/.local/lib/python3.4/site-packages/phue.py\u001b[0m in \u001b[0;36m<listcomp>\u001b[1;34m(.0)\u001b[0m\n\u001b[0;32m    586\u001b[0m             \u001b[1;32mreturn\u001b[0m \u001b[0mself\u001b[0m\u001b[1;33m.\u001b[0m\u001b[0mlights_by_name\u001b[0m\u001b[1;33m\u001b[0m\u001b[0m\n\u001b[0;32m    587\u001b[0m         \u001b[1;32mif\u001b[0m \u001b[0mmode\u001b[0m \u001b[1;33m==\u001b[0m \u001b[1;34m'list'\u001b[0m\u001b[1;33m:\u001b[0m\u001b[1;33m\u001b[0m\u001b[0m\n\u001b[1;32m--> 588\u001b[1;33m             \u001b[1;32mreturn\u001b[0m \u001b[1;33m[\u001b[0m\u001b[0mself\u001b[0m\u001b[1;33m.\u001b[0m\u001b[0mlights_by_id\u001b[0m\u001b[1;33m[\u001b[0m\u001b[0mx\u001b[0m\u001b[1;33m]\u001b[0m \u001b[1;32mfor\u001b[0m \u001b[0mx\u001b[0m \u001b[1;32min\u001b[0m \u001b[0mrange\u001b[0m\u001b[1;33m(\u001b[0m\u001b[1;36m1\u001b[0m\u001b[1;33m,\u001b[0m \u001b[0mlen\u001b[0m\u001b[1;33m(\u001b[0m\u001b[0mself\u001b[0m\u001b[1;33m.\u001b[0m\u001b[0mlights_by_id\u001b[0m\u001b[1;33m)\u001b[0m \u001b[1;33m+\u001b[0m \u001b[1;36m1\u001b[0m\u001b[1;33m)\u001b[0m\u001b[1;33m]\u001b[0m\u001b[1;33m\u001b[0m\u001b[0m\n\u001b[0m\u001b[0;32m    589\u001b[0m \u001b[1;33m\u001b[0m\u001b[0m\n\u001b[0;32m    590\u001b[0m     \u001b[1;32mdef\u001b[0m \u001b[0m__getitem__\u001b[0m\u001b[1;33m(\u001b[0m\u001b[0mself\u001b[0m\u001b[1;33m,\u001b[0m \u001b[0mkey\u001b[0m\u001b[1;33m)\u001b[0m\u001b[1;33m:\u001b[0m\u001b[1;33m\u001b[0m\u001b[0m\n",
      "\u001b[1;31mKeyError\u001b[0m: 2"
     ]
    }
   ],
   "source": [
    "lights = b.get_light_objects()"
   ]
  },
  {
   "cell_type": "code",
   "execution_count": 24,
   "metadata": {},
   "outputs": [],
   "source": [
    "lights = b.lights_by_id"
   ]
  },
  {
   "cell_type": "code",
   "execution_count": 26,
   "metadata": {},
   "outputs": [],
   "source": [
    "l = lights[1]"
   ]
  },
  {
   "cell_type": "code",
   "execution_count": 31,
   "metadata": {
    "collapsed": true
   },
   "outputs": [],
   "source": [
    "import time"
   ]
  },
  {
   "cell_type": "markdown",
   "metadata": {},
   "source": [
    "Color loop on all lamps"
   ]
  },
  {
   "cell_type": "code",
   "execution_count": 97,
   "metadata": {
    "scrolled": true
   },
   "outputs": [],
   "source": [
    "for k, v in b.lights_by_id.items():\n",
    "    try:\n",
    "        v.effect = 'none'#'colorloop'\n",
    "    except Exception as e:\n",
    "        print(e)\n",
    "    #time.sleep(0.1)"
   ]
  },
  {
   "cell_type": "code",
   "execution_count": 62,
   "metadata": {},
   "outputs": [],
   "source": [
    "lnames = {l.name:l for l in lights}"
   ]
  },
  {
   "cell_type": "code",
   "execution_count": 94,
   "metadata": {},
   "outputs": [
    {
     "ename": "KeyboardInterrupt",
     "evalue": "",
     "output_type": "error",
     "traceback": [
      "\u001b[1;31m---------------------------------------------------------------------------\u001b[0m",
      "\u001b[1;31mKeyboardInterrupt\u001b[0m                         Traceback (most recent call last)",
      "\u001b[1;32m<ipython-input-94-487d802efb58>\u001b[0m in \u001b[0;36m<module>\u001b[1;34m()\u001b[0m\n\u001b[0;32m      5\u001b[0m         \u001b[0mv\u001b[0m\u001b[1;33m.\u001b[0m\u001b[0mbrightness\u001b[0m \u001b[1;33m=\u001b[0m \u001b[1;36m255\u001b[0m\u001b[1;33m\u001b[0m\u001b[0m\n\u001b[0;32m      6\u001b[0m         \u001b[1;31m#v.hue=1\u001b[0m\u001b[1;33m\u001b[0m\u001b[1;33m\u001b[0m\u001b[0m\n\u001b[1;32m----> 7\u001b[1;33m         \u001b[0mtime\u001b[0m\u001b[1;33m.\u001b[0m\u001b[0msleep\u001b[0m\u001b[1;33m(\u001b[0m\u001b[1;36m0.3\u001b[0m\u001b[1;33m)\u001b[0m\u001b[1;33m\u001b[0m\u001b[0m\n\u001b[0m\u001b[0;32m      8\u001b[0m         \u001b[0mv\u001b[0m\u001b[1;33m.\u001b[0m\u001b[0mbrightness\u001b[0m \u001b[1;33m=\u001b[0m \u001b[1;36m0\u001b[0m\u001b[1;33m\u001b[0m\u001b[0m\n\u001b[0;32m      9\u001b[0m         \u001b[1;31m#v.hue=255\u001b[0m\u001b[1;33m\u001b[0m\u001b[1;33m\u001b[0m\u001b[0m\n",
      "\u001b[1;31mKeyboardInterrupt\u001b[0m: "
     ]
    }
   ],
   "source": [
    "for i in range(20):\n",
    "    for i in range(19):\n",
    "        v = lnames['P%d'%(i+1)]\n",
    "        v.xy = c.rgbToCIE1931(1.0,0.0,0.0)\n",
    "        v.brightness = 255\n",
    "        #v.hue=1\n",
    "        time.sleep(0.3)\n",
    "        v.brightness = 0\n",
    "        #v.hue=255\n",
    "        v.xy = c.rgbToCIE1931(1.0,1.0,1.0)\n",
    "        time.sleep(0.1)\n",
    "\n",
    "\n",
    "    #time.sleep(0.01)"
   ]
  },
  {
   "cell_type": "code",
   "execution_count": 98,
   "metadata": {},
   "outputs": [],
   "source": [
    "for k, la in lnames.items():\n",
    "    la.xy = c.rgbToCIE1931(1.0,1.0,1.0)\n",
    "    la.brightness = 255\n",
    "    #la.hue=1\n",
    "    time.sleep(0.1)"
   ]
  },
  {
   "cell_type": "code",
   "execution_count": 41,
   "metadata": {},
   "outputs": [
    {
     "name": "stderr",
     "output_type": "stream",
     "text": [
      "WARNING:phue:ERROR: parameter, bri, is not modifiable. Device is set to off. for light 1\n"
     ]
    },
    {
     "ename": "KeyboardInterrupt",
     "evalue": "",
     "output_type": "error",
     "traceback": [
      "\u001b[1;31m---------------------------------------------------------------------------\u001b[0m",
      "\u001b[1;31mKeyboardInterrupt\u001b[0m                         Traceback (most recent call last)",
      "\u001b[1;32m<ipython-input-41-a33529c1fa83>\u001b[0m in \u001b[0;36m<module>\u001b[1;34m()\u001b[0m\n\u001b[0;32m     13\u001b[0m         \u001b[0mc\u001b[0m\u001b[1;33m[\u001b[0m\u001b[0mi\u001b[0m\u001b[1;33m]\u001b[0m \u001b[1;33m=\u001b[0m \u001b[0mmin\u001b[0m\u001b[1;33m(\u001b[0m\u001b[1;36m1.\u001b[0m\u001b[1;33m,\u001b[0m \u001b[0mmax\u001b[0m\u001b[1;33m(\u001b[0m\u001b[1;36m0.\u001b[0m\u001b[1;33m,\u001b[0m \u001b[0mc\u001b[0m\u001b[1;33m[\u001b[0m\u001b[0mi\u001b[0m\u001b[1;33m]\u001b[0m \u001b[1;33m+\u001b[0m \u001b[1;33m(\u001b[0m\u001b[1;36m0.5\u001b[0m\u001b[1;33m-\u001b[0m\u001b[0mrandom\u001b[0m\u001b[1;33m.\u001b[0m\u001b[0mrandom\u001b[0m\u001b[1;33m(\u001b[0m\u001b[1;33m)\u001b[0m\u001b[1;33m)\u001b[0m \u001b[1;33m*\u001b[0m \u001b[1;36m0.1\u001b[0m \u001b[1;33m)\u001b[0m\u001b[1;33m)\u001b[0m\u001b[1;33m\u001b[0m\u001b[0m\n\u001b[0;32m     14\u001b[0m         \u001b[0md\u001b[0m\u001b[1;33m[\u001b[0m\u001b[0mi\u001b[0m\u001b[1;33m]\u001b[0m \u001b[1;33m=\u001b[0m \u001b[0mmin\u001b[0m\u001b[1;33m(\u001b[0m\u001b[1;36m1.\u001b[0m\u001b[1;33m,\u001b[0m \u001b[0mmax\u001b[0m\u001b[1;33m(\u001b[0m\u001b[1;36m0.\u001b[0m\u001b[1;33m,\u001b[0m \u001b[0md\u001b[0m\u001b[1;33m[\u001b[0m\u001b[0mi\u001b[0m\u001b[1;33m]\u001b[0m \u001b[1;33m+\u001b[0m \u001b[1;33m(\u001b[0m\u001b[1;36m0.5\u001b[0m\u001b[1;33m-\u001b[0m\u001b[0mrandom\u001b[0m\u001b[1;33m.\u001b[0m\u001b[0mrandom\u001b[0m\u001b[1;33m(\u001b[0m\u001b[1;33m)\u001b[0m\u001b[1;33m)\u001b[0m \u001b[1;33m*\u001b[0m \u001b[1;36m0.1\u001b[0m \u001b[1;33m)\u001b[0m\u001b[1;33m)\u001b[0m\u001b[1;33m\u001b[0m\u001b[0m\n\u001b[1;32m---> 15\u001b[1;33m         \u001b[0mlight\u001b[0m\u001b[1;33m.\u001b[0m\u001b[0mxy\u001b[0m \u001b[1;33m=\u001b[0m \u001b[0mc\u001b[0m\u001b[1;33m[\u001b[0m\u001b[0mi\u001b[0m\u001b[1;33m]\u001b[0m\u001b[1;33m,\u001b[0m \u001b[0md\u001b[0m\u001b[1;33m[\u001b[0m\u001b[0mi\u001b[0m\u001b[1;33m]\u001b[0m\u001b[1;33m\u001b[0m\u001b[0m\n\u001b[0m\u001b[0;32m     16\u001b[0m         \u001b[1;31m#print(i, c[i], d[i])\u001b[0m\u001b[1;33m\u001b[0m\u001b[1;33m\u001b[0m\u001b[0m\n\u001b[0;32m     17\u001b[0m         \u001b[0msleep\u001b[0m\u001b[1;33m(\u001b[0m\u001b[1;36m0.011\u001b[0m\u001b[1;33m)\u001b[0m\u001b[1;33m\u001b[0m\u001b[0m\n",
      "\u001b[1;32m/home/pi/.local/lib/python3.4/site-packages/phue.py\u001b[0m in \u001b[0;36mxy\u001b[1;34m(self, value)\u001b[0m\n\u001b[0;32m    219\u001b[0m     \u001b[1;32mdef\u001b[0m \u001b[0mxy\u001b[0m\u001b[1;33m(\u001b[0m\u001b[0mself\u001b[0m\u001b[1;33m,\u001b[0m \u001b[0mvalue\u001b[0m\u001b[1;33m)\u001b[0m\u001b[1;33m:\u001b[0m\u001b[1;33m\u001b[0m\u001b[0m\n\u001b[0;32m    220\u001b[0m         \u001b[0mself\u001b[0m\u001b[1;33m.\u001b[0m\u001b[0m_xy\u001b[0m \u001b[1;33m=\u001b[0m \u001b[0mvalue\u001b[0m\u001b[1;33m\u001b[0m\u001b[0m\n\u001b[1;32m--> 221\u001b[1;33m         \u001b[0mself\u001b[0m\u001b[1;33m.\u001b[0m\u001b[0m_set\u001b[0m\u001b[1;33m(\u001b[0m\u001b[1;34m'xy'\u001b[0m\u001b[1;33m,\u001b[0m \u001b[0mself\u001b[0m\u001b[1;33m.\u001b[0m\u001b[0m_xy\u001b[0m\u001b[1;33m)\u001b[0m\u001b[1;33m\u001b[0m\u001b[0m\n\u001b[0m\u001b[0;32m    222\u001b[0m \u001b[1;33m\u001b[0m\u001b[0m\n\u001b[0;32m    223\u001b[0m     \u001b[1;33m@\u001b[0m\u001b[0mproperty\u001b[0m\u001b[1;33m\u001b[0m\u001b[0m\n",
      "\u001b[1;32m/home/pi/.local/lib/python3.4/site-packages/phue.py\u001b[0m in \u001b[0;36m_set\u001b[1;34m(self, *args, **kwargs)\u001b[0m\n\u001b[0;32m    104\u001b[0m                     kwargs.get('on', True) is False):\n\u001b[0;32m    105\u001b[0m                 \u001b[0mself\u001b[0m\u001b[1;33m.\u001b[0m\u001b[0m_reset_bri_after_on\u001b[0m \u001b[1;33m=\u001b[0m \u001b[1;32mTrue\u001b[0m\u001b[1;33m\u001b[0m\u001b[0m\n\u001b[1;32m--> 106\u001b[1;33m         \u001b[1;32mreturn\u001b[0m \u001b[0mself\u001b[0m\u001b[1;33m.\u001b[0m\u001b[0mbridge\u001b[0m\u001b[1;33m.\u001b[0m\u001b[0mset_light\u001b[0m\u001b[1;33m(\u001b[0m\u001b[0mself\u001b[0m\u001b[1;33m.\u001b[0m\u001b[0mlight_id\u001b[0m\u001b[1;33m,\u001b[0m \u001b[1;33m*\u001b[0m\u001b[0margs\u001b[0m\u001b[1;33m,\u001b[0m \u001b[1;33m**\u001b[0m\u001b[0mkwargs\u001b[0m\u001b[1;33m)\u001b[0m\u001b[1;33m\u001b[0m\u001b[0m\n\u001b[0m\u001b[0;32m    107\u001b[0m \u001b[1;33m\u001b[0m\u001b[0m\n\u001b[0;32m    108\u001b[0m     \u001b[1;33m@\u001b[0m\u001b[0mproperty\u001b[0m\u001b[1;33m\u001b[0m\u001b[0m\n",
      "\u001b[1;32m/home/pi/.local/lib/python3.4/site-packages/phue.py\u001b[0m in \u001b[0;36mset_light\u001b[1;34m(self, light_id, parameter, value, transitiontime)\u001b[0m\n\u001b[0;32m    682\u001b[0m                         \u001b[0mconverted_light\u001b[0m \u001b[1;33m=\u001b[0m \u001b[0mlight\u001b[0m\u001b[1;33m\u001b[0m\u001b[0m\n\u001b[0;32m    683\u001b[0m                 result.append(self.request('PUT', '/api/' + self.username + '/lights/' + str(\n\u001b[1;32m--> 684\u001b[1;33m                     converted_light) + '/state', json.dumps(data)))\n\u001b[0m\u001b[0;32m    685\u001b[0m             \u001b[1;32mif\u001b[0m \u001b[1;34m'error'\u001b[0m \u001b[1;32min\u001b[0m \u001b[0mlist\u001b[0m\u001b[1;33m(\u001b[0m\u001b[0mresult\u001b[0m\u001b[1;33m[\u001b[0m\u001b[1;33m-\u001b[0m\u001b[1;36m1\u001b[0m\u001b[1;33m]\u001b[0m\u001b[1;33m[\u001b[0m\u001b[1;36m0\u001b[0m\u001b[1;33m]\u001b[0m\u001b[1;33m.\u001b[0m\u001b[0mkeys\u001b[0m\u001b[1;33m(\u001b[0m\u001b[1;33m)\u001b[0m\u001b[1;33m)\u001b[0m\u001b[1;33m:\u001b[0m\u001b[1;33m\u001b[0m\u001b[0m\n\u001b[0;32m    686\u001b[0m                 logger.warn(\"ERROR: {0} for light {1}\".format(\n",
      "\u001b[1;32m/home/pi/.local/lib/python3.4/site-packages/phue.py\u001b[0m in \u001b[0;36mrequest\u001b[1;34m(self, mode, address, data)\u001b[0m\n\u001b[0;32m    457\u001b[0m                 \u001b[0mconnection\u001b[0m\u001b[1;33m.\u001b[0m\u001b[0mrequest\u001b[0m\u001b[1;33m(\u001b[0m\u001b[0mmode\u001b[0m\u001b[1;33m,\u001b[0m \u001b[0maddress\u001b[0m\u001b[1;33m)\u001b[0m\u001b[1;33m\u001b[0m\u001b[0m\n\u001b[0;32m    458\u001b[0m             \u001b[1;32mif\u001b[0m \u001b[0mmode\u001b[0m \u001b[1;33m==\u001b[0m \u001b[1;34m'PUT'\u001b[0m \u001b[1;32mor\u001b[0m \u001b[0mmode\u001b[0m \u001b[1;33m==\u001b[0m \u001b[1;34m'POST'\u001b[0m\u001b[1;33m:\u001b[0m\u001b[1;33m\u001b[0m\u001b[0m\n\u001b[1;32m--> 459\u001b[1;33m                 \u001b[0mconnection\u001b[0m\u001b[1;33m.\u001b[0m\u001b[0mrequest\u001b[0m\u001b[1;33m(\u001b[0m\u001b[0mmode\u001b[0m\u001b[1;33m,\u001b[0m \u001b[0maddress\u001b[0m\u001b[1;33m,\u001b[0m \u001b[0mdata\u001b[0m\u001b[1;33m)\u001b[0m\u001b[1;33m\u001b[0m\u001b[0m\n\u001b[0m\u001b[0;32m    460\u001b[0m \u001b[1;33m\u001b[0m\u001b[0m\n\u001b[0;32m    461\u001b[0m             \u001b[0mlogger\u001b[0m\u001b[1;33m.\u001b[0m\u001b[0mdebug\u001b[0m\u001b[1;33m(\u001b[0m\u001b[1;34m\"{0} {1} {2}\"\u001b[0m\u001b[1;33m.\u001b[0m\u001b[0mformat\u001b[0m\u001b[1;33m(\u001b[0m\u001b[0mmode\u001b[0m\u001b[1;33m,\u001b[0m \u001b[0maddress\u001b[0m\u001b[1;33m,\u001b[0m \u001b[0mstr\u001b[0m\u001b[1;33m(\u001b[0m\u001b[0mdata\u001b[0m\u001b[1;33m)\u001b[0m\u001b[1;33m)\u001b[0m\u001b[1;33m)\u001b[0m\u001b[1;33m\u001b[0m\u001b[0m\n",
      "\u001b[1;32m/usr/lib/python3.4/http/client.py\u001b[0m in \u001b[0;36mrequest\u001b[1;34m(self, method, url, body, headers)\u001b[0m\n\u001b[0;32m   1088\u001b[0m     \u001b[1;32mdef\u001b[0m \u001b[0mrequest\u001b[0m\u001b[1;33m(\u001b[0m\u001b[0mself\u001b[0m\u001b[1;33m,\u001b[0m \u001b[0mmethod\u001b[0m\u001b[1;33m,\u001b[0m \u001b[0murl\u001b[0m\u001b[1;33m,\u001b[0m \u001b[0mbody\u001b[0m\u001b[1;33m=\u001b[0m\u001b[1;32mNone\u001b[0m\u001b[1;33m,\u001b[0m \u001b[0mheaders\u001b[0m\u001b[1;33m=\u001b[0m\u001b[1;33m{\u001b[0m\u001b[1;33m}\u001b[0m\u001b[1;33m)\u001b[0m\u001b[1;33m:\u001b[0m\u001b[1;33m\u001b[0m\u001b[0m\n\u001b[0;32m   1089\u001b[0m         \u001b[1;34m\"\"\"Send a complete request to the server.\"\"\"\u001b[0m\u001b[1;33m\u001b[0m\u001b[0m\n\u001b[1;32m-> 1090\u001b[1;33m         \u001b[0mself\u001b[0m\u001b[1;33m.\u001b[0m\u001b[0m_send_request\u001b[0m\u001b[1;33m(\u001b[0m\u001b[0mmethod\u001b[0m\u001b[1;33m,\u001b[0m \u001b[0murl\u001b[0m\u001b[1;33m,\u001b[0m \u001b[0mbody\u001b[0m\u001b[1;33m,\u001b[0m \u001b[0mheaders\u001b[0m\u001b[1;33m)\u001b[0m\u001b[1;33m\u001b[0m\u001b[0m\n\u001b[0m\u001b[0;32m   1091\u001b[0m \u001b[1;33m\u001b[0m\u001b[0m\n\u001b[0;32m   1092\u001b[0m     \u001b[1;32mdef\u001b[0m \u001b[0m_set_content_length\u001b[0m\u001b[1;33m(\u001b[0m\u001b[0mself\u001b[0m\u001b[1;33m,\u001b[0m \u001b[0mbody\u001b[0m\u001b[1;33m)\u001b[0m\u001b[1;33m:\u001b[0m\u001b[1;33m\u001b[0m\u001b[0m\n",
      "\u001b[1;32m/usr/lib/python3.4/http/client.py\u001b[0m in \u001b[0;36m_send_request\u001b[1;34m(self, method, url, body, headers)\u001b[0m\n\u001b[0;32m   1126\u001b[0m             \u001b[1;31m# default charset of iso-8859-1.\u001b[0m\u001b[1;33m\u001b[0m\u001b[1;33m\u001b[0m\u001b[0m\n\u001b[0;32m   1127\u001b[0m             \u001b[0mbody\u001b[0m \u001b[1;33m=\u001b[0m \u001b[0mbody\u001b[0m\u001b[1;33m.\u001b[0m\u001b[0mencode\u001b[0m\u001b[1;33m(\u001b[0m\u001b[1;34m'iso-8859-1'\u001b[0m\u001b[1;33m)\u001b[0m\u001b[1;33m\u001b[0m\u001b[0m\n\u001b[1;32m-> 1128\u001b[1;33m         \u001b[0mself\u001b[0m\u001b[1;33m.\u001b[0m\u001b[0mendheaders\u001b[0m\u001b[1;33m(\u001b[0m\u001b[0mbody\u001b[0m\u001b[1;33m)\u001b[0m\u001b[1;33m\u001b[0m\u001b[0m\n\u001b[0m\u001b[0;32m   1129\u001b[0m \u001b[1;33m\u001b[0m\u001b[0m\n\u001b[0;32m   1130\u001b[0m     \u001b[1;32mdef\u001b[0m \u001b[0mgetresponse\u001b[0m\u001b[1;33m(\u001b[0m\u001b[0mself\u001b[0m\u001b[1;33m)\u001b[0m\u001b[1;33m:\u001b[0m\u001b[1;33m\u001b[0m\u001b[0m\n",
      "\u001b[1;32m/usr/lib/python3.4/http/client.py\u001b[0m in \u001b[0;36mendheaders\u001b[1;34m(self, message_body)\u001b[0m\n\u001b[0;32m   1084\u001b[0m         \u001b[1;32melse\u001b[0m\u001b[1;33m:\u001b[0m\u001b[1;33m\u001b[0m\u001b[0m\n\u001b[0;32m   1085\u001b[0m             \u001b[1;32mraise\u001b[0m \u001b[0mCannotSendHeader\u001b[0m\u001b[1;33m(\u001b[0m\u001b[1;33m)\u001b[0m\u001b[1;33m\u001b[0m\u001b[0m\n\u001b[1;32m-> 1086\u001b[1;33m         \u001b[0mself\u001b[0m\u001b[1;33m.\u001b[0m\u001b[0m_send_output\u001b[0m\u001b[1;33m(\u001b[0m\u001b[0mmessage_body\u001b[0m\u001b[1;33m)\u001b[0m\u001b[1;33m\u001b[0m\u001b[0m\n\u001b[0m\u001b[0;32m   1087\u001b[0m \u001b[1;33m\u001b[0m\u001b[0m\n\u001b[0;32m   1088\u001b[0m     \u001b[1;32mdef\u001b[0m \u001b[0mrequest\u001b[0m\u001b[1;33m(\u001b[0m\u001b[0mself\u001b[0m\u001b[1;33m,\u001b[0m \u001b[0mmethod\u001b[0m\u001b[1;33m,\u001b[0m \u001b[0murl\u001b[0m\u001b[1;33m,\u001b[0m \u001b[0mbody\u001b[0m\u001b[1;33m=\u001b[0m\u001b[1;32mNone\u001b[0m\u001b[1;33m,\u001b[0m \u001b[0mheaders\u001b[0m\u001b[1;33m=\u001b[0m\u001b[1;33m{\u001b[0m\u001b[1;33m}\u001b[0m\u001b[1;33m)\u001b[0m\u001b[1;33m:\u001b[0m\u001b[1;33m\u001b[0m\u001b[0m\n",
      "\u001b[1;32m/usr/lib/python3.4/http/client.py\u001b[0m in \u001b[0;36m_send_output\u001b[1;34m(self, message_body)\u001b[0m\n\u001b[0;32m    922\u001b[0m             \u001b[0mmsg\u001b[0m \u001b[1;33m+=\u001b[0m \u001b[0mmessage_body\u001b[0m\u001b[1;33m\u001b[0m\u001b[0m\n\u001b[0;32m    923\u001b[0m             \u001b[0mmessage_body\u001b[0m \u001b[1;33m=\u001b[0m \u001b[1;32mNone\u001b[0m\u001b[1;33m\u001b[0m\u001b[0m\n\u001b[1;32m--> 924\u001b[1;33m         \u001b[0mself\u001b[0m\u001b[1;33m.\u001b[0m\u001b[0msend\u001b[0m\u001b[1;33m(\u001b[0m\u001b[0mmsg\u001b[0m\u001b[1;33m)\u001b[0m\u001b[1;33m\u001b[0m\u001b[0m\n\u001b[0m\u001b[0;32m    925\u001b[0m         \u001b[1;32mif\u001b[0m \u001b[0mmessage_body\u001b[0m \u001b[1;32mis\u001b[0m \u001b[1;32mnot\u001b[0m \u001b[1;32mNone\u001b[0m\u001b[1;33m:\u001b[0m\u001b[1;33m\u001b[0m\u001b[0m\n\u001b[0;32m    926\u001b[0m             \u001b[1;31m# message_body was not a string (i.e. it is a file), and\u001b[0m\u001b[1;33m\u001b[0m\u001b[1;33m\u001b[0m\u001b[0m\n",
      "\u001b[1;32m/usr/lib/python3.4/http/client.py\u001b[0m in \u001b[0;36msend\u001b[1;34m(self, data)\u001b[0m\n\u001b[0;32m    857\u001b[0m         \u001b[1;32mif\u001b[0m \u001b[0mself\u001b[0m\u001b[1;33m.\u001b[0m\u001b[0msock\u001b[0m \u001b[1;32mis\u001b[0m \u001b[1;32mNone\u001b[0m\u001b[1;33m:\u001b[0m\u001b[1;33m\u001b[0m\u001b[0m\n\u001b[0;32m    858\u001b[0m             \u001b[1;32mif\u001b[0m \u001b[0mself\u001b[0m\u001b[1;33m.\u001b[0m\u001b[0mauto_open\u001b[0m\u001b[1;33m:\u001b[0m\u001b[1;33m\u001b[0m\u001b[0m\n\u001b[1;32m--> 859\u001b[1;33m                 \u001b[0mself\u001b[0m\u001b[1;33m.\u001b[0m\u001b[0mconnect\u001b[0m\u001b[1;33m(\u001b[0m\u001b[1;33m)\u001b[0m\u001b[1;33m\u001b[0m\u001b[0m\n\u001b[0m\u001b[0;32m    860\u001b[0m             \u001b[1;32melse\u001b[0m\u001b[1;33m:\u001b[0m\u001b[1;33m\u001b[0m\u001b[0m\n\u001b[0;32m    861\u001b[0m                 \u001b[1;32mraise\u001b[0m \u001b[0mNotConnected\u001b[0m\u001b[1;33m(\u001b[0m\u001b[1;33m)\u001b[0m\u001b[1;33m\u001b[0m\u001b[0m\n",
      "\u001b[1;32m/usr/lib/python3.4/http/client.py\u001b[0m in \u001b[0;36mconnect\u001b[1;34m(self)\u001b[0m\n\u001b[0;32m    834\u001b[0m         \u001b[1;34m\"\"\"Connect to the host and port specified in __init__.\"\"\"\u001b[0m\u001b[1;33m\u001b[0m\u001b[0m\n\u001b[0;32m    835\u001b[0m         self.sock = self._create_connection((self.host,self.port),\n\u001b[1;32m--> 836\u001b[1;33m                                             self.timeout, self.source_address)\n\u001b[0m\u001b[0;32m    837\u001b[0m \u001b[1;33m\u001b[0m\u001b[0m\n\u001b[0;32m    838\u001b[0m         \u001b[1;32mif\u001b[0m \u001b[0mself\u001b[0m\u001b[1;33m.\u001b[0m\u001b[0m_tunnel_host\u001b[0m\u001b[1;33m:\u001b[0m\u001b[1;33m\u001b[0m\u001b[0m\n",
      "\u001b[1;32m/usr/lib/python3.4/socket.py\u001b[0m in \u001b[0;36mcreate_connection\u001b[1;34m(address, timeout, source_address)\u001b[0m\n\u001b[0;32m    498\u001b[0m             \u001b[1;32mif\u001b[0m \u001b[0msource_address\u001b[0m\u001b[1;33m:\u001b[0m\u001b[1;33m\u001b[0m\u001b[0m\n\u001b[0;32m    499\u001b[0m                 \u001b[0msock\u001b[0m\u001b[1;33m.\u001b[0m\u001b[0mbind\u001b[0m\u001b[1;33m(\u001b[0m\u001b[0msource_address\u001b[0m\u001b[1;33m)\u001b[0m\u001b[1;33m\u001b[0m\u001b[0m\n\u001b[1;32m--> 500\u001b[1;33m             \u001b[0msock\u001b[0m\u001b[1;33m.\u001b[0m\u001b[0mconnect\u001b[0m\u001b[1;33m(\u001b[0m\u001b[0msa\u001b[0m\u001b[1;33m)\u001b[0m\u001b[1;33m\u001b[0m\u001b[0m\n\u001b[0m\u001b[0;32m    501\u001b[0m             \u001b[1;32mreturn\u001b[0m \u001b[0msock\u001b[0m\u001b[1;33m\u001b[0m\u001b[0m\n\u001b[0;32m    502\u001b[0m \u001b[1;33m\u001b[0m\u001b[0m\n",
      "\u001b[1;31mKeyboardInterrupt\u001b[0m: "
     ]
    }
   ],
   "source": [
    "\n",
    "lights = [b.lights_by_id[i] for i in b.lights_by_id.keys()]\n",
    "\n",
    "\n",
    "c = 0.5 * ones([len(lights)])\n",
    "d = 0.5 * ones([len(lights)])\n",
    "\n",
    "for i in range(100):\n",
    "    for i, light in enumerate(lights):\n",
    "        #if i==4:\n",
    "        light.brightness = 254\n",
    "        light.transitiontime = 1\n",
    "        c[i] = min(1., max(0., c[i] + (0.5-random.random()) * 0.1 ))\n",
    "        d[i] = min(1., max(0., d[i] + (0.5-random.random()) * 0.1 ))\n",
    "        light.xy = c[i], d[i]\n",
    "        #print(i, c[i], d[i])\n",
    "        sleep(0.011)\n",
    "#\n",
    "#stop"
   ]
  },
  {
   "cell_type": "code",
   "execution_count": 91,
   "metadata": {},
   "outputs": [
    {
     "name": "stderr",
     "output_type": "stream",
     "text": [
      "/home/pi/.local/lib/python3.4/site-packages/matplotlib/font_manager.py:273: UserWarning: Matplotlib is building the font cache using fc-list. This may take a moment.\n",
      "  warnings.warn('Matplotlib is building the font cache using fc-list. This may take a moment.')\n",
      "/home/pi/.local/lib/python3.4/site-packages/matplotlib/font_manager.py:273: UserWarning: Matplotlib is building the font cache using fc-list. This may take a moment.\n",
      "  warnings.warn('Matplotlib is building the font cache using fc-list. This may take a moment.')\n"
     ]
    }
   ],
   "source": [
    "%matplotlib inline\n",
    "import numpy as np\n",
    "import matplotlib.pyplot as plt"
   ]
  },
  {
   "cell_type": "markdown",
   "metadata": {},
   "source": [
    "Plot all the colormaps in matplotlib"
   ]
  },
  {
   "cell_type": "code",
   "execution_count": 92,
   "metadata": {},
   "outputs": [
    {
     "data": {
      "image/png": "[encoded data removed]",
      "text/plain": [
       "<matplotlib.figure.Figure at 0x704fb310>"
      ]
     },
     "metadata": {},
     "output_type": "display_data"
    },
    {
     "data": {
      "image/png": "[encoded data removed]",
      "text/plain": [
       "<matplotlib.figure.Figure at 0x701f0090>"
      ]
     },
     "metadata": {},
     "output_type": "display_data"
    },
    {
     "data": {
      "image/png": "[encoded data removed]",
      "text/plain": [
       "<matplotlib.figure.Figure at 0x6ff6d950>"
      ]
     },
     "metadata": {},
     "output_type": "display_data"
    }
   ],
   "source": [
    "cmaps = [('Sequential',     ['Blues', 'BuGn', 'BuPu',\n",
    "                             'GnBu', 'Greens', 'Greys', 'Oranges', 'OrRd',\n",
    "                             'PuBu', 'PuBuGn', 'PuRd', 'Purples', 'RdPu',\n",
    "                             'Reds', 'YlGn', 'YlGnBu', 'YlOrBr', 'YlOrRd']),\n",
    "         ('Sequential (2)', ['afmhot', 'autumn', 'bone', 'cool', 'copper',\n",
    "                             'gist_heat', 'gray', 'hot', 'pink',\n",
    "                             'spring', 'summer', 'winter']),\n",
    "#         ('Diverging',      ['BrBG', 'bwr', 'coolwarm', 'PiYG', 'PRGn', 'PuOr',\n",
    "#                             'RdBu', 'RdGy', 'RdYlBu', 'RdYlGn', 'Spectral',\n",
    "#                             'seismic']),\n",
    "         ('Qualitative',    ['Accent', 'Dark2', 'Paired', 'Pastel1',\n",
    "                             'Pastel2', 'Set1', 'Set2', 'Set3']),\n",
    "#         ('Miscellaneous',  ['gist_earth', 'terrain', 'ocean', 'gist_stern',\n",
    "#                             'brg', 'CMRmap', 'cubehelix',\n",
    "#                             'gnuplot', 'gnuplot2', 'gist_ncar',\n",
    "#                             'nipy_spectral', 'jet', 'rainbow',\n",
    "#                             'gist_rainbow', 'hsv', 'flag', 'prism'])\n",
    "        ]\n",
    "\n",
    "\n",
    "nrows = max(len(cmap_list) for cmap_category, cmap_list in cmaps)\n",
    "gradient = np.linspace(0, 1, 256)\n",
    "gradient = np.vstack((gradient, gradient))\n",
    "\n",
    "def plot_color_gradients(cmap_category, cmap_list):\n",
    "    fig, axes = plt.subplots(nrows=nrows)\n",
    "    fig.subplots_adjust(top=0.95, bottom=0.01, left=0.2, right=0.99)\n",
    "    axes[0].set_title(cmap_category + ' colormaps', fontsize=14)\n",
    "\n",
    "    for ax, name in zip(axes, cmap_list):\n",
    "        ax.imshow(gradient, aspect='auto', cmap=plt.get_cmap(name))\n",
    "        pos = list(ax.get_position().bounds)\n",
    "        x_text = pos[0] - 0.01\n",
    "        y_text = pos[1] + pos[3]/2.\n",
    "        fig.text(x_text, y_text, name, va='center', ha='right', fontsize=10)\n",
    "\n",
    "    # Turn off *all* ticks & spines, not just the ones with colormaps.\n",
    "    for ax in axes:\n",
    "        ax.set_axis_off()\n",
    "\n",
    "for cmap_category, cmap_list in cmaps:\n",
    "    plot_color_gradients(cmap_category, cmap_list)\n",
    "\n",
    "plt.show()"
   ]
  },
  {
   "cell_type": "markdown",
   "metadata": {},
   "source": [
    "#### How to get a RGB froma value between 0.0 and 1.0:"
   ]
  },
  {
   "cell_type": "code",
   "execution_count": 93,
   "metadata": {},
   "outputs": [
    {
     "data": {
      "text/plain": [
       "(0.29897110136087113, 0.0, 0.0, 1.0)"
      ]
     },
     "execution_count": 93,
     "metadata": {},
     "output_type": "execute_result"
    }
   ],
   "source": [
    "cm = plt.get_cmap('hot')\n",
    "#cm?\n",
    "cm(0.1)"
   ]
  },
  {
   "cell_type": "markdown",
   "metadata": {},
   "source": [
    "The `cm` command gives a tuple of 4 (R,G,B,A)"
   ]
  },
  {
   "cell_type": "markdown",
   "metadata": {},
   "source": [
    "#### Conver RGB to Hue color code"
   ]
  },
  {
   "cell_type": "markdown",
   "metadata": {},
   "source": [
    "Now lets convert that to CIE1931, the color code that Hue can understand. There is a python library that does that nicely: [rgb_cie](https://github.com/benknight/hue-python-rgb-converter/blob/master/rgb_cie.py). "
   ]
  },
  {
   "cell_type": "code",
   "execution_count": 83,
   "metadata": {
    "collapsed": true
   },
   "outputs": [],
   "source": [
    "from rgb_cie import Converter\n",
    "c = Converter()"
   ]
  },
  {
   "cell_type": "code",
   "execution_count": 84,
   "metadata": {},
   "outputs": [
    {
     "ename": "NameError",
     "evalue": "name 'cm' is not defined",
     "output_type": "error",
     "traceback": [
      "\u001b[1;31m---------------------------------------------------------------------------\u001b[0m",
      "\u001b[1;31mNameError\u001b[0m                                 Traceback (most recent call last)",
      "\u001b[1;32m<ipython-input-84-1eb76ad7e4ba>\u001b[0m in \u001b[0;36m<module>\u001b[1;34m()\u001b[0m\n\u001b[1;32m----> 1\u001b[1;33m \u001b[0mR\u001b[0m\u001b[1;33m,\u001b[0m \u001b[0mG\u001b[0m\u001b[1;33m,\u001b[0m \u001b[0mB\u001b[0m\u001b[1;33m,\u001b[0m \u001b[0mA\u001b[0m \u001b[1;33m=\u001b[0m \u001b[0mcm\u001b[0m\u001b[1;33m(\u001b[0m\u001b[1;36m0.1\u001b[0m\u001b[1;33m)\u001b[0m\u001b[1;33m\u001b[0m\u001b[0m\n\u001b[0m\u001b[0;32m      2\u001b[0m \u001b[0mX\u001b[0m\u001b[1;33m,\u001b[0m \u001b[0mY\u001b[0m \u001b[1;33m=\u001b[0m \u001b[0mc\u001b[0m\u001b[1;33m.\u001b[0m\u001b[0mrgbToCIE1931\u001b[0m\u001b[1;33m(\u001b[0m\u001b[0mR\u001b[0m\u001b[1;33m,\u001b[0m\u001b[0mG\u001b[0m\u001b[1;33m,\u001b[0m\u001b[0mB\u001b[0m\u001b[1;33m)\u001b[0m\u001b[1;33m\u001b[0m\u001b[0m\n\u001b[0;32m      3\u001b[0m \u001b[0mprint\u001b[0m\u001b[1;33m(\u001b[0m\u001b[1;34m'(R:%2.2f, G:%2.2f, B:%2.2f) == (X:%2.2f, Y:%2.2f)'\u001b[0m\u001b[1;33m%\u001b[0m\u001b[1;33m(\u001b[0m\u001b[0mR\u001b[0m\u001b[1;33m,\u001b[0m\u001b[0mG\u001b[0m\u001b[1;33m,\u001b[0m\u001b[0mB\u001b[0m\u001b[1;33m,\u001b[0m\u001b[0mX\u001b[0m\u001b[1;33m,\u001b[0m\u001b[0mY\u001b[0m\u001b[1;33m)\u001b[0m\u001b[1;33m)\u001b[0m\u001b[1;33m\u001b[0m\u001b[0m\n",
      "\u001b[1;31mNameError\u001b[0m: name 'cm' is not defined"
     ]
    }
   ],
   "source": [
    "R, G, B, A = cm(0.1)\n",
    "X, Y = c.rgbToCIE1931(R,G,B)\n",
    "print('(R:%2.2f, G:%2.2f, B:%2.2f) == (X:%2.2f, Y:%2.2f)'%(R,G,B,X,Y))"
   ]
  },
  {
   "cell_type": "markdown",
   "metadata": {},
   "source": [
    "A bit more compact"
   ]
  },
  {
   "cell_type": "code",
   "execution_count": null,
   "metadata": {},
   "outputs": [],
   "source": [
    "c.rgbToCIE1931(*cm(0.1)[:3])"
   ]
  },
  {
   "cell_type": "markdown",
   "metadata": {},
   "source": [
    "a nice little lambda function"
   ]
  },
  {
   "cell_type": "code",
   "execution_count": 17,
   "metadata": {
    "collapsed": true
   },
   "outputs": [],
   "source": [
    "mapxy = lambda colormap: lambda val: c.rgbToCIE1931(*plt.get_cmap(colormap)(val)[:3])"
   ]
  },
  {
   "cell_type": "code",
   "execution_count": 18,
   "metadata": {},
   "outputs": [
    {
     "data": {
      "text/plain": [
       "[0.64842722368721184, 0.330856101472778]"
      ]
     },
     "execution_count": 18,
     "metadata": {},
     "output_type": "execute_result"
    }
   ],
   "source": [
    "mapxy('hot')(0.1)"
   ]
  },
  {
   "cell_type": "code",
   "execution_count": 19,
   "metadata": {},
   "outputs": [
    {
     "data": {
      "text/plain": [
       "[0.64842722368721184, 0.330856101472778]"
      ]
     },
     "execution_count": 19,
     "metadata": {},
     "output_type": "execute_result"
    }
   ],
   "source": [
    "cmxy = mapxy('hot')\n",
    "cmxy(0.1)"
   ]
  },
  {
   "cell_type": "markdown",
   "metadata": {},
   "source": [
    "tqdm is just a neat function that show a progress bar in ipython"
   ]
  },
  {
   "cell_type": "code",
   "execution_count": 20,
   "metadata": {
    "collapsed": true
   },
   "outputs": [],
   "source": [
    "from tqdm import *"
   ]
  },
  {
   "cell_type": "markdown",
   "metadata": {},
   "source": [
    "Now lets make a "
   ]
  },
  {
   "cell_type": "code",
   "execution_count": 21,
   "metadata": {},
   "outputs": [
    {
     "name": "stderr",
     "output_type": "stream",
     "text": [
      "|----------| 6/100   6% [elapsed: 00:26 left: 06:59,  0.22 iters/sec]"
     ]
    },
    {
     "ename": "KeyboardInterrupt",
     "evalue": "",
     "output_type": "error",
     "traceback": [
      "\u001b[0;31m---------------------------------------------------------------------------\u001b[0m",
      "\u001b[0;31mKeyboardInterrupt\u001b[0m                         Traceback (most recent call last)",
      "\u001b[0;32m<ipython-input-21-09df8d10f87d>\u001b[0m in \u001b[0;36m<module>\u001b[0;34m()\u001b[0m\n\u001b[1;32m      8\u001b[0m         \u001b[0ml\u001b[0m\u001b[0;34m.\u001b[0m\u001b[0mtransitiontime\u001b[0m \u001b[0;34m=\u001b[0m \u001b[0;36m1.0\u001b[0m\u001b[0;34m\u001b[0m\u001b[0m\n\u001b[1;32m      9\u001b[0m         \u001b[0ml\u001b[0m\u001b[0;34m.\u001b[0m\u001b[0mxy\u001b[0m \u001b[0;34m=\u001b[0m \u001b[0mcmxy\u001b[0m\u001b[0;34m(\u001b[0m\u001b[0mi\u001b[0m\u001b[0;34m)\u001b[0m\u001b[0;34m\u001b[0m\u001b[0m\n\u001b[0;32m---> 10\u001b[0;31m         \u001b[0msleep\u001b[0m\u001b[0;34m(\u001b[0m\u001b[0;36m0.1\u001b[0m\u001b[0;34m)\u001b[0m\u001b[0;34m\u001b[0m\u001b[0m\n\u001b[0m",
      "\u001b[0;31mKeyboardInterrupt\u001b[0m: "
     ]
    }
   ],
   "source": [
    "cmxy = mapxy('jet')\n",
    "l = lights[4]\n",
    "l.brightness = 254\n",
    "l.transitiontime = 10.0\n",
    "for i in tqdm(np.linspace(0.,1., 100)):\n",
    "    for j, l in enumerate(lights):\n",
    "        l.brightness = 254\n",
    "        l.transitiontime = 1.0\n",
    "        l.xy = cmxy(i)\n",
    "        sleep(0.1)"
   ]
  },
  {
   "cell_type": "code",
   "execution_count": 22,
   "metadata": {},
   "outputs": [
    {
     "ename": "KeyboardInterrupt",
     "evalue": "",
     "output_type": "error",
     "traceback": [
      "\u001b[0;31m---------------------------------------------------------------------------\u001b[0m",
      "\u001b[0;31mKeyboardInterrupt\u001b[0m                         Traceback (most recent call last)",
      "\u001b[0;32m<ipython-input-22-f1dbf6623c3e>\u001b[0m in \u001b[0;36m<module>\u001b[0;34m()\u001b[0m\n\u001b[1;32m      3\u001b[0m     \u001b[0ml\u001b[0m\u001b[0;34m.\u001b[0m\u001b[0mtransitiontime\u001b[0m \u001b[0;34m=\u001b[0m \u001b[0;36m0.0001\u001b[0m\u001b[0;34m\u001b[0m\u001b[0m\n\u001b[1;32m      4\u001b[0m     \u001b[0ml\u001b[0m\u001b[0;34m.\u001b[0m\u001b[0mxy\u001b[0m \u001b[0;34m=\u001b[0m \u001b[0;34m(\u001b[0m\u001b[0;36m1.0\u001b[0m\u001b[0;34m,\u001b[0m\u001b[0;36m1.0\u001b[0m\u001b[0;34m)\u001b[0m\u001b[0;34m\u001b[0m\u001b[0m\n\u001b[0;32m----> 5\u001b[0;31m     \u001b[0msleep\u001b[0m\u001b[0;34m(\u001b[0m\u001b[0;36m2.0\u001b[0m\u001b[0;34m)\u001b[0m\u001b[0;34m\u001b[0m\u001b[0m\n\u001b[0m\u001b[1;32m      6\u001b[0m     \u001b[0ml\u001b[0m\u001b[0;34m.\u001b[0m\u001b[0mxy\u001b[0m \u001b[0;34m=\u001b[0m \u001b[0;34m(\u001b[0m\u001b[0;36m0.0\u001b[0m\u001b[0;34m,\u001b[0m\u001b[0;36m0.0\u001b[0m\u001b[0;34m)\u001b[0m\u001b[0;34m\u001b[0m\u001b[0m\n\u001b[1;32m      7\u001b[0m     \u001b[0ml\u001b[0m\u001b[0;34m.\u001b[0m\u001b[0mbrightness\u001b[0m \u001b[0;34m=\u001b[0m \u001b[0;36m1\u001b[0m\u001b[0;34m\u001b[0m\u001b[0m\n",
      "\u001b[0;31mKeyboardInterrupt\u001b[0m: "
     ]
    }
   ],
   "source": [
    "for j, l in enumerate(lights):\n",
    "    l.brightness = 254\n",
    "    l.transitiontime = 0.0001\n",
    "    l.xy = (1.0,1.0)\n",
    "    sleep(2.0)\n",
    "    l.xy = (0.0,0.0)\n",
    "    l.brightness = 1\n",
    "\n",
    "    "
   ]
  },
  {
   "cell_type": "code",
   "execution_count": 28,
   "metadata": {},
   "outputs": [
    {
     "data": {
      "text/plain": [
       "[<phue.Light object \"Hue Lamp 1\" at 0x1089b40f0>,\n",
       " <phue.Light object \"Hue Lamp 2\" at 0x1089b3c88>,\n",
       " <phue.Light object \"Hue Lamp 3\" at 0x1089b4208>,\n",
       " <phue.Light object \"c4\" at 0x1089b3eb8>,\n",
       " <phue.Light object \"Hue Lamp 5\" at 0x1089b3e48>,\n",
       " <phue.Light object \"Hue Lamp 6\" at 0x1089b4240>,\n",
       " <phue.Light object \"Hue Lamp 7\" at 0x1089b3cf8>,\n",
       " <phue.Light object \"c2\" at 0x1089b3da0>,\n",
       " <phue.Light object \"Hue Lamp 9\" at 0x1089b3cc0>,\n",
       " <phue.Light object \"b2\" at 0x1089b3f98>,\n",
       " <phue.Light object \"Hue Lamp 11\" at 0x1089b4048>,\n",
       " <phue.Light object \"c3\" at 0x10891b8d0>,\n",
       " <phue.Light object \"Hue Lamp 13\" at 0x1089b4320>,\n",
       " <phue.Light object \"a1\" at 0x1089b3ef0>,\n",
       " <phue.Light object \"a3\" at 0x1089b3fd0>,\n",
       " <phue.Light object \"a2\" at 0x1089b3e80>,\n",
       " <phue.Light object \"a4\" at 0x1089b4358>,\n",
       " <phue.Light object \"b3\" at 0x1089b4198>,\n",
       " <phue.Light object \"c1\" at 0x1089b3d68>,\n",
       " <phue.Light object \"b1\" at 0x10891b5f8>,\n",
       " <phue.Light object \"b4\" at 0x1089b4160>,\n",
       " <phue.Light object \"Hue Lamp 22\" at 0x1089b40b8>,\n",
       " <phue.Light object \"Hue Lamp 23\" at 0x1089b42b0>,\n",
       " <phue.Light object \"Hue Lamp 24\" at 0x10891bbe0>,\n",
       " <phue.Light object \"Hue Lamp 25\" at 0x1089b4278>,\n",
       " <phue.Light object \"Hue Lamp 26\" at 0x1089b41d0>,\n",
       " <phue.Light object \"Hue Lamp 27\" at 0x1089b3d30>,\n",
       " <phue.Light object \"Hue Lamp 28\" at 0x1089b3dd8>,\n",
       " <phue.Light object \"Hue Lamp 29\" at 0x1089b4080>,\n",
       " <phue.Light object \"Hue Lamp 30\" at 0x1089b3f28>,\n",
       " <phue.Light object \"Hue Lamp 31\" at 0x1089b3f60>,\n",
       " <phue.Light object \"Hue Lamp 32\" at 0x1089b42e8>,\n",
       " <phue.Light object \"Hue Lamp 33\" at 0x1089b3e10>,\n",
       " <phue.Light object \"Hue Lamp 34\" at 0x1089b4128>]"
      ]
     },
     "execution_count": 28,
     "metadata": {},
     "output_type": "execute_result"
    }
   ],
   "source": [
    "lights"
   ]
  },
  {
   "cell_type": "code",
   "execution_count": 92,
   "metadata": {},
   "outputs": [],
   "source": [
    "for ln in ['a1', 'a2', 'a3', 'a4', 'b4', 'b3', 'b2', 'b1','c1', 'c2', 'c3', 'c4']:\n",
    "    for l in lights:\n",
    "        if l.name == ln:\n",
    "            l.transitiontime = 0.0001\n",
    "            l.saturation = 254\n",
    "            l.brightness = 254\n",
    "            l.colortemp = 343\n",
    "            l.hue = 15327\n",
    "            sleep(0.5)\n",
    "            #l.xy = (0.0,0.0)\n",
    "            #l.brightness = 1\n"
   ]
  },
  {
   "cell_type": "code",
   "execution_count": 51,
   "metadata": {},
   "outputs": [],
   "source": [
    "def f(string):\n",
    "    return lights[[l.name for l in lights].index(string)]"
   ]
  },
  {
   "cell_type": "code",
   "execution_count": 89,
   "metadata": {},
   "outputs": [],
   "source": [
    "l = f('c2')\n",
    "l.saturation = 254\n",
    "l.brightness = 254\n",
    "l.colortemp = 343\n",
    "l.xy = (1.0,1.0)\n",
    "l.hue = 15327\n"
   ]
  },
  {
   "cell_type": "code",
   "execution_count": 58,
   "metadata": {},
   "outputs": [
    {
     "data": {
      "text/plain": [
       "{'_alert': None,\n",
       " '_brightness': 1,\n",
       " '_colormode': None,\n",
       " '_colortemp': None,\n",
       " '_effect': None,\n",
       " '_hue': None,\n",
       " '_name': 'c4',\n",
       " '_on': None,\n",
       " '_reset_bri_after_on': None,\n",
       " '_saturation': 254,\n",
       " '_xy': (0.0, 0.0),\n",
       " 'bridge': <phue.Bridge at 0x10891b898>,\n",
       " 'light_id': 4,\n",
       " 'transitiontime': 0.0001}"
      ]
     },
     "execution_count": 58,
     "metadata": {},
     "output_type": "execute_result"
    }
   ],
   "source": [
    "f('c4').__dict__"
   ]
  },
  {
   "cell_type": "code",
   "execution_count": 64,
   "metadata": {},
   "outputs": [
    {
     "data": {
      "text/plain": [
       "{'_alert': None,\n",
       " '_brightness': 1,\n",
       " '_colormode': None,\n",
       " '_colortemp': None,\n",
       " '_effect': None,\n",
       " '_hue': None,\n",
       " '_name': 'a4',\n",
       " '_on': None,\n",
       " '_reset_bri_after_on': None,\n",
       " '_saturation': 254,\n",
       " '_xy': (0.0, 0.0),\n",
       " 'bridge': <phue.Bridge at 0x10891b898>,\n",
       " 'light_id': 17,\n",
       " 'transitiontime': 0.0001}"
      ]
     },
     "execution_count": 64,
     "metadata": {},
     "output_type": "execute_result"
    }
   ],
   "source": [
    "f('a4').__dict__"
   ]
  },
  {
   "cell_type": "code",
   "execution_count": 61,
   "metadata": {},
   "outputs": [
    {
     "data": {
      "text/plain": [
       "'Philips hue'"
      ]
     },
     "execution_count": 61,
     "metadata": {},
     "output_type": "execute_result"
    }
   ],
   "source": [
    "b.name"
   ]
  },
  {
   "cell_type": "code",
   "execution_count": 62,
   "metadata": {},
   "outputs": [
    {
     "data": {
      "text/plain": [
       "'Hue Lamp 8'"
      ]
     },
     "execution_count": 62,
     "metadata": {},
     "output_type": "execute_result"
    }
   ],
   "source": [
    "l.name"
   ]
  },
  {
   "cell_type": "code",
   "execution_count": 65,
   "metadata": {},
   "outputs": [
    {
     "name": "stderr",
     "output_type": "stream",
     "text": [
      "WARNING:phue:Light was turned off with transitiontime specified, brightness needs to be reset now.\n"
     ]
    }
   ],
   "source": [
    "lights[4].on = True"
   ]
  },
  {
   "cell_type": "code",
   "execution_count": 66,
   "metadata": {
    "collapsed": true
   },
   "outputs": [],
   "source": [
    "l = lights[4]"
   ]
  },
  {
   "cell_type": "code",
   "execution_count": 70,
   "metadata": {},
   "outputs": [],
   "source": [
    "l.effect = 'none'"
   ]
  },
  {
   "cell_type": "code",
   "execution_count": 113,
   "metadata": {},
   "outputs": [
    {
     "data": {
      "text/plain": [
       "[0.18336011781119052, 0.072301265236468626]"
      ]
     },
     "execution_count": 113,
     "metadata": {},
     "output_type": "execute_result"
    }
   ],
   "source": [
    "cmxy(0.2)"
   ]
  },
  {
   "cell_type": "code",
   "execution_count": 30,
   "metadata": {},
   "outputs": [],
   "source": [
    "for i, l in enumerate(lights):\n",
    "    l.brightness = 254\n",
    "    l.transitiontime = 0.5\n",
    "    l.xy = cmxy((0.001+i)/len(lights))    \n",
    "    l.effect = 'none' #colorloop |\n",
    "    sleep(1.0)"
   ]
  },
  {
   "cell_type": "markdown",
   "metadata": {
    "collapsed": true
   },
   "source": [
    "## RESTful fun"
   ]
  },
  {
   "cell_type": "code",
   "execution_count": 22,
   "metadata": {},
   "outputs": [],
   "source": [
    "get = lambda str_:req.get('http://'+IP+'/api/'+b.username+'/'+str_).json()\n",
    "post = lambda str_, data:req.post('http://'+IP+'/api/'+b.username+'/'+str_, data).json()"
   ]
  },
  {
   "cell_type": "markdown",
   "metadata": {},
   "source": [
    "Search for new lights"
   ]
  },
  {
   "cell_type": "code",
   "execution_count": 23,
   "metadata": {},
   "outputs": [
    {
     "data": {
      "text/plain": [
       "[{'success': {'/lights': 'Searching for new devices'}}]"
      ]
     },
     "execution_count": 23,
     "metadata": {},
     "output_type": "execute_result"
    }
   ],
   "source": [
    "post('lights',{})"
   ]
  },
  {
   "cell_type": "markdown",
   "metadata": {},
   "source": [
    "List the new lights"
   ]
  },
  {
   "cell_type": "code",
   "execution_count": 24,
   "metadata": {
    "scrolled": true
   },
   "outputs": [
    {
     "data": {
      "text/plain": [
       "{'lastscan': 'active'}"
      ]
     },
     "execution_count": 24,
     "metadata": {},
     "output_type": "execute_result"
    }
   ],
   "source": [
    "get('lights/new')"
   ]
  },
  {
   "cell_type": "code",
   "execution_count": 25,
   "metadata": {
    "scrolled": true
   },
   "outputs": [
    {
     "name": "stdout",
     "output_type": "stream",
     "text": [
      "now there are 27 lights\n"
     ]
    }
   ],
   "source": [
    "print('now there are %d lights'%(len(get('lights'))))"
   ]
  },
  {
   "cell_type": "markdown",
   "metadata": {},
   "source": [
    "Which one can be found?"
   ]
  },
  {
   "cell_type": "code",
   "execution_count": 31,
   "metadata": {
    "scrolled": true
   },
   "outputs": [
    {
     "name": "stdout",
     "output_type": "stream",
     "text": [
      "Hue Lamp 20 False\n",
      "Hue Lamp 7 False\n",
      "Hue Lamp 14 False\n",
      "Hue Lamp 17 False\n",
      "Hue Lamp 6 False\n",
      "Hue Lamp 5 True\n",
      "Hue Lamp 13 False\n",
      "Hue Lamp 25 False\n",
      "Hue Lamp 24 False\n",
      "Hue Lamp 1 True\n",
      "Hue Lamp 27 False\n",
      "Hue Lamp 21 False\n",
      "Hue Lamp 18 False\n",
      "Hue Lamp 23 False\n",
      "Hue Lamp 4 True\n",
      "Hue Lamp 26 False\n",
      "Hue Lamp 9 True\n",
      "Hue Lamp 11 False\n",
      "Hue Lamp 12 False\n",
      "Hue Lamp 2 True\n",
      "Hue Lamp 16 False\n",
      "Hue Lamp 15 False\n",
      "Hue Lamp 8 False\n",
      "Hue Lamp 10 False\n",
      "Hue Lamp 19 False\n",
      "Hue Lamp 22 False\n",
      "Hue Lamp 3 False\n"
     ]
    }
   ],
   "source": [
    "for k,v in get('lights').items():\n",
    "    print(v['name'], v['state']['reachable'])"
   ]
  },
  {
   "cell_type": "code",
   "execution_count": null,
   "metadata": {
    "collapsed": true
   },
   "outputs": [],
   "source": []
  },
  {
   "cell_type": "code",
   "execution_count": 28,
   "metadata": {},
   "outputs": [],
   "source": [
    "li = get('lights')"
   ]
  },
  {
   "cell_type": "code",
   "execution_count": 160,
   "metadata": {},
   "outputs": [
    {
     "data": {
      "text/plain": [
       "False"
      ]
     },
     "execution_count": 160,
     "metadata": {},
     "output_type": "execute_result"
    }
   ],
   "source": [
    "li['1']['state']['reachable']"
   ]
  },
  {
   "cell_type": "code",
   "execution_count": null,
   "metadata": {
    "collapsed": true
   },
   "outputs": [],
   "source": []
  }
 ],
 "metadata": {
  "kernelspec": {
   "display_name": "Python 3",
   "language": "python",
   "name": "python3"
  },
  "language_info": {
   "codemirror_mode": {
    "name": "ipython",
    "version": 3
   },
   "file_extension": ".py",
   "mimetype": "text/x-python",
   "name": "python",
   "nbconvert_exporter": "python",
   "pygments_lexer": "ipython3",
   "version": "3.6.2"
  }
 },
 "nbformat": 4,
 "nbformat_minor": 1
}
