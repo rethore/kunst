{
 "cells": [
  {
   "cell_type": "code",
   "execution_count": 26,
   "metadata": {
    "collapsed": true
   },
   "outputs": [],
   "source": [
    "from afinn import Afinn\n",
    "import numpy as np\n",
    "import pandas as pd"
   ]
  },
  {
   "cell_type": "code",
   "execution_count": 27,
   "metadata": {
    "collapsed": false
   },
   "outputs": [],
   "source": [
    "text = \"\"\"\n",
    "For alle interesserede: Så brainer vi endnu engang på ideer til østsiden af fælleshuset: Tirsdag den 24. maj kl. 20-21. Alle er velkomne! På mødet nedsætter vi en arbejdsgruppe, der vil gå videre med ideerne.\n",
    "\n",
    "Jeg har sammenskrevet de ideer vi kom op med ved sidste brainstorm (vedhæftet fil).\n",
    "\n",
    "Vel mødt!!\n",
    "\n",
    "Charlotte\n",
    "\"\"\"\n",
    "df = pd.DataFrame(text.split(\"\\n\"), columns=['text'])"
   ]
  },
  {
   "cell_type": "code",
   "execution_count": 28,
   "metadata": {
    "collapsed": false
   },
   "outputs": [
    {
     "data": {
      "text/html": [
       "<div>\n",
       "<table border=\"1\" class=\"dataframe\">\n",
       "  <thead>\n",
       "    <tr style=\"text-align: right;\">\n",
       "      <th></th>\n",
       "      <th>text</th>\n",
       "      <th>afinn</th>\n",
       "    </tr>\n",
       "  </thead>\n",
       "  <tbody>\n",
       "    <tr>\n",
       "      <th>0</th>\n",
       "      <td></td>\n",
       "      <td>0.0</td>\n",
       "    </tr>\n",
       "    <tr>\n",
       "      <th>1</th>\n",
       "      <td>For alle interesserede: Så brainer vi endnu en...</td>\n",
       "      <td>2.0</td>\n",
       "    </tr>\n",
       "    <tr>\n",
       "      <th>2</th>\n",
       "      <td></td>\n",
       "      <td>0.0</td>\n",
       "    </tr>\n",
       "    <tr>\n",
       "      <th>3</th>\n",
       "      <td>Jeg har sammenskrevet de ideer vi kom op med v...</td>\n",
       "      <td>0.0</td>\n",
       "    </tr>\n",
       "    <tr>\n",
       "      <th>4</th>\n",
       "      <td></td>\n",
       "      <td>0.0</td>\n",
       "    </tr>\n",
       "    <tr>\n",
       "      <th>5</th>\n",
       "      <td>Vel mødt!!</td>\n",
       "      <td>1.0</td>\n",
       "    </tr>\n",
       "    <tr>\n",
       "      <th>6</th>\n",
       "      <td></td>\n",
       "      <td>0.0</td>\n",
       "    </tr>\n",
       "    <tr>\n",
       "      <th>7</th>\n",
       "      <td>Charlotte</td>\n",
       "      <td>0.0</td>\n",
       "    </tr>\n",
       "    <tr>\n",
       "      <th>8</th>\n",
       "      <td></td>\n",
       "      <td>0.0</td>\n",
       "    </tr>\n",
       "  </tbody>\n",
       "</table>\n",
       "</div>"
      ],
      "text/plain": [
       "                                                text  afinn\n",
       "0                                                       0.0\n",
       "1  For alle interesserede: Så brainer vi endnu en...    2.0\n",
       "2                                                       0.0\n",
       "3  Jeg har sammenskrevet de ideer vi kom op med v...    0.0\n",
       "4                                                       0.0\n",
       "5                                         Vel mødt!!    1.0\n",
       "6                                                       0.0\n",
       "7                                          Charlotte    0.0\n",
       "8                                                       0.0"
      ]
     },
     "execution_count": 28,
     "metadata": {},
     "output_type": "execute_result"
    }
   ],
   "source": [
    "# Sentiment analysis with AFINN\n",
    "afinn = Afinn(language='da', emoticons=True)\n",
    "afinn_scores = [afinn.score(text) for text in df.text]\n",
    "df['afinn'] = afinn_scores\n",
    "df"
   ]
  },
  {
   "cell_type": "code",
   "execution_count": 29,
   "metadata": {
    "collapsed": false
   },
   "outputs": [
    {
     "data": {
      "text/plain": [
       "3.0"
      ]
     },
     "execution_count": 29,
     "metadata": {},
     "output_type": "execute_result"
    }
   ],
   "source": [
    "afinn.score(text)"
   ]
  },
  {
   "cell_type": "markdown",
   "metadata": {},
   "source": [
    "### Download Borigo messages"
   ]
  },
  {
   "cell_type": "code",
   "execution_count": 30,
   "metadata": {
    "collapsed": true
   },
   "outputs": [],
   "source": [
    "import requests as req"
   ]
  },
  {
   "cell_type": "code",
   "execution_count": 31,
   "metadata": {
    "collapsed": true
   },
   "outputs": [],
   "source": [
    "import re\n",
    "\n",
    "TAG_RE = re.compile(r'<[^>]+>')\n",
    "\n",
    "def remove_tags(text):\n",
    "    return TAG_RE.sub('', text)"
   ]
  },
  {
   "cell_type": "code",
   "execution_count": 32,
   "metadata": {
    "collapsed": false
   },
   "outputs": [
    {
     "name": "stdout",
     "output_type": "stream",
     "text": [
      "Olá\n"
     ]
    }
   ],
   "source": [
    "from microsofttranslator import Translator\n",
    "clientid = \"svalin01\"\n",
    "key = \"sCjwSmaiX0BPyVJ5C4UFvYe/3G1RgZfd1URPvLILcYk=\"\n",
    "translator = Translator(clientid, key)\n",
    "print(translator.translate(\"Hello\", \"pt\"))"
   ]
  },
  {
   "cell_type": "code",
   "execution_count": 41,
   "metadata": {
    "collapsed": false
   },
   "outputs": [
    {
     "data": {
      "text/plain": [
       "<Response [200]>"
      ]
     },
     "execution_count": 41,
     "metadata": {},
     "output_type": "execute_result"
    }
   ],
   "source": [
    "resp = req.get(\"https://api.borigo.dk/v0/posts.json\", data={'limit':\"100\"},  headers={'Authorization': 'Token token=\"c6982f92bc3a4ab263aade47baec317b\"'})\n",
    "resp"
   ]
  },
  {
   "cell_type": "code",
   "execution_count": 51,
   "metadata": {
    "collapsed": false,
    "scrolled": false
   },
   "outputs": [
    {
     "name": "stdout",
     "output_type": "stream",
     "text": [
      "3.0 Charlotte Birch-Jessen <p>For alle interesserede: Så brainer vi endnu engang på ideer til østsiden af fælleshuset: Tirsdag den 24. maj kl. 20-21. Alle er velkomne! På mødet nedsætter vi en arbejdsgruppe, der vil gå videre med ideerne.</p><p>Jeg har sammenskrevet de ideer vi kom op med ved sidste brainstorm (vedhæftet fil).</p><p>Vel mødt!!</p><p>Charlotte</p>\n",
      "1.0 Charlotte Birch-Jessen <p>Brainstormmøde nr. 2</p><p>For alle med interesse i og gode ideer til østsiden.</p><p>Jeg forestiller mig at vi på mødet nedsætter en arbejdsgruppe, der arbejder videre med ideerne. </p>\n",
      "5.0 Susanne Prang <p>Fokus på:</p><p>1. Konkret aftale om logning af tiltag i køkken og storrum, som kan have indvirkning på Lars' DB-målinger. Vi skal bl.a. have valgt en ansvarlig.</p><p>2. Beskrivelse af adfærds\"regler\" i videste forstand, som kan dæmpe støjniveauet og give en bedre samlet oplevelse af samvær.</p><p>3. Status fra jeppe omkring afskærmning mellem køkken/storrum</p>\n",
      "-2.0 Jeppe Lykke Møller <p>Hej naboer,</p><p>Hvis I som jeg har haft lidt svært ved at finde opstillingsmateriale og stemmeseddel på Skoleintra, så har jeg vedhæftet det her.</p><p>Jeg stiller (selvfølgelig) op til skolebestyrelsen sammen med en fire andre gode mennesker, og det kunne være fedt, hvis der var en masse, der stemte.</p><p>Fristen er på torsdag d. 12. maj kl. 12. Det nemmeste er at aflevere stemmesedlen på skolekontoret. Men man kan også sende den i en kuvert i endnu en kuvert.</p><p>Mvh. Jeppe</p>\n",
      "2.0 Jesper Nielsen <p>Kære Alle</p><p>Der må være andre, der er gamle nok til at kende Rickie Lee Jones. </p><p><a href=\"http://www.amagerbio.dk/index.php/events/index/rickie-lee-jones-%28us%29/31-05-2016\" rel=\"nofollow\">http://www.amagerbio.dk/index.php/events/index/ric...</a></p><p>Om ikke andet så er nogen af jer så unge at det er på tide at I lærer hende at kende. Den blå elflyder kører lige fra dør til dør (først til mølle). Billetten sørger du selv for.</p><p>mvh. Jesper  </p>\n",
      "0.0 Kasper Birch <p>Bestyrelsesmøde</p>\n",
      "0.0 Katja Stage <p>Hej alle</p><p>I dag begynder vi at plante i kasserne ved fælleshuset. Vi planter:</p><p>- Lars´ Lasagnebed ( Timian)<br>- Mojito-bed (Mynte)<br>- Persille-bed (bredbladet og kruspersille)<br>- Mormor-bed med (rarbarbar og løvstikke)</p><p>Det lille krydderbed er åben for donationer, og kommer blandt andet til at indeholde salvie og tallerkensmækker mv.</p><p>kig forbi hvis I har spørgsmål</p><p>Vh</p><p>Katja og Lea</p>\n",
      "0.0 Karen Marie Rethoré <p>og vi tænder op i bålet ca kl. 19, så kom forbi og få bålpopcorn eller tag andet med </p>\n",
      "2.0 Charlotte Birch-Jessen <p>kære naboer. vi tænder op i grillen så kom forbi til en hotdog. Kh hus </p>\n",
      "2.0 Jesper Nielsen <p>kære alle</p><p>Batteriet holder lidt længere på den. Til gengæld skal den lade mindst 12 timer. Lader står i værkstedet på bordet ved stikkontakten. </p><p>Mvh. Jespe</p>\n",
      "10.0 Brigitte Tonn <p>Kære madgrupper</p><p>Det er ved at være sidste runde for madlavning i grupperne. Jeg vil derfor minde grupperne om, at I skal få brugt jeres rester fra fryseren inden sommerferien!</p><p>Og tro mig. Der er mad i fryseren :-) Find en i hver gruppe, som melder sig som ansvarlig for at finde ud af, hvad I har i fryseren inden jeres næste madmøde og lad det indgå i menuen.</p><p>Hvert år smider en dansk husstand gennemsnitligt mad ud for 7000,- på et år. Hvis vi gør det som husstande i Svalin smider vi ud for 140.000 samlet. Sikke mange ting vi kunne købe til fælleskabet for de penge. </p><p>De bedste madspildshilsner</p><p>Gitte</p>\n",
      "2.0 Mette Nielsen <p>Der må være en del glas, kopper, plastbeholdere med grønne låg mv. som råber om at komme hjem i fælleshuset... ;o)</p><p>Vi måtte dække bord med krus i dag, da der ikke var glas nok</p><p>Varme tanker </p><p>Mette</p>\n",
      "4.0 Signe Grummesgaard Gjesing <p>Har nogen mulighed for at vande vores krukker her  i miniferien? Alle planter står udenfor :-)</p>\n",
      "2.0 Sisse Winther Oreskov <p>Vi har 4 hvide Bestå reoler fra Ikea (l:120, D: 40, H: 38), de kan ses i vores kælderrum. Hvis der er nogle der vil have dem, så giv lyd i dag, da vi kører dem til genbrug i morgen.</p>\n",
      "2.0 Lars Lundegaard <p>Jeg har brug for 2G data SIM kort fra en af disse udbydere til en datalogger som vi med fordel kan bruge i fælleshuset. Den logger temperatur, CO2 koncentration, relativ luftfugtighed og støjniveau.</p>\n",
      "5.0 Karen Marie Rethoré <p>Der er kommet et ton sand! Den røde sandkasse skal fyldes (og puttes presenning på), og resten skal fordeles i de to  andre sandkasser. Alle er velkomne til at hjælpe :-) </p>\n",
      "1.0 Katja Stage <p>Hej alle</p><p>Vi leder efter udstyr til vores fest. Er der mon nogen der har et tovtrækningsreb eller nogle gamle hestesko vi kan låne?</p><p>Vh </p><p>Kajta</p>\n",
      "1.0 Katja Stage <p>Hej alle</p><p>Som lovet kommer her en invitation I kan printe ud og hænge på opslagstavlen... eller noget: <a href=\"https://goo.gl/2F3XqP\" rel=\"nofollow\"><u></u></a><u><a href=\"https://goo.gl/2F3XqP\" rel=\"nofollow\">https://goo.gl/2F3XqP</a></u> bemærk at der er SU senest d. 15/5 men det står alt sammen i invitationen.</p><p> Vi ses, KH Katja &amp; Marc</p>\n",
      "2.0 Katja Stage <p>Hej alle</p><p>Jeg er ved at lave en pilehytte ud for klynge 1 ved siden af gyngestativet. Målet er at lave en hyggelig hule for børnene som også er fin at kigge på.  Naboerne i klyngen har sagt ok til det.</p><p>Jeg arbejder videre på den i løbet af de næste par uger. Kom gerne forbi og kig og få snak.</p><p>Vh</p><p>Katja</p>\n",
      "2.0 Line Anne Roien <p><em></em>Der er lagkager i fælleshuset - rester fra Siris klassefødselsdag. Kom endelig forbi og hent et stykke :)</p>\n"
     ]
    },
    {
     "ename": "KeyError",
     "evalue": "'content'",
     "output_type": "error",
     "traceback": [
      "\u001b[0;31m---------------------------------------------------------------------------\u001b[0m",
      "\u001b[0;31mKeyError\u001b[0m                                  Traceback (most recent call last)",
      "\u001b[0;32m<ipython-input-51-b9c1ae022230>\u001b[0m in \u001b[0;36m<module>\u001b[0;34m()\u001b[0m\n\u001b[1;32m      1\u001b[0m \u001b[0;32mfor\u001b[0m \u001b[0mp\u001b[0m \u001b[0;32min\u001b[0m \u001b[0mresp\u001b[0m\u001b[0;34m.\u001b[0m\u001b[0mjson\u001b[0m\u001b[0;34m(\u001b[0m\u001b[0;34m)\u001b[0m\u001b[0;34m[\u001b[0m\u001b[0;34m'posts'\u001b[0m\u001b[0;34m]\u001b[0m\u001b[0;34m:\u001b[0m\u001b[0;34m\u001b[0m\u001b[0m\n\u001b[0;32m----> 2\u001b[0;31m     \u001b[0mc\u001b[0m \u001b[0;34m=\u001b[0m \u001b[0mremove_tags\u001b[0m\u001b[0;34m(\u001b[0m\u001b[0mp\u001b[0m\u001b[0;34m[\u001b[0m\u001b[0;34m'content'\u001b[0m\u001b[0;34m]\u001b[0m\u001b[0;34m)\u001b[0m\u001b[0;34m\u001b[0m\u001b[0m\n\u001b[0m\u001b[1;32m      3\u001b[0m     \u001b[0;31m# Using microsoft translate\u001b[0m\u001b[0;34m\u001b[0m\u001b[0;34m\u001b[0m\u001b[0m\n\u001b[1;32m      4\u001b[0m     \u001b[0;31m#t = translator.translate(c, 'en')\u001b[0m\u001b[0;34m\u001b[0m\u001b[0;34m\u001b[0m\u001b[0m\n\u001b[1;32m      5\u001b[0m     \u001b[0;31m# Using online sentiment analysis (in english)\u001b[0m\u001b[0;34m\u001b[0m\u001b[0;34m\u001b[0m\u001b[0m\n",
      "\u001b[0;31mKeyError\u001b[0m: 'content'"
     ]
    }
   ],
   "source": [
    "for p in resp.json()['posts']:\n",
    "    c = remove_tags(p['content'])\n",
    "    # Using microsoft translate\n",
    "    #t = translator.translate(c, 'en')    \n",
    "    # Using online sentiment analysis (in english)\n",
    "    #s = req.post(\"http://text-processing.com/api/sentiment/\", data={\"text\": t}).json()\n",
    "    # Using sentiment analysis (in Danish directly)\n",
    "    s_dk = afinn.score(afinn.score(p['content'])#/len(c.split())\n",
    "    #print(s_dk, s['label'], p['content'])\n",
    "    print(s_dk, p['poster']['first_name'], p['poster']['last_name'], p['content'])    "
   ]
  },
  {
   "cell_type": "code",
   "execution_count": 55,
   "metadata": {
    "collapsed": false
   },
   "outputs": [
    {
     "data": {
      "text/plain": [
       "0.05369928400954654"
      ]
     },
     "execution_count": 55,
     "metadata": {},
     "output_type": "execute_result"
    }
   ],
   "source": [
    "text=\"\"\"\n",
    "Charlotte Birch-Jessen <p>For alle interesserede: Så brainer vi endnu engang på ideer til østsiden af fælleshuset: Tirsdag den 24. maj kl. 20-21. Alle er velkomne! På mødet nedsætter vi en arbejdsgruppe, der vil gå videre med ideerne.</p><p>Jeg har sammenskrevet de ideer vi kom op med ved sidste brainstorm (vedhæftet fil).</p><p>Vel mødt!!</p><p>Charlotte</p>\n",
    "1.0 Charlotte Birch-Jessen <p>Brainstormmøde nr. 2</p><p>For alle med interesse i og gode ideer til østsiden.</p><p>Jeg forestiller mig at vi på mødet nedsætter en arbejdsgruppe, der arbejder videre med ideerne. </p>\n",
    "5.0 Susanne Prang <p>Fokus på:</p><p>1. Konkret aftale om logning af tiltag i køkken og storrum, som kan have indvirkning på Lars' DB-målinger. Vi skal bl.a. have valgt en ansvarlig.</p><p>2. Beskrivelse af adfærds\"regler\" i videste forstand, som kan dæmpe støjniveauet og give en bedre samlet oplevelse af samvær.</p><p>3. Status fra jeppe omkring afskærmning mellem køkken/storrum</p>\n",
    "-2.0 Jeppe Lykke Møller <p>Hej naboer,</p><p>Hvis I som jeg har haft lidt svært ved at finde opstillingsmateriale og stemmeseddel på Skoleintra, så har jeg vedhæftet det her.</p><p>Jeg stiller (selvfølgelig) op til skolebestyrelsen sammen med en fire andre gode mennesker, og det kunne være fedt, hvis der var en masse, der stemte.</p><p>Fristen er på torsdag d. 12. maj kl. 12. Det nemmeste er at aflevere stemmesedlen på skolekontoret. Men man kan også sende den i en kuvert i endnu en kuvert.</p><p>Mvh. Jeppe</p>\n",
    "2.0 Jesper Nielsen <p>Kære Alle</p><p>Der må være andre, der er gamle nok til at kende Rickie Lee Jones. </p><p><a href=\"http://www.amagerbio.dk/index.php/events/index/rickie-lee-jones-%28us%29/31-05-2016\" rel=\"nofollow\">http://www.amagerbio.dk/index.php/events/index/ric...</a></p><p>Om ikke andet så er nogen af jer så unge at det er på tide at I lærer hende at kende. Den blå elflyder kører lige fra dør til dør (først til mølle). Billetten sørger du selv for.</p><p>mvh. Jesper  </p>\n",
    "0.0 Kasper Birch <p>Bestyrelsesmøde</p>\n",
    "0.0 Katja Stage <p>Hej alle</p><p>I dag begynder vi at plante i kasserne ved fælleshuset. Vi planter:</p><p>- Lars´ Lasagnebed ( Timian)<br>- Mojito-bed (Mynte)<br>- Persille-bed (bredbladet og kruspersille)<br>- Mormor-bed med (rarbarbar og løvstikke)</p><p>Det lille krydderbed er åben for donationer, og kommer blandt andet til at indeholde salvie og tallerkensmækker mv.</p><p>kig forbi hvis I har spørgsmål</p><p>Vh</p><p>Katja og Lea</p>\n",
    "0.0 Karen Marie Rethoré <p>og vi tænder op i bålet ca kl. 19, så kom forbi og få bålpopcorn eller tag andet med </p>\n",
    "2.0 Charlotte Birch-Jessen <p>kære naboer. vi tænder op i grillen så kom forbi til en hotdog. Kh hus </p>\n",
    "2.0 Jesper Nielsen <p>kære alle</p><p>Batteriet holder lidt længere på den. Til gengæld skal den lade mindst 12 timer. Lader står i værkstedet på bordet ved stikkontakten. </p><p>Mvh. Jespe</p>\n",
    "10.0 Brigitte Tonn <p>Kære madgrupper</p><p>Det er ved at være sidste runde for madlavning i grupperne. Jeg vil derfor minde grupperne om, at I skal få brugt jeres rester fra fryseren inden sommerferien!</p><p>Og tro mig. Der er mad i fryseren :-) Find en i hver gruppe, som melder sig som ansvarlig for at finde ud af, hvad I har i fryseren inden jeres næste madmøde og lad det indgå i menuen.</p><p>Hvert år smider en dansk husstand gennemsnitligt mad ud for 7000,- på et år. Hvis vi gør det som husstande i Svalin smider vi ud for 140.000 samlet. Sikke mange ting vi kunne købe til fælleskabet for de penge. </p><p>De bedste madspildshilsner</p><p>Gitte</p>\n",
    "2.0 Mette Nielsen <p>Der må være en del glas, kopper, plastbeholdere med grønne låg mv. som råber om at komme hjem i fælleshuset... ;o)</p><p>Vi måtte dække bord med krus i dag, da der ikke var glas nok</p><p>Varme tanker </p><p>Mette</p>\n",
    "4.0 Signe Grummesgaard Gjesing <p>Har nogen mulighed for at vande vores krukker her  i miniferien? Alle planter står udenfor :-)</p>\n",
    "2.0 Sisse Winther Oreskov <p>Vi har 4 hvide Bestå reoler fra Ikea (l:120, D: 40, H: 38), de kan ses i vores kælderrum. Hvis der er nogle der vil have dem, så giv lyd i dag, da vi kører dem til genbrug i morgen.</p>\n",
    "2.0 Lars Lundegaard <p>Jeg har brug for 2G data SIM kort fra en af disse udbydere til en datalogger som vi med fordel kan bruge i fælleshuset. Den logger temperatur, CO2 koncentration, relativ luftfugtighed og støjniveau.</p>\n",
    "5.0 Karen Marie Rethoré <p>Der er kommet et ton sand! Den røde sandkasse skal fyldes (og puttes presenning på), og resten skal fordeles i de to  andre sandkasser. Alle er velkomne til at hjælpe :-) </p>\n",
    "1.0 Katja Stage <p>Hej alle</p><p>Vi leder efter udstyr til vores fest. Er der mon nogen der har et tovtrækningsreb eller nogle gamle hestesko vi kan låne?</p><p>Vh </p><p>Kajta</p>\n",
    "1.0 Katja Stage <p>Hej alle</p><p>Som lovet kommer her en invitation I kan printe ud og hænge på opslagstavlen... eller noget: <a href=\"https://goo.gl/2F3XqP\" rel=\"nofollow\"><u></u></a><u><a href=\"https://goo.gl/2F3XqP\" rel=\"nofollow\">https://goo.gl/2F3XqP</a></u> bemærk at der er SU senest d. 15/5 men det står alt sammen i invitationen.</p><p> Vi ses, KH Katja &amp; Marc</p>\n",
    "2.0 Katja Stage <p>Hej alle</p><p>Jeg er ved at lave en pilehytte ud for klynge 1 ved siden af gyngestativet. Målet er at lave en hyggelig hule for børnene som også er fin at kigge på.  Naboerne i klyngen har sagt ok til det.</p><p>Jeg arbejder videre på den i løbet af de næste par uger. Kom gerne forbi og kig og få snak.</p><p>Vh</p><p>Katja</p>\n",
    "2.0 Line Anne Roien <p><em></em>Der er lagkager i fælleshuset - rester fra Siris klassefødselsdag. Kom endelig forbi og hent et stykke :)</p>\n",
    "\"\"\"\n",
    "afinn.score(remove_tags(text))/len(remove_tags(text).split())"
   ]
  },
  {
   "cell_type": "code",
   "execution_count": 57,
   "metadata": {
    "collapsed": false
   },
   "outputs": [
    {
     "data": {
      "text/plain": [
       "45.0"
      ]
     },
     "execution_count": 57,
     "metadata": {},
     "output_type": "execute_result"
    }
   ],
   "source": [
    "afinn.score(remove_tags(text))"
   ]
  },
  {
   "cell_type": "code",
   "execution_count": 49,
   "metadata": {
    "collapsed": false
   },
   "outputs": [
    {
     "data": {
      "text/plain": [
       "109"
      ]
     },
     "execution_count": 49,
     "metadata": {},
     "output_type": "execute_result"
    }
   ],
   "source": [
    "e Glade<p>Kære madgrupper</p><p>Det er ved at være sidste runde for madlavning i grupperne. Jeg vil derfor minde grupperne om, at I skal få brugt jeres rester fra fryseren inden sommerferien!</p><p>Og tro mig. Der er mad i fryseren :-) Find en i hver gruppe, som melder sig som ansvarlig for at finde ud af, hvad I har i fryseren inden jeres næste madmøde og lad det indgå i menuen.</p><p>Hvert år smider en dansk husstand gennemsnitligt mad ud for 7000,- på et år. Hvis vi gør det som husstande i Svalin smider vi ud for 140.000 samlet. Sikke mange ting vi kunne købe til fælleskabet for de penge. </p><p>De bedste madspildshilsner</p><p>Gitte</p>'.split())"
   ]
  },
  {
   "cell_type": "code",
   "execution_count": null,
   "metadata": {
    "collapsed": true
   },
   "outputs": [],
   "source": []
  }
 ],
 "metadata": {
  "kernelspec": {
   "display_name": "Python 3",
   "language": "python",
   "name": "python3"
  },
  "language_info": {
   "codemirror_mode": {
    "name": "ipython",
    "version": 3
   },
   "file_extension": ".py",
   "mimetype": "text/x-python",
   "name": "python",
   "nbconvert_exporter": "python",
   "pygments_lexer": "ipython3",
   "version": "3.5.1"
  }
 },
 "nbformat": 4,
 "nbformat_minor": 0
}
