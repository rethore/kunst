{
 "cells": [
  {
   "cell_type": "code",
   "execution_count": 5,
   "metadata": {},
   "outputs": [
    {
     "ename": "ModuleNotFoundError",
     "evalue": "No module named 'afinn'",
     "output_type": "error",
     "traceback": [
      "\u001b[0;31m---------------------------------------------------------------------------\u001b[0m",
      "\u001b[0;31mModuleNotFoundError\u001b[0m                       Traceback (most recent call last)",
      "\u001b[0;32m<ipython-input-5-b8617379ce14>\u001b[0m in \u001b[0;36m<module>\u001b[0;34m()\u001b[0m\n\u001b[0;32m----> 1\u001b[0;31m \u001b[0;32mfrom\u001b[0m \u001b[0mafinn\u001b[0m \u001b[0;32mimport\u001b[0m \u001b[0mAfinn\u001b[0m\u001b[0;34m\u001b[0m\u001b[0m\n\u001b[0m\u001b[1;32m      2\u001b[0m \u001b[0;32mimport\u001b[0m \u001b[0mnumpy\u001b[0m \u001b[0;32mas\u001b[0m \u001b[0mnp\u001b[0m\u001b[0;34m\u001b[0m\u001b[0m\n\u001b[1;32m      3\u001b[0m \u001b[0;32mimport\u001b[0m \u001b[0mpandas\u001b[0m \u001b[0;32mas\u001b[0m \u001b[0mpd\u001b[0m\u001b[0;34m\u001b[0m\u001b[0m\n",
      "\u001b[0;31mModuleNotFoundError\u001b[0m: No module named 'afinn'"
     ]
    }
   ],
   "source": [
    "from afinn import Afinn\n",
    "import numpy as np\n",
    "import pandas as pd"
   ]
  },
  {
   "cell_type": "code",
   "execution_count": 6,
   "metadata": {},
   "outputs": [
    {
     "ename": "NameError",
     "evalue": "name 'pd' is not defined",
     "output_type": "error",
     "traceback": [
      "\u001b[0;31m---------------------------------------------------------------------------\u001b[0m",
      "\u001b[0;31mNameError\u001b[0m                                 Traceback (most recent call last)",
      "\u001b[0;32m<ipython-input-6-ae3196501977>\u001b[0m in \u001b[0;36m<module>\u001b[0;34m()\u001b[0m\n\u001b[1;32m      8\u001b[0m \u001b[0mCharlotte\u001b[0m\u001b[0;34m\u001b[0m\u001b[0m\n\u001b[1;32m      9\u001b[0m \"\"\"\n\u001b[0;32m---> 10\u001b[0;31m \u001b[0mdf\u001b[0m \u001b[0;34m=\u001b[0m \u001b[0mpd\u001b[0m\u001b[0;34m.\u001b[0m\u001b[0mDataFrame\u001b[0m\u001b[0;34m(\u001b[0m\u001b[0mtext\u001b[0m\u001b[0;34m.\u001b[0m\u001b[0msplit\u001b[0m\u001b[0;34m(\u001b[0m\u001b[0;34m\"\\n\"\u001b[0m\u001b[0;34m)\u001b[0m\u001b[0;34m,\u001b[0m \u001b[0mcolumns\u001b[0m\u001b[0;34m=\u001b[0m\u001b[0;34m[\u001b[0m\u001b[0;34m'text'\u001b[0m\u001b[0;34m]\u001b[0m\u001b[0;34m)\u001b[0m\u001b[0;34m\u001b[0m\u001b[0m\n\u001b[0m",
      "\u001b[0;31mNameError\u001b[0m: name 'pd' is not defined"
     ]
    }
   ],
   "source": [
    "text = \"\"\"\n",
    "For alle interesserede: Så brainer vi endnu engang på ideer til østsiden af fælleshuset: Tirsdag den 24. maj kl. 20-21. Alle er velkomne! På mødet nedsætter vi en arbejdsgruppe, der vil gå videre med ideerne.\n",
    "\n",
    "Jeg har sammenskrevet de ideer vi kom op med ved sidste brainstorm (vedhæftet fil).\n",
    "\n",
    "Vel mødt!!\n",
    "\n",
    "Charlotte\n",
    "\"\"\"\n",
    "df = pd.DataFrame(text.split(\"\\n\"), columns=['text'])"
   ]
  },
  {
   "cell_type": "code",
   "execution_count": 7,
   "metadata": {},
   "outputs": [
    {
     "ename": "NameError",
     "evalue": "name 'Afinn' is not defined",
     "output_type": "error",
     "traceback": [
      "\u001b[0;31m---------------------------------------------------------------------------\u001b[0m",
      "\u001b[0;31mNameError\u001b[0m                                 Traceback (most recent call last)",
      "\u001b[0;32m<ipython-input-7-cac2a3b0ec14>\u001b[0m in \u001b[0;36m<module>\u001b[0;34m()\u001b[0m\n\u001b[1;32m      1\u001b[0m \u001b[0;31m# Sentiment analysis with AFINN\u001b[0m\u001b[0;34m\u001b[0m\u001b[0;34m\u001b[0m\u001b[0m\n\u001b[0;32m----> 2\u001b[0;31m \u001b[0mafinn\u001b[0m \u001b[0;34m=\u001b[0m \u001b[0mAfinn\u001b[0m\u001b[0;34m(\u001b[0m\u001b[0mlanguage\u001b[0m\u001b[0;34m=\u001b[0m\u001b[0;34m'da'\u001b[0m\u001b[0;34m,\u001b[0m \u001b[0memoticons\u001b[0m\u001b[0;34m=\u001b[0m\u001b[0;32mTrue\u001b[0m\u001b[0;34m)\u001b[0m\u001b[0;34m\u001b[0m\u001b[0m\n\u001b[0m\u001b[1;32m      3\u001b[0m \u001b[0mafinn_scores\u001b[0m \u001b[0;34m=\u001b[0m \u001b[0;34m[\u001b[0m\u001b[0mafinn\u001b[0m\u001b[0;34m.\u001b[0m\u001b[0mscore\u001b[0m\u001b[0;34m(\u001b[0m\u001b[0mtext\u001b[0m\u001b[0;34m)\u001b[0m \u001b[0;32mfor\u001b[0m \u001b[0mtext\u001b[0m \u001b[0;32min\u001b[0m \u001b[0mdf\u001b[0m\u001b[0;34m.\u001b[0m\u001b[0mtext\u001b[0m\u001b[0;34m]\u001b[0m\u001b[0;34m\u001b[0m\u001b[0m\n\u001b[1;32m      4\u001b[0m \u001b[0mdf\u001b[0m\u001b[0;34m[\u001b[0m\u001b[0;34m'afinn'\u001b[0m\u001b[0;34m]\u001b[0m \u001b[0;34m=\u001b[0m \u001b[0mafinn_scores\u001b[0m\u001b[0;34m\u001b[0m\u001b[0m\n\u001b[1;32m      5\u001b[0m \u001b[0mdf\u001b[0m\u001b[0;34m\u001b[0m\u001b[0m\n",
      "\u001b[0;31mNameError\u001b[0m: name 'Afinn' is not defined"
     ]
    }
   ],
   "source": [
    "# Sentiment analysis with AFINN\n",
    "afinn = Afinn(language='da', emoticons=True)\n",
    "afinn_scores = [afinn.score(text) for text in df.text]\n",
    "df['afinn'] = afinn_scores\n",
    "df"
   ]
  },
  {
   "cell_type": "code",
   "execution_count": 8,
   "metadata": {},
   "outputs": [
    {
     "ename": "NameError",
     "evalue": "name 'afinn' is not defined",
     "output_type": "error",
     "traceback": [
      "\u001b[0;31m---------------------------------------------------------------------------\u001b[0m",
      "\u001b[0;31mNameError\u001b[0m                                 Traceback (most recent call last)",
      "\u001b[0;32m<ipython-input-8-9fcd8f75ab88>\u001b[0m in \u001b[0;36m<module>\u001b[0;34m()\u001b[0m\n\u001b[0;32m----> 1\u001b[0;31m \u001b[0mafinn\u001b[0m\u001b[0;34m.\u001b[0m\u001b[0mscore\u001b[0m\u001b[0;34m(\u001b[0m\u001b[0mtext\u001b[0m\u001b[0;34m)\u001b[0m\u001b[0;34m\u001b[0m\u001b[0m\n\u001b[0m",
      "\u001b[0;31mNameError\u001b[0m: name 'afinn' is not defined"
     ]
    }
   ],
   "source": [
    "afinn.score(text)"
   ]
  },
  {
   "cell_type": "markdown",
   "metadata": {},
   "source": [
    "### Download Borigo messages"
   ]
  },
  {
   "cell_type": "code",
   "execution_count": 9,
   "metadata": {
    "collapsed": true
   },
   "outputs": [],
   "source": [
    "import requests as req"
   ]
  },
  {
   "cell_type": "code",
   "execution_count": 10,
   "metadata": {
    "collapsed": true
   },
   "outputs": [],
   "source": [
    "import re\n",
    "\n",
    "TAG_RE = re.compile(r'<[^>]+>')\n",
    "\n",
    "def remove_tags(text):\n",
    "    return TAG_RE.sub('', text)"
   ]
  },
  {
   "cell_type": "code",
   "execution_count": 11,
   "metadata": {
    "collapsed": true
   },
   "outputs": [],
   "source": [
    "# Reading the environment variables\n",
    "with open('../.env', 'r') as f:\n",
    "    data = f.read()\n",
    "for l in data.splitlines():\n",
    "    #eval(l.split('=')[0] + '=\"'+ l.split('=')[1]+'\"')\n",
    "    locals()[l.split('=')[0]] = l.split('=')[1]"
   ]
  },
  {
   "cell_type": "code",
   "execution_count": 12,
   "metadata": {},
   "outputs": [
    {
     "ename": "ModuleNotFoundError",
     "evalue": "No module named 'microsofttranslator'",
     "output_type": "error",
     "traceback": [
      "\u001b[0;31m---------------------------------------------------------------------------\u001b[0m",
      "\u001b[0;31mModuleNotFoundError\u001b[0m                       Traceback (most recent call last)",
      "\u001b[0;32m<ipython-input-12-3dba8967cabb>\u001b[0m in \u001b[0;36m<module>\u001b[0;34m()\u001b[0m\n\u001b[0;32m----> 1\u001b[0;31m \u001b[0;32mfrom\u001b[0m \u001b[0mmicrosofttranslator\u001b[0m \u001b[0;32mimport\u001b[0m \u001b[0mTranslator\u001b[0m\u001b[0;34m\u001b[0m\u001b[0m\n\u001b[0m\u001b[1;32m      2\u001b[0m \u001b[0mclientid\u001b[0m \u001b[0;34m=\u001b[0m \u001b[0mTRANSLATOR_ID\u001b[0m\u001b[0;34m\u001b[0m\u001b[0m\n\u001b[1;32m      3\u001b[0m \u001b[0mkey\u001b[0m \u001b[0;34m=\u001b[0m \u001b[0mTRANSLATOR_AUTH\u001b[0m\u001b[0;34m\u001b[0m\u001b[0m\n\u001b[1;32m      4\u001b[0m \u001b[0mtranslator\u001b[0m \u001b[0;34m=\u001b[0m \u001b[0mTranslator\u001b[0m\u001b[0;34m(\u001b[0m\u001b[0mclientid\u001b[0m\u001b[0;34m,\u001b[0m \u001b[0mkey\u001b[0m\u001b[0;34m)\u001b[0m\u001b[0;34m\u001b[0m\u001b[0m\n\u001b[1;32m      5\u001b[0m \u001b[0mprint\u001b[0m\u001b[0;34m(\u001b[0m\u001b[0mtranslator\u001b[0m\u001b[0;34m.\u001b[0m\u001b[0mtranslate\u001b[0m\u001b[0;34m(\u001b[0m\u001b[0;34m\"Hello\"\u001b[0m\u001b[0;34m,\u001b[0m \u001b[0;34m\"pt\"\u001b[0m\u001b[0;34m)\u001b[0m\u001b[0;34m)\u001b[0m\u001b[0;34m\u001b[0m\u001b[0m\n",
      "\u001b[0;31mModuleNotFoundError\u001b[0m: No module named 'microsofttranslator'"
     ]
    }
   ],
   "source": [
    "from microsofttranslator import Translator\n",
    "clientid = TRANSLATOR_ID\n",
    "key = TRANSLATOR_AUTH\n",
    "translator = Translator(clientid, key)\n",
    "print(translator.translate(\"Hello\", \"pt\"))"
   ]
  },
  {
   "cell_type": "code",
   "execution_count": 14,
   "metadata": {},
   "outputs": [
    {
     "data": {
      "text/plain": [
       "<Response [200]>"
      ]
     },
     "execution_count": 14,
     "metadata": {},
     "output_type": "execute_result"
    }
   ],
   "source": [
    "resp = req.get(\"https://api.borigo.dk/v0/posts.json\", data={'limit':\"100\"},  headers={'Authorization': 'Token token=\"'+BORIGO_TOKEN+'\"'})\n",
    "resp"
   ]
  },
  {
   "cell_type": "code",
   "execution_count": null,
   "metadata": {
    "collapsed": true
   },
   "outputs": [],
   "source": []
  },
  {
   "cell_type": "code",
   "execution_count": 15,
   "metadata": {
    "scrolled": false
   },
   "outputs": [
    {
     "ename": "SyntaxError",
     "evalue": "invalid syntax (<ipython-input-15-354e7f793146>, line 10)",
     "output_type": "error",
     "traceback": [
      "\u001b[0;36m  File \u001b[0;32m\"<ipython-input-15-354e7f793146>\"\u001b[0;36m, line \u001b[0;32m10\u001b[0m\n\u001b[0;31m    print(s_dk, p['poster']['first_name'], p['poster']['last_name'], p['content'])\u001b[0m\n\u001b[0m        ^\u001b[0m\n\u001b[0;31mSyntaxError\u001b[0m\u001b[0;31m:\u001b[0m invalid syntax\n"
     ]
    }
   ],
   "source": [
    "for p in resp.json()['posts']:\n",
    "    c = remove_tags(p['content'])\n",
    "    # Using microsoft translate\n",
    "    #t = translator.translate(c, 'en')    \n",
    "    # Using online sentiment analysis (in english)\n",
    "    #s = req.post(\"http://text-processing.com/api/sentiment/\", data={\"text\": t}).json()\n",
    "    # Using sentiment analysis (in Danish directly)\n",
    "    s_dk = afinn.score(afinn.score(p['content'])#/len(c.split())\n",
    "    #print(s_dk, s['label'], p['content'])\n",
    "    print(s_dk, p['poster']['first_name'], p['poster']['last_name'], p['content'])    "
   ]
  },
  {
   "cell_type": "code",
   "execution_count": 55,
   "metadata": {},
   "outputs": [
    {
     "data": {
      "text/plain": [
       "0.05369928400954654"
      ]
     },
     "execution_count": 55,
     "metadata": {},
     "output_type": "execute_result"
    }
   ],
   "source": [
    "text=\"\"\"\n",
    "Charlotte Birch-Jessen <p>For alle interesserede: Så brainer vi endnu engang på ideer til østsiden af fælleshuset: Tirsdag den 24. maj kl. 20-21. Alle er velkomne! På mødet nedsætter vi en arbejdsgruppe, der vil gå videre med ideerne.</p><p>Jeg har sammenskrevet de ideer vi kom op med ved sidste brainstorm (vedhæftet fil).</p><p>Vel mødt!!</p><p>Charlotte</p>\n",
    "1.0 Charlotte Birch-Jessen <p>Brainstormmøde nr. 2</p><p>For alle med interesse i og gode ideer til østsiden.</p><p>Jeg forestiller mig at vi på mødet nedsætter en arbejdsgruppe, der arbejder videre med ideerne. </p>\n",
    "5.0 Susanne Prang <p>Fokus på:</p><p>1. Konkret aftale om logning af tiltag i køkken og storrum, som kan have indvirkning på Lars' DB-målinger. Vi skal bl.a. have valgt en ansvarlig.</p><p>2. Beskrivelse af adfærds\"regler\" i videste forstand, som kan dæmpe støjniveauet og give en bedre samlet oplevelse af samvær.</p><p>3. Status fra jeppe omkring afskærmning mellem køkken/storrum</p>\n",
    "-2.0 Jeppe Lykke Møller <p>Hej naboer,</p><p>Hvis I som jeg har haft lidt svært ved at finde opstillingsmateriale og stemmeseddel på Skoleintra, så har jeg vedhæftet det her.</p><p>Jeg stiller (selvfølgelig) op til skolebestyrelsen sammen med en fire andre gode mennesker, og det kunne være fedt, hvis der var en masse, der stemte.</p><p>Fristen er på torsdag d. 12. maj kl. 12. Det nemmeste er at aflevere stemmesedlen på skolekontoret. Men man kan også sende den i en kuvert i endnu en kuvert.</p><p>Mvh. Jeppe</p>\n",
    "2.0 Jesper Nielsen <p>Kære Alle</p><p>Der må være andre, der er gamle nok til at kende Rickie Lee Jones. </p><p><a href=\"http://www.amagerbio.dk/index.php/events/index/rickie-lee-jones-%28us%29/31-05-2016\" rel=\"nofollow\">http://www.amagerbio.dk/index.php/events/index/ric...</a></p><p>Om ikke andet så er nogen af jer så unge at det er på tide at I lærer hende at kende. Den blå elflyder kører lige fra dør til dør (først til mølle). Billetten sørger du selv for.</p><p>mvh. Jesper  </p>\n",
    "0.0 Kasper Birch <p>Bestyrelsesmøde</p>\n",
    "0.0 Katja Stage <p>Hej alle</p><p>I dag begynder vi at plante i kasserne ved fælleshuset. Vi planter:</p><p>- Lars´ Lasagnebed ( Timian)<br>- Mojito-bed (Mynte)<br>- Persille-bed (bredbladet og kruspersille)<br>- Mormor-bed med (rarbarbar og løvstikke)</p><p>Det lille krydderbed er åben for donationer, og kommer blandt andet til at indeholde salvie og tallerkensmækker mv.</p><p>kig forbi hvis I har spørgsmål</p><p>Vh</p><p>Katja og Lea</p>\n",
    "0.0 Karen Marie Rethoré <p>og vi tænder op i bålet ca kl. 19, så kom forbi og få bålpopcorn eller tag andet med </p>\n",
    "2.0 Charlotte Birch-Jessen <p>kære naboer. vi tænder op i grillen så kom forbi til en hotdog. Kh hus </p>\n",
    "2.0 Jesper Nielsen <p>kære alle</p><p>Batteriet holder lidt længere på den. Til gengæld skal den lade mindst 12 timer. Lader står i værkstedet på bordet ved stikkontakten. </p><p>Mvh. Jespe</p>\n",
    "10.0 Brigitte Tonn <p>Kære madgrupper</p><p>Det er ved at være sidste runde for madlavning i grupperne. Jeg vil derfor minde grupperne om, at I skal få brugt jeres rester fra fryseren inden sommerferien!</p><p>Og tro mig. Der er mad i fryseren :-) Find en i hver gruppe, som melder sig som ansvarlig for at finde ud af, hvad I har i fryseren inden jeres næste madmøde og lad det indgå i menuen.</p><p>Hvert år smider en dansk husstand gennemsnitligt mad ud for 7000,- på et år. Hvis vi gør det som husstande i Svalin smider vi ud for 140.000 samlet. Sikke mange ting vi kunne købe til fælleskabet for de penge. </p><p>De bedste madspildshilsner</p><p>Gitte</p>\n",
    "2.0 Mette Nielsen <p>Der må være en del glas, kopper, plastbeholdere med grønne låg mv. som råber om at komme hjem i fælleshuset... ;o)</p><p>Vi måtte dække bord med krus i dag, da der ikke var glas nok</p><p>Varme tanker </p><p>Mette</p>\n",
    "4.0 Signe Grummesgaard Gjesing <p>Har nogen mulighed for at vande vores krukker her  i miniferien? Alle planter står udenfor :-)</p>\n",
    "2.0 Sisse Winther Oreskov <p>Vi har 4 hvide Bestå reoler fra Ikea (l:120, D: 40, H: 38), de kan ses i vores kælderrum. Hvis der er nogle der vil have dem, så giv lyd i dag, da vi kører dem til genbrug i morgen.</p>\n",
    "2.0 Lars Lundegaard <p>Jeg har brug for 2G data SIM kort fra en af disse udbydere til en datalogger som vi med fordel kan bruge i fælleshuset. Den logger temperatur, CO2 koncentration, relativ luftfugtighed og støjniveau.</p>\n",
    "5.0 Karen Marie Rethoré <p>Der er kommet et ton sand! Den røde sandkasse skal fyldes (og puttes presenning på), og resten skal fordeles i de to  andre sandkasser. Alle er velkomne til at hjælpe :-) </p>\n",
    "1.0 Katja Stage <p>Hej alle</p><p>Vi leder efter udstyr til vores fest. Er der mon nogen der har et tovtrækningsreb eller nogle gamle hestesko vi kan låne?</p><p>Vh </p><p>Kajta</p>\n",
    "1.0 Katja Stage <p>Hej alle</p><p>Som lovet kommer her en invitation I kan printe ud og hænge på opslagstavlen... eller noget: <a href=\"https://goo.gl/2F3XqP\" rel=\"nofollow\"><u></u></a><u><a href=\"https://goo.gl/2F3XqP\" rel=\"nofollow\">https://goo.gl/2F3XqP</a></u> bemærk at der er SU senest d. 15/5 men det står alt sammen i invitationen.</p><p> Vi ses, KH Katja &amp; Marc</p>\n",
    "2.0 Katja Stage <p>Hej alle</p><p>Jeg er ved at lave en pilehytte ud for klynge 1 ved siden af gyngestativet. Målet er at lave en hyggelig hule for børnene som også er fin at kigge på.  Naboerne i klyngen har sagt ok til det.</p><p>Jeg arbejder videre på den i løbet af de næste par uger. Kom gerne forbi og kig og få snak.</p><p>Vh</p><p>Katja</p>\n",
    "2.0 Line Anne Roien <p><em></em>Der er lagkager i fælleshuset - rester fra Siris klassefødselsdag. Kom endelig forbi og hent et stykke :)</p>\n",
    "\"\"\"\n",
    "afinn.score(remove_tags(text))/len(remove_tags(text).split())"
   ]
  },
  {
   "cell_type": "code",
   "execution_count": 57,
   "metadata": {},
   "outputs": [
    {
     "data": {
      "text/plain": [
       "45.0"
      ]
     },
     "execution_count": 57,
     "metadata": {},
     "output_type": "execute_result"
    }
   ],
   "source": [
    "afinn.score(remove_tags(text))"
   ]
  },
  {
   "cell_type": "code",
   "execution_count": 49,
   "metadata": {},
   "outputs": [
    {
     "data": {
      "text/plain": [
       "109"
      ]
     },
     "execution_count": 49,
     "metadata": {},
     "output_type": "execute_result"
    }
   ],
   "source": [
    "e Glade<p>Kære madgrupper</p><p>Det er ved at være sidste runde for madlavning i grupperne. Jeg vil derfor minde grupperne om, at I skal få brugt jeres rester fra fryseren inden sommerferien!</p><p>Og tro mig. Der er mad i fryseren :-) Find en i hver gruppe, som melder sig som ansvarlig for at finde ud af, hvad I har i fryseren inden jeres næste madmøde og lad det indgå i menuen.</p><p>Hvert år smider en dansk husstand gennemsnitligt mad ud for 7000,- på et år. Hvis vi gør det som husstande i Svalin smider vi ud for 140.000 samlet. Sikke mange ting vi kunne købe til fælleskabet for de penge. </p><p>De bedste madspildshilsner</p><p>Gitte</p>'.split())"
   ]
  },
  {
   "cell_type": "code",
   "execution_count": null,
   "metadata": {
    "collapsed": true
   },
   "outputs": [],
   "source": []
  }
 ],
 "metadata": {
  "kernelspec": {
   "display_name": "Python 3",
   "language": "python",
   "name": "python3"
  },
  "language_info": {
   "codemirror_mode": {
    "name": "ipython",
    "version": 3
   },
   "file_extension": ".py",
   "mimetype": "text/x-python",
   "name": "python",
   "nbconvert_exporter": "python",
   "pygments_lexer": "ipython3",
   "version": "3.6.2"
  }
 },
 "nbformat": 4,
 "nbformat_minor": 1
}
