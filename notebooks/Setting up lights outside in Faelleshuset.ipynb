{
 "cells": [
  {
   "cell_type": "code",
   "execution_count": 1,
   "metadata": {
    "collapsed": false
   },
   "outputs": [],
   "source": [
    "\n",
    "import sys, os\n",
    "cdir = %pwd\n",
    "sys.path.append(os.path.join(cdir, '..', 'python'))\n"
   ]
  },
  {
   "cell_type": "code",
   "execution_count": 2,
   "metadata": {
    "collapsed": false
   },
   "outputs": [],
   "source": [
    "from hue_show import *"
   ]
  },
  {
   "cell_type": "code",
   "execution_count": 7,
   "metadata": {
    "collapsed": false
   },
   "outputs": [
    {
     "name": "stdout",
     "output_type": "stream",
     "text": [
      "[{\"id\":\"001788fffe0aa167\",\"internalipaddress\":\"10.0.1.16\"},{\"id\":\"001788fffe273a83\",\"internalipaddress\":\"10.0.1.2\"}]"
     ]
    }
   ],
   "source": [
    "!curl https://www.meethue.com/api/nupnp"
   ]
  },
  {
   "cell_type": "code",
   "execution_count": 8,
   "metadata": {
    "collapsed": true
   },
   "outputs": [],
   "source": [
    "from time import sleep\n",
    "from phue import Bridge\n",
    "import random\n",
    "from numpy import zeros, ones\n",
    "import numpy as np\n",
    "import matplotlib.pyplot as plt\n",
    "from tqdm import *\n",
    "import requests as req\n",
    "import pandas as pd\n",
    "from rgb_cie import Converter"
   ]
  },
  {
   "cell_type": "code",
   "execution_count": 9,
   "metadata": {
    "collapsed": true
   },
   "outputs": [],
   "source": [
    "bridges = req.get('https://www.meethue.com/api/nupnp').json()"
   ]
  },
  {
   "cell_type": "code",
   "execution_count": 13,
   "metadata": {
    "collapsed": false,
    "scrolled": true
   },
   "outputs": [],
   "source": [
    "bri = []\n",
    "for br in bridges:\n",
    "    b = Bridge(br['internalipaddress'])\n",
    "    b.connect\n",
    "    bri.append(b)"
   ]
  },
  {
   "cell_type": "code",
   "execution_count": 14,
   "metadata": {
    "collapsed": false
   },
   "outputs": [],
   "source": [
    "b1 = bri\n"
   ]
  },
  {
   "cell_type": "code",
   "execution_count": 15,
   "metadata": {
    "collapsed": false
   },
   "outputs": [
    {
     "ename": "TypeError",
     "evalue": "normal() missing 1 required positional argument: 'b'",
     "output_type": "error",
     "traceback": [
      "\u001b[0;31m---------------------------------------------------------------------------\u001b[0m",
      "\u001b[0;31mTypeError\u001b[0m                                 Traceback (most recent call last)",
      "\u001b[0;32m<ipython-input-15-7e170f945c19>\u001b[0m in \u001b[0;36m<module>\u001b[0;34m()\u001b[0m\n\u001b[1;32m      8\u001b[0m     \u001b[0mrgbl\u001b[0m\u001b[0;34m(\u001b[0m\u001b[0ml\u001b[0m\u001b[0;34m,\u001b[0m \u001b[0;36m1.0\u001b[0m\u001b[0;34m,\u001b[0m\u001b[0;36m0.0\u001b[0m\u001b[0;34m,\u001b[0m\u001b[0;36m0.0\u001b[0m\u001b[0;34m,\u001b[0m \u001b[0mbrightness\u001b[0m\u001b[0;34m=\u001b[0m\u001b[0;36m254\u001b[0m\u001b[0;34m)\u001b[0m\u001b[0;34m\u001b[0m\u001b[0m\n\u001b[1;32m      9\u001b[0m \u001b[0;34m\u001b[0m\u001b[0m\n\u001b[0;32m---> 10\u001b[0;31m \u001b[0mnormal\u001b[0m\u001b[0;34m(\u001b[0m\u001b[0;34m)\u001b[0m\u001b[0;34m\u001b[0m\u001b[0m\n\u001b[0m\u001b[1;32m     11\u001b[0m \u001b[0;32mfor\u001b[0m \u001b[0mn\u001b[0m \u001b[0;32min\u001b[0m \u001b[0mrange\u001b[0m\u001b[0;34m(\u001b[0m\u001b[0;36m9\u001b[0m\u001b[0;34m)\u001b[0m\u001b[0;34m:\u001b[0m\u001b[0;34m\u001b[0m\u001b[0m\n\u001b[1;32m     12\u001b[0m     \u001b[0;32mtry\u001b[0m\u001b[0;34m:\u001b[0m\u001b[0;34m\u001b[0m\u001b[0m\n",
      "\u001b[0;31mTypeError\u001b[0m: normal() missing 1 required positional argument: 'b'"
     ]
    }
   ],
   "source": [
    "ln = 1\n",
    "speed = 20 # m/s\n",
    "distance = 7 #m between each lamp\n",
    "time = 7 / (speed * 1E3 / (60*60))\n",
    "\n",
    "def light(name, r,g,b):\n",
    "    l = b.lights_by_name[name]\n",
    "    rgbl(l, 1.0,0.0,0.0, brightness=254)\n",
    "\n",
    "normal()    \n",
    "for n in range(9):\n",
    "    try:\n",
    "        name = \"P%d\"%((ln+n)%(19)+1)\n",
    "        l = b.lights_by_name[name]\n",
    "        rgbl(l, 1.0,0.0,0.0, brightness=254)\n",
    "        sleep(time)\n",
    "        rgbl(l, 1.,1.,1., brightness=254)\n",
    "        sleep(0.1)\n",
    "    except Exception as e:\n",
    "        print(e)\n"
   ]
  },
  {
   "cell_type": "markdown",
   "metadata": {
    "collapsed": true
   },
   "source": [
    "### Search for lights"
   ]
  },
  {
   "cell_type": "code",
   "execution_count": 16,
   "metadata": {
    "collapsed": true
   },
   "outputs": [],
   "source": [
    "import json\n",
    "import time"
   ]
  },
  {
   "cell_type": "code",
   "execution_count": 17,
   "metadata": {
    "collapsed": false,
    "scrolled": true
   },
   "outputs": [],
   "source": [
    "b1 = b1[0]"
   ]
  },
  {
   "cell_type": "code",
   "execution_count": 18,
   "metadata": {
    "collapsed": true
   },
   "outputs": [],
   "source": [
    "IP = b1.ip"
   ]
  },
  {
   "cell_type": "code",
   "execution_count": 58,
   "metadata": {
    "collapsed": true
   },
   "outputs": [],
   "source": [
    "get = lambda i, str_:req.get('http://'+bri[i].ip+'/api/'+bri[i].username+'/'+str_).json()\n",
    "post = lambda i, str_, data:req.post('http://'+bri[i].ip+'/api/'+bri[i].username+'/'+str_, json.dumps(data)).json()\n",
    "put = lambda i, str_,  data:req.put('http://'+bri[i].ip+'/api/'+bri[i].username+'/'+str_, json.dumps(data)).json()"
   ]
  },
  {
   "cell_type": "markdown",
   "metadata": {},
   "source": [
    "Search for new lights"
   ]
  },
  {
   "cell_type": "code",
   "execution_count": 48,
   "metadata": {
    "collapsed": false
   },
   "outputs": [
    {
     "data": {
      "text/plain": [
       "[{'success': {'/lights': 'Searching for new devices'}}]"
      ]
     },
     "execution_count": 48,
     "metadata": {},
     "output_type": "execute_result"
    }
   ],
   "source": [
    "post(0,'lights',{})\n",
    "post(1,'lights',{})"
   ]
  },
  {
   "cell_type": "code",
   "execution_count": 49,
   "metadata": {
    "collapsed": false,
    "scrolled": true
   },
   "outputs": [
    {
     "data": {
      "text/plain": [
       "{'lastscan': 'active'}"
      ]
     },
     "execution_count": 49,
     "metadata": {},
     "output_type": "execute_result"
    }
   ],
   "source": [
    "get(0,'lights/new')\n",
    "get(1,'lights/new')"
   ]
  },
  {
   "cell_type": "code",
   "execution_count": 50,
   "metadata": {
    "collapsed": false
   },
   "outputs": [
    {
     "name": "stdout",
     "output_type": "stream",
     "text": [
      "now there are 29 lights\n"
     ]
    }
   ],
   "source": [
    "print('now there are %d lights'%(len(get(0,'lights'))))"
   ]
  },
  {
   "cell_type": "code",
   "execution_count": 67,
   "metadata": {
    "collapsed": false,
    "scrolled": true
   },
   "outputs": [
    {
     "name": "stdout",
     "output_type": "stream",
     "text": [
      "Bridge-0\n",
      "Hue Lamp 26 False 00:17:88:01:00:dc:f6:9b-0b\n",
      "Table 2 False 00:17:88:01:00:bf:3a:24-0b\n",
      "Hue Lamp 15 False 00:17:88:01:00:f5:80:43-0b\n",
      "Hue Lamp 23 False 00:17:88:01:00:ec:95:ff-0b\n",
      "Hue Lamp 8 True 00:17:88:01:00:dc:ea:dc-0b\n",
      "Hue Lamp 19 True 00:17:88:01:00:d9:cb:35-0b\n",
      "Hue Lamp 11 False 00:17:88:01:00:dc:58:1b-0b\n",
      "Hue Lamp 25 False 00:17:88:01:00:f5:4a:93-0b\n",
      "Hue Lamp 6 True 00:17:88:01:00:db:ad:de-0b\n",
      "Hue Lamp 12 False 00:17:88:01:00:f5:80:7f-0b\n",
      "Hue Lamp 20 False 00:17:88:01:00:ec:91:5b-0b\n",
      "Sofa False 00:17:88:01:00:ba:99:e7-0b\n",
      "Hue Lamp 7 True 00:17:88:01:00:f5:8e:ff-0b\n",
      "Hue lightstrip 1 False 00:17:88:01:00:cf:a5:dc-0b\n",
      "Stairs False 00:17:88:01:00:bf:2f:6d-0b\n",
      "Hue Lamp 24 False 00:17:88:01:00:ec:95:8a-0b\n",
      "Reol False 00:17:88:01:00:b1:f1:68-0b\n",
      "Hue Lamp 27 False 00:17:88:01:00:ee:c4:2e-0b\n",
      "Hue Lamp 10 True 00:17:88:01:00:d9:cb:67-0b\n",
      "Hue Lamp 17 True 00:17:88:01:00:f5:71:01-0b\n",
      "Hue Lamp 16 True 00:17:88:01:00:f5:92:2e-0b\n",
      "Table 1 False 00:17:88:01:00:b1:f8:dc-0b\n",
      "Hue Lamp 3 False 00:17:88:01:00:d9:bd:12-0b\n",
      "Hue Lamp 13 False 00:17:88:01:00:f5:7c:ae-0b\n",
      "Hue Lamp 18 False 00:17:88:01:00:ec:92:7e-0b\n",
      "Hue Lamp 22 False 00:17:88:01:00:f5:90:b4-0b\n",
      "Hue Lamp 14 False 00:17:88:01:00:ee:c7:5f-0b\n",
      "Hue Lamp 21 False 00:17:88:01:00:dc:fe:12-0b\n",
      "Hue Lamp 9 False 00:17:88:01:00:d9:c9:cf-0b\n",
      "Bridge-1\n",
      "Hue color lamp 2 False 00:17:88:01:00:f5:70:78-0b\n",
      "P9 False 00:17:88:01:00:ec:92:7e-0b\n",
      "P3 True 00:17:88:01:00:d9:cb:67-0b\n",
      "P16 True 00:17:88:01:00:dc:ea:dc-0b\n",
      "P8 False 00:17:88:01:00:ee:c4:2e-0b\n",
      "Hue color lamp 14 False 00:17:88:01:00:ee:c5:bb-0b\n",
      "P6 False 00:17:88:01:00:ec:91:a2-0b\n",
      "Hue color lamp 13 False 00:17:88:01:00:f5:8d:1c-0b\n",
      "P15 False 00:17:88:01:00:dc:58:1b-0b\n",
      "Hue color lamp 1 False 00:17:88:01:00:f5:6e:d7-0b\n",
      "P12 True 00:17:88:01:00:f5:71:01-0b\n",
      "Hue color lamp 9 False 00:17:88:01:00:f5:7a:87-0b\n",
      "P4 False 00:17:88:01:00:ec:91:5b-0b\n",
      "Hue color lamp 4 False 00:17:88:01:00:dc:fe:12-0b\n",
      "P13 False 00:17:88:01:00:f5:7c:ae-0b\n",
      "Hue color lamp 5 False 00:17:88:01:00:dc:f6:9b-0b\n",
      "Hue color lamp 10 False 00:17:88:01:00:f5:8f:f2-0b\n",
      "Hue color lamp 11 False 00:17:88:01:00:f5:91:b0-0b\n",
      "Hue color lamp 12 False 00:17:88:01:00:dc:06:c9-0b\n",
      "Hue lightstrip 1 False 00:17:88:01:00:cf:a5:dc-0b\n",
      "Hue color lamp 15 False 00:17:88:01:00:f5:80:43-0b\n",
      "Hue color lamp 6 False 00:17:88:01:00:f5:90:b4-0b\n",
      "Hue color lamp 7 False 00:17:88:01:00:f5:4a:93-0b\n",
      "AJ False 00:17:88:01:00:ff:ec:16-0b\n",
      "P5 False 00:17:88:01:00:ee:c7:5f-0b\n",
      "P7 False 00:17:88:01:00:ee:c6:91-0b\n",
      "Hue color lamp 3 False 00:17:88:01:00:d9:cc:a3-0b\n",
      "P11 True 00:17:88:01:00:f5:92:2e-0b\n",
      "P10 True 00:17:88:01:00:d9:cb:35-0b\n",
      "P14 False 00:17:88:01:00:f5:80:7f-0b\n",
      "Hue color lamp 8 False 00:17:88:01:00:ec:95:8a-0b\n",
      "P17 False 00:17:88:01:00:d9:bd:12-0b\n",
      "P1 False 00:17:88:01:00:d9:c9:cf-0b\n",
      "P19 False 00:17:88:01:00:d9:ca:66-0b\n",
      "P2 True 00:17:88:01:00:f5:8e:ff-0b\n",
      "P18 True 00:17:88:01:00:db:ad:de-0b\n"
     ]
    }
   ],
   "source": [
    "lamps = {}\n",
    "for i in range(len(bri)):\n",
    "    print('Bridge-%d'%(i))\n",
    "    for k,v in get(i,'lights').items():\n",
    "        #if 'Hue color' in v['name']:\n",
    "        print(v['name'], v['state']['reachable'], v['uniqueid'])\n",
    "        idl = v['uniqueid']\n",
    "        if idl in lamps:\n",
    "            lamps[idl][i] = v\n",
    "        else:\n",
    "            lamps[idl] = {i:v}\n",
    "    time.sleep(2)"
   ]
  },
  {
   "cell_type": "code",
   "execution_count": 68,
   "metadata": {
    "collapsed": false,
    "scrolled": true
   },
   "outputs": [
    {
     "name": "stdout",
     "output_type": "stream",
     "text": [
      "0: False Hue Lamp 3 \n",
      "1: False P17 \n",
      "\n",
      "0: False Hue Lamp 20 \n",
      "1: False P4 \n",
      "\n",
      "0: False Hue Lamp 15 \n",
      "1: False Hue color lamp 15 \n",
      "\n",
      "0: False Hue Lamp 26 \n",
      "1: False Hue color lamp 5 \n",
      "\n",
      "0: True Hue Lamp 6 \n",
      "1: True P18 \n",
      "\n",
      "0: False Hue Lamp 21 \n",
      "1: False Hue color lamp 4 \n",
      "\n",
      "0: True Hue Lamp 8 \n",
      "1: True P16 \n",
      "\n",
      "0: True Hue Lamp 10 \n",
      "1: True P3 \n",
      "\n",
      "0: True Hue Lamp 7 \n",
      "1: True P2 \n",
      "\n",
      "0: False Hue Lamp 9 \n",
      "1: False P1 \n",
      "\n",
      "0: False Hue Lamp 25 \n",
      "1: False Hue color lamp 7 \n",
      "\n",
      "0: True Hue Lamp 17 \n",
      "1: True P12 \n",
      "\n",
      "0: False Hue lightstrip 1 \n",
      "1: False Hue lightstrip 1 \n",
      "\n",
      "0: False Hue Lamp 13 \n",
      "1: False P13 \n",
      "\n",
      "0: False Hue Lamp 12 \n",
      "1: False P14 \n",
      "\n",
      "0: False Hue Lamp 14 \n",
      "1: False P5 \n",
      "\n",
      "0: True Hue Lamp 16 \n",
      "1: True P11 \n",
      "\n",
      "0: False Hue Lamp 27 \n",
      "1: False P8 \n",
      "\n",
      "0: False Hue Lamp 18 \n",
      "1: False P9 \n",
      "\n",
      "0: True Hue Lamp 19 \n",
      "1: True P10 \n",
      "\n",
      "0: False Hue Lamp 11 \n",
      "1: False P15 \n",
      "\n",
      "0: False Hue Lamp 24 \n",
      "1: False Hue color lamp 8 \n",
      "\n",
      "0: False Hue Lamp 22 \n",
      "1: False Hue color lamp 6 \n",
      "\n"
     ]
    }
   ],
   "source": [
    "for k,v in lamps.items():\n",
    "    if len(v)>1:\n",
    "        print('0:',   v[0]['state']['reachable'], v[0]['name'], \n",
    "              '\\n1:', v[1]['state']['reachable'], v[1]['name'], \n",
    "              '\\n')"
   ]
  },
  {
   "cell_type": "code",
   "execution_count": 73,
   "metadata": {
    "collapsed": false
   },
   "outputs": [],
   "source": [
    "lamps2 = {}\n",
    "for k, v in lamps.items():\n",
    "    if 0 in v:\n",
    "        if 'P' in v[0]['name']:\n",
    "                lamps2[v[0]['name']] = v\n",
    "    if 1 in v:\n",
    "        if 'P' in v[1]['name']:\n",
    "            lamps2[v[1]['name']] = v\n",
    "        "
   ]
  },
  {
   "cell_type": "code",
   "execution_count": 75,
   "metadata": {
    "collapsed": false
   },
   "outputs": [
    {
     "data": {
      "text/plain": [
       "{0: {'manufacturername': 'Philips',\n",
       "  'modelid': 'LCT001',\n",
       "  'name': 'Hue Lamp 9',\n",
       "  'pointsymbol': {'1': 'none',\n",
       "   '2': 'none',\n",
       "   '3': 'none',\n",
       "   '4': 'none',\n",
       "   '5': 'none',\n",
       "   '6': 'none',\n",
       "   '7': 'none',\n",
       "   '8': 'none'},\n",
       "  'state': {'alert': 'none',\n",
       "   'bri': 0,\n",
       "   'colormode': 'hs',\n",
       "   'ct': 0,\n",
       "   'effect': 'none',\n",
       "   'hue': 2000,\n",
       "   'on': True,\n",
       "   'reachable': False,\n",
       "   'sat': 0,\n",
       "   'xy': [0.0, 0.0]},\n",
       "  'swversion': '66013187',\n",
       "  'type': 'Extended color light',\n",
       "  'uniqueid': '00:17:88:01:00:d9:c9:cf-0b'},\n",
       " 1: {'manufacturername': 'Philips',\n",
       "  'modelid': 'LCT001',\n",
       "  'name': 'P1',\n",
       "  'state': {'alert': 'none',\n",
       "   'bri': 254,\n",
       "   'colormode': 'hs',\n",
       "   'ct': 187,\n",
       "   'effect': 'none',\n",
       "   'hue': 2000,\n",
       "   'on': True,\n",
       "   'reachable': False,\n",
       "   'sat': 213,\n",
       "   'xy': [0.3362, 0.3604]},\n",
       "  'swversion': '66013187',\n",
       "  'type': 'Extended color light',\n",
       "  'uniqueid': '00:17:88:01:00:d9:c9:cf-0b'}}"
      ]
     },
     "execution_count": 75,
     "metadata": {},
     "output_type": "execute_result"
    }
   ],
   "source": [
    "lamps2['P1']"
   ]
  },
  {
   "cell_type": "code",
   "execution_count": 25,
   "metadata": {
    "collapsed": true
   },
   "outputs": [],
   "source": [
    "all_lights = [\"DF1430\", \"7AC331\", \"B055E9\", \"1913F7\", \"2D2DA6\", \"0F9E4E\", \"DDE088\", \"209C5A\", \"E2B400\", \"6878AA\", \"34DE81\", \"62F1E6\", \"D9953F\", \"2A75A7\", \"5D3F46\", \"132A13\", \"81D5FE\", \"CF5C37\"]"
   ]
  },
  {
   "cell_type": "code",
   "execution_count": 26,
   "metadata": {
    "collapsed": false
   },
   "outputs": [
    {
     "data": {
      "text/plain": [
       "10"
      ]
     },
     "execution_count": 26,
     "metadata": {},
     "output_type": "execute_result"
    }
   ],
   "source": [
    "len(all_lights[0:10])"
   ]
  },
  {
   "cell_type": "code",
   "execution_count": 27,
   "metadata": {
    "collapsed": true
   },
   "outputs": [],
   "source": [
    "import json"
   ]
  },
  {
   "cell_type": "code",
   "execution_count": 28,
   "metadata": {
    "collapsed": false,
    "scrolled": true
   },
   "outputs": [],
   "source": [
    "import time"
   ]
  },
  {
   "cell_type": "code",
   "execution_count": 53,
   "metadata": {
    "collapsed": false
   },
   "outputs": [],
   "source": [
    "for i in range(len(bri)):\n",
    "    post(i,'lights', {\"deviceid\":all_lights[0:10]})\n",
    "    time.sleep(2)\n",
    "    post(i,'lights', {\"deviceid\":all_lights[10:]})\n",
    "    time.sleep(2)\n",
    "    "
   ]
  },
  {
   "cell_type": "code",
   "execution_count": null,
   "metadata": {
    "collapsed": true
   },
   "outputs": [],
   "source": []
  },
  {
   "cell_type": "markdown",
   "metadata": {},
   "source": [
    "### PARTY MODE"
   ]
  },
  {
   "cell_type": "code",
   "execution_count": 66,
   "metadata": {
    "collapsed": false
   },
   "outputs": [],
   "source": [
    "for i in range(len(bri)):\n",
    "    put(i, 'groups/0/action', \n",
    "        {\"on\": True,\n",
    "         \"hue\": 2000,\n",
    "        })\n",
    "    time.sleep(1)"
   ]
  },
  {
   "cell_type": "code",
   "execution_count": null,
   "metadata": {
    "collapsed": true
   },
   "outputs": [],
   "source": [
    "class Controler(object):\n",
    "    def __init__(self):\n",
    "        self.targets = {}\n",
    "        "
   ]
  }
 ],
 "metadata": {
  "kernelspec": {
   "display_name": "Python 3",
   "language": "python",
   "name": "python3"
  },
  "language_info": {
   "codemirror_mode": {
    "name": "ipython",
    "version": 3
   },
   "file_extension": ".py",
   "mimetype": "text/x-python",
   "name": "python",
   "nbconvert_exporter": "python",
   "pygments_lexer": "ipython3",
   "version": "3.5.1"
  }
 },
 "nbformat": 4,
 "nbformat_minor": 0
}
