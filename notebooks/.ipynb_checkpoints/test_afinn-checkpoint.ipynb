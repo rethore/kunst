{
 "cells": [
  {
   "cell_type": "code",
   "execution_count": 1,
   "metadata": {
    "collapsed": true
   },
   "outputs": [],
   "source": [
    "from afinn import Afinn\n",
    "import numpy as np\n",
    "import pandas as pd"
   ]
  },
  {
   "cell_type": "code",
   "execution_count": null,
   "metadata": {
    "collapsed": true
   },
   "outputs": [],
   "source": [
    "test = \"\"\"\n",
    "For alle interesserede: Så brainer vi endnu engang på ideer til østsiden af fælleshuset: Tirsdag den 24. maj kl. 20-21. Alle er velkomne! På mødet nedsætter vi en arbejdsgruppe, der vil gå videre med ideerne.\n",
    "\n",
    "Jeg har sammenskrevet de ideer vi kom op med ved sidste brainstorm (vedhæftet fil).\n",
    "\n",
    "Vel mødt!!\n",
    "\n",
    "Charlotte\n",
    "\"\"\""
   ]
  },
  {
   "cell_type": "code",
   "execution_count": null,
   "metadata": {
    "collapsed": true
   },
   "outputs": [],
   "source": [
    "# Sentiment analysis with AFINN\n",
    "afinn = Afinn(emoticons=True)\n",
    "afinn_scores = [afinn.score(text) for text in df.text]\n",
    "df['afinn'] = afinn_scores\n",
    "df[['sentiment', 'afinn', 'text']].head(10)"
   ]
  }
 ],
 "metadata": {
  "kernelspec": {
   "display_name": "Python 3",
   "language": "python",
   "name": "python3"
  },
  "language_info": {
   "codemirror_mode": {
    "name": "ipython",
    "version": 3
   },
   "file_extension": ".py",
   "mimetype": "text/x-python",
   "name": "python",
   "nbconvert_exporter": "python",
   "pygments_lexer": "ipython3",
   "version": "3.5.1"
  }
 },
 "nbformat": 4,
 "nbformat_minor": 0
}
