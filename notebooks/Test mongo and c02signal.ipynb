{
 "cells": [
  {
   "cell_type": "code",
   "execution_count": 1,
   "metadata": {
    "collapsed": true
   },
   "outputs": [],
   "source": [
    "from requests import get"
   ]
  },
  {
   "cell_type": "code",
   "execution_count": 2,
   "metadata": {
    "collapsed": true
   },
   "outputs": [],
   "source": [
    "# Reading the environment variables\n",
    "with open('../.env', 'r') as f:\n",
    "    data = f.read()\n",
    "for l in data.splitlines():\n",
    "    #eval(l.split('=')[0] + '=\"'+ l.split('=')[1]+'\"')\n",
    "    locals()[l.split('=')[0]] = l.split('=')[1]"
   ]
  },
  {
   "cell_type": "code",
   "execution_count": 3,
   "metadata": {
    "collapsed": true
   },
   "outputs": [],
   "source": [
    "resp = get('https://api.co2signal.com/v1/latest?countryCode=DK',headers={'auth-token': C02_AUTH}).json()"
   ]
  },
  {
   "cell_type": "code",
   "execution_count": 4,
   "metadata": {},
   "outputs": [
    {
     "data": {
      "text/plain": [
       "{'carbonIntensity': 364.6776850432061,\n",
       " 'fossilFuelPercentage': 50.0458390144196}"
      ]
     },
     "execution_count": 4,
     "metadata": {},
     "output_type": "execute_result"
    }
   ],
   "source": [
    "resp['data']\n"
   ]
  },
  {
   "cell_type": "code",
   "execution_count": 7,
   "metadata": {
    "collapsed": true
   },
   "outputs": [],
   "source": [
    "import matplotlib.pylab as plt"
   ]
  },
  {
   "cell_type": "code",
   "execution_count": 8,
   "metadata": {
    "collapsed": true
   },
   "outputs": [],
   "source": [
    "import sys\n",
    "# the mock-0.3.1 dir contains testcase.py, testutils.py & mock.py\n",
    "sys.path.append('/home/pilou/git/kunst/python/scripts')\n",
    "from hue_show import *"
   ]
  },
  {
   "cell_type": "code",
   "execution_count": 14,
   "metadata": {},
   "outputs": [
    {
     "name": "stderr",
     "output_type": "stream",
     "text": [
      "GET Request to 81.161.138.239:6675/api/EFFqv1xdgfY-Sgz9Vn6XlGdiFWGh2KUUjQvM6h8T/lights/ timed out.\n",
      "Traceback (most recent call last):\n",
      "  File \"/home/pilou/anaconda3/envs/kunst/lib/python3.6/site-packages/phue.py\", line 651, in request\n",
      "    connection.request(mode, address)\n",
      "  File \"/home/pilou/anaconda3/envs/kunst/lib/python3.6/http/client.py\", line 1239, in request\n",
      "    self._send_request(method, url, body, headers, encode_chunked)\n",
      "  File \"/home/pilou/anaconda3/envs/kunst/lib/python3.6/http/client.py\", line 1285, in _send_request\n",
      "    self.endheaders(body, encode_chunked=encode_chunked)\n",
      "  File \"/home/pilou/anaconda3/envs/kunst/lib/python3.6/http/client.py\", line 1234, in endheaders\n",
      "    self._send_output(message_body, encode_chunked=encode_chunked)\n",
      "  File \"/home/pilou/anaconda3/envs/kunst/lib/python3.6/http/client.py\", line 1026, in _send_output\n",
      "    self.send(msg)\n",
      "  File \"/home/pilou/anaconda3/envs/kunst/lib/python3.6/http/client.py\", line 964, in send\n",
      "    self.connect()\n",
      "  File \"/home/pilou/anaconda3/envs/kunst/lib/python3.6/http/client.py\", line 936, in connect\n",
      "    (self.host,self.port), self.timeout, self.source_address)\n",
      "  File \"/home/pilou/anaconda3/envs/kunst/lib/python3.6/socket.py\", line 722, in create_connection\n",
      "    raise err\n",
      "  File \"/home/pilou/anaconda3/envs/kunst/lib/python3.6/socket.py\", line 713, in create_connection\n",
      "    sock.connect(sa)\n",
      "socket.timeout: timed out\n"
     ]
    }
   ],
   "source": [
    "#/hello_world\n",
    "b = init_bridge(HUE_IP, HUE_CRED)"
   ]
  },
  {
   "cell_type": "code",
   "execution_count": 12,
   "metadata": {},
   "outputs": [
    {
     "data": {
      "text/plain": [
       "{}"
      ]
     },
     "execution_count": 12,
     "metadata": {},
     "output_type": "execute_result"
    }
   ],
   "source": [
    "b.lights_by_name"
   ]
  },
  {
   "cell_type": "code",
   "execution_count": 10,
   "metadata": {},
   "outputs": [
    {
     "ename": "KeyError",
     "evalue": "'P1'",
     "output_type": "error",
     "traceback": [
      "\u001b[0;31m---------------------------------------------------------------------------\u001b[0m",
      "\u001b[0;31mKeyError\u001b[0m                                  Traceback (most recent call last)",
      "\u001b[0;32m<ipython-input-10-31d2afd32904>\u001b[0m in \u001b[0;36m<module>\u001b[0;34m()\u001b[0m\n\u001b[0;32m----> 1\u001b[0;31m \u001b[0ml\u001b[0m \u001b[0;34m=\u001b[0m \u001b[0mb\u001b[0m\u001b[0;34m.\u001b[0m\u001b[0mlights_by_name\u001b[0m\u001b[0;34m[\u001b[0m\u001b[0;34m'P1'\u001b[0m\u001b[0;34m]\u001b[0m\u001b[0;34m\u001b[0m\u001b[0m\n\u001b[0m\u001b[1;32m      2\u001b[0m \u001b[0ml\u001b[0m\u001b[0;34m.\u001b[0m\u001b[0mxy\u001b[0m \u001b[0;34m=\u001b[0m \u001b[0mc\u001b[0m\u001b[0;34m.\u001b[0m\u001b[0mrgbToCIE1931\u001b[0m\u001b[0;34m(\u001b[0m\u001b[0;36m1.\u001b[0m\u001b[0;34m,\u001b[0m \u001b[0;36m1.\u001b[0m\u001b[0;34m,\u001b[0m \u001b[0;36m1.\u001b[0m\u001b[0;34m)\u001b[0m\u001b[0;34m\u001b[0m\u001b[0m\n\u001b[1;32m      3\u001b[0m \u001b[0ml\u001b[0m\u001b[0;34m.\u001b[0m\u001b[0mreachable\u001b[0m\u001b[0;34m\u001b[0m\u001b[0m\n",
      "\u001b[0;31mKeyError\u001b[0m: 'P1'"
     ]
    }
   ],
   "source": [
    "l = b.lights_by_name['P1']\n",
    "l.xy = c.rgbToCIE1931(1., 1., 1.)\n",
    "l.reachable"
   ]
  },
  {
   "cell_type": "code",
   "execution_count": 235,
   "metadata": {},
   "outputs": [
    {
     "data": {
      "text/plain": [
       "True"
      ]
     },
     "execution_count": 235,
     "metadata": {},
     "output_type": "execute_result"
    }
   ],
   "source": [
    "\n",
    "l.reachable"
   ]
  },
  {
   "cell_type": "code",
   "execution_count": 236,
   "metadata": {
    "collapsed": true
   },
   "outputs": [],
   "source": [
    "b.lights_by_name['P1'].xy = cmxy(1.0)"
   ]
  },
  {
   "cell_type": "code",
   "execution_count": 237,
   "metadata": {
    "collapsed": true
   },
   "outputs": [],
   "source": [
    "normal(b)"
   ]
  },
  {
   "cell_type": "code",
   "execution_count": 238,
   "metadata": {
    "collapsed": true
   },
   "outputs": [],
   "source": [
    "all_rgb(b, 1.0, 1.0, 1.0, 0.5)"
   ]
  },
  {
   "cell_type": "code",
   "execution_count": 239,
   "metadata": {},
   "outputs": [
    {
     "data": {
      "text/plain": [
       "dict_keys(['P10', 'P9', 'P11', 'P12', 'P13', 'P18', 'P5', 'P15', 'P14', 'P3', 'P17', 'P6', 'P4', 'P2', 'P1', 'P16', 'P19', 'P8', 'H21P', 'Parking 1', 'Parking 2', 'P7'])"
      ]
     },
     "execution_count": 239,
     "metadata": {},
     "output_type": "execute_result"
    }
   ],
   "source": [
    "b.lights_by_name.keys()"
   ]
  },
  {
   "cell_type": "code",
   "execution_count": 240,
   "metadata": {},
   "outputs": [
    {
     "data": {
      "text/plain": [
       "True"
      ]
     },
     "execution_count": 240,
     "metadata": {},
     "output_type": "execute_result"
    }
   ],
   "source": [
    "b.lights_by_name['P8'].reachable"
   ]
  },
  {
   "cell_type": "code",
   "execution_count": 241,
   "metadata": {},
   "outputs": [
    {
     "data": {
      "text/plain": [
       "'P1'"
      ]
     },
     "execution_count": 241,
     "metadata": {},
     "output_type": "execute_result"
    }
   ],
   "source": [
    "l.name"
   ]
  },
  {
   "cell_type": "code",
   "execution_count": 242,
   "metadata": {
    "collapsed": true
   },
   "outputs": [],
   "source": [
    "import datetime"
   ]
  },
  {
   "cell_type": "code",
   "execution_count": 246,
   "metadata": {
    "collapsed": true
   },
   "outputs": [],
   "source": [
    "dt = datetime.datetime.now() -d1"
   ]
  },
  {
   "cell_type": "code",
   "execution_count": 247,
   "metadata": {},
   "outputs": [
    {
     "data": {
      "text/plain": [
       "datetime.timedelta(-999999999)"
      ]
     },
     "execution_count": 247,
     "metadata": {},
     "output_type": "execute_result"
    }
   ],
   "source": [
    "dt.min"
   ]
  },
  {
   "cell_type": "code",
   "execution_count": 248,
   "metadata": {},
   "outputs": [
    {
     "data": {
      "text/plain": [
       "6581.707554"
      ]
     },
     "execution_count": 248,
     "metadata": {},
     "output_type": "execute_result"
    }
   ],
   "source": [
    "dt.total_seconds()"
   ]
  },
  {
   "cell_type": "code",
   "execution_count": 5,
   "metadata": {
    "collapsed": true
   },
   "outputs": [],
   "source": [
    "from pymongo import MongoClient\n",
    "mongo = MongoClient('localhost', 27017)\n",
    "db_state = mongo.state_db\n",
    "states = db_state.states"
   ]
  },
  {
   "cell_type": "code",
   "execution_count": 6,
   "metadata": {},
   "outputs": [
    {
     "data": {
      "text/plain": [
       "['admin', 'local', 'state_db']"
      ]
     },
     "execution_count": 6,
     "metadata": {},
     "output_type": "execute_result"
    }
   ],
   "source": [
    "mongo.database_names()"
   ]
  },
  {
   "cell_type": "code",
   "execution_count": 7,
   "metadata": {},
   "outputs": [
    {
     "data": {
      "text/plain": [
       "['startup_log', 'states']"
      ]
     },
     "execution_count": 7,
     "metadata": {},
     "output_type": "execute_result"
    }
   ],
   "source": [
    "mongo.local.collection_names()"
   ]
  },
  {
   "cell_type": "code",
   "execution_count": 8,
   "metadata": {
    "collapsed": true
   },
   "outputs": [],
   "source": [
    "db = mongo.state_db"
   ]
  },
  {
   "cell_type": "code",
   "execution_count": 9,
   "metadata": {
    "collapsed": true
   },
   "outputs": [],
   "source": [
    "states = db.states"
   ]
  },
  {
   "cell_type": "code",
   "execution_count": 10,
   "metadata": {},
   "outputs": [
    {
     "data": {
      "text/plain": [
       "<pymongo.results.InsertOneResult at 0x7f2c3418c448>"
      ]
     },
     "execution_count": 10,
     "metadata": {},
     "output_type": "execute_result"
    }
   ],
   "source": [
    "states.insert_one({'name':'P1', 'xy':[0.11,0.2]})"
   ]
  },
  {
   "cell_type": "code",
   "execution_count": 11,
   "metadata": {
    "collapsed": true
   },
   "outputs": [],
   "source": [
    "from pprint import pprint"
   ]
  },
  {
   "cell_type": "code",
   "execution_count": 12,
   "metadata": {},
   "outputs": [
    {
     "data": {
      "text/plain": [
       "{'_id': ObjectId('5a15f2f16f8d9134b74132cd'),\n",
       " 'name': 'P1',\n",
       " 'xy': [0.6310497888541201, 0.34503356394736395]}"
      ]
     },
     "execution_count": 12,
     "metadata": {},
     "output_type": "execute_result"
    }
   ],
   "source": [
    "states.find_one({'name':'P1'})"
   ]
  },
  {
   "cell_type": "code",
   "execution_count": 13,
   "metadata": {},
   "outputs": [
    {
     "data": {
      "text/plain": [
       "(0.33618074375880236, 0.3603696362840742)"
      ]
     },
     "execution_count": 13,
     "metadata": {},
     "output_type": "execute_result"
    }
   ],
   "source": [
    "0.33618074375880236, 0.3603696362840742"
   ]
  },
  {
   "cell_type": "code",
   "execution_count": 14,
   "metadata": {},
   "outputs": [
    {
     "name": "stdout",
     "output_type": "stream",
     "text": [
      "{'_id': ObjectId('5a15e7196f8d9134b741057f'),\n",
      " 'name': 'P2',\n",
      " 'xy': [0.6310497888541201, 0.34503356394736395]}\n",
      "{'_id': ObjectId('5a15e71a6f8d9134b7410581'),\n",
      " 'name': 'P3',\n",
      " 'xy': [0.6310497888541201, 0.34503356394736395]}\n",
      "{'_id': ObjectId('5a15e71a6f8d9134b7410584'),\n",
      " 'name': 'P4',\n",
      " 'xy': [0.6310497888541201, 0.34503356394736395]}\n",
      "{'_id': ObjectId('5a15e71b6f8d9134b7410589'),\n",
      " 'name': 'P5',\n",
      " 'xy': [0.6310497888541201, 0.34503356394736395]}\n",
      "{'_id': ObjectId('5a15e71b6f8d9134b741058d'),\n",
      " 'name': 'P6',\n",
      " 'xy': [0.6310497888541201, 0.34503356394736395]}\n",
      "{'_id': ObjectId('5a15e71c6f8d9134b741058f'),\n",
      " 'name': 'P7',\n",
      " 'xy': [0.6310497888541201, 0.34503356394736395]}\n",
      "{'_id': ObjectId('5a15e71c6f8d9134b7410593'),\n",
      " 'name': 'P8',\n",
      " 'xy': [0.6310497888541201, 0.34503356394736395]}\n",
      "{'_id': ObjectId('5a15e71d6f8d9134b7410595'),\n",
      " 'name': 'P9',\n",
      " 'xy': [0.6310497888541201, 0.34503356394736395]}\n",
      "{'_id': ObjectId('5a15e71e6f8d9134b7410597'),\n",
      " 'name': 'P10',\n",
      " 'xy': [0.6310497888541201, 0.34503356394736395]}\n",
      "{'_id': ObjectId('5a15e71e6f8d9134b7410599'),\n",
      " 'name': 'P11',\n",
      " 'xy': [0.6310497888541201, 0.34503356394736395]}\n",
      "{'_id': ObjectId('5a15e71f6f8d9134b741059b'),\n",
      " 'name': 'P12',\n",
      " 'xy': [0.6310497888541201, 0.34503356394736395]}\n",
      "{'_id': ObjectId('5a15e71f6f8d9134b741059f'),\n",
      " 'name': 'P13',\n",
      " 'xy': [0.6310497888541201, 0.34503356394736395]}\n",
      "{'_id': ObjectId('5a15e7206f8d9134b74105a1'),\n",
      " 'name': 'P14',\n",
      " 'xy': [0.6310497888541201, 0.34503356394736395]}\n",
      "{'_id': ObjectId('5a15e7206f8d9134b74105a3'),\n",
      " 'name': 'P15',\n",
      " 'xy': [0.6310497888541201, 0.34503356394736395]}\n",
      "{'_id': ObjectId('5a15e7216f8d9134b74105a5'),\n",
      " 'name': 'P16',\n",
      " 'xy': [0.6310497888541201, 0.34503356394736395]}\n",
      "{'_id': ObjectId('5a15e7216f8d9134b74105a7'),\n",
      " 'name': 'P17',\n",
      " 'xy': [0.6310497888541201, 0.34503356394736395]}\n",
      "{'_id': ObjectId('5a15e7226f8d9134b74105a9'),\n",
      " 'name': 'P18',\n",
      " 'xy': [0.6310497888541201, 0.34503356394736395]}\n",
      "{'_id': ObjectId('5a15e7236f8d9134b74105ab'),\n",
      " 'name': 'P19',\n",
      " 'xy': [0.6310497888541201, 0.34503356394736395]}\n",
      "{'_id': ObjectId('5a15e9196f8d9134b7410750'),\n",
      " 'carbonIntensity': 364.6776850432061,\n",
      " 'fossilFuelPercentage': 50.0458390144196,\n",
      " 'name': 'carbon',\n",
      " 'time': datetime.datetime(2017, 11, 24, 14, 41, 29, 827000)}\n",
      "{'_id': ObjectId('5a15eaec6f8d9134b7410973'),\n",
      " 'name': 'effect_type',\n",
      " 'state': 'carbon'}\n",
      "{'_id': ObjectId('5a15f2f16f8d9134b74132cd'),\n",
      " 'name': 'P1',\n",
      " 'xy': [0.6310497888541201, 0.34503356394736395]}\n",
      "{'_id': ObjectId('5a182faffb63291a472e9eaf'), 'name': 'P1', 'xy': [0.11, 0.2]}\n"
     ]
    }
   ],
   "source": [
    "for post in states.find():\n",
    "    pprint(post)"
   ]
  },
  {
   "cell_type": "code",
   "execution_count": 15,
   "metadata": {},
   "outputs": [
    {
     "data": {
      "text/plain": [
       "{'_id': ObjectId('5a15f2f16f8d9134b74132cd'),\n",
       " 'name': 'P1',\n",
       " 'xy': [0.6310497888541201, 0.34503356394736395]}"
      ]
     },
     "execution_count": 15,
     "metadata": {},
     "output_type": "execute_result"
    }
   ],
   "source": [
    "states.find_one_and_update({'name':'P1'}, {\"$set\": {'xy':[100.2,22]}}, upsert=True)"
   ]
  },
  {
   "cell_type": "code",
   "execution_count": 16,
   "metadata": {},
   "outputs": [
    {
     "data": {
      "text/plain": [
       "{'_id': ObjectId('5a15e9196f8d9134b7410750'),\n",
       " 'carbonIntensity': 364.6776850432061,\n",
       " 'fossilFuelPercentage': 50.0458390144196,\n",
       " 'name': 'carbon',\n",
       " 'time': datetime.datetime(2017, 11, 24, 14, 41, 29, 827000)}"
      ]
     },
     "execution_count": 16,
     "metadata": {},
     "output_type": "execute_result"
    }
   ],
   "source": [
    "states.find_one({'name':'carbon'})"
   ]
  },
  {
   "cell_type": "code",
   "execution_count": 267,
   "metadata": {},
   "outputs": [
    {
     "data": {
      "text/plain": [
       "{'_id': ObjectId('5a15eaec6f8d9134b7410973'),\n",
       " 'name': 'effect_type',\n",
       " 'state': 'none'}"
      ]
     },
     "execution_count": 267,
     "metadata": {},
     "output_type": "execute_result"
    }
   ],
   "source": [
    "states.find_one({'name':'effect_type'})"
   ]
  },
  {
   "cell_type": "code",
   "execution_count": 262,
   "metadata": {
    "collapsed": true
   },
   "outputs": [],
   "source": [
    "t1 = datetime.datetime(2017, 11, 22, 21, 25, 58, 584000)"
   ]
  },
  {
   "cell_type": "code",
   "execution_count": 263,
   "metadata": {
    "collapsed": true
   },
   "outputs": [],
   "source": [
    "dt = datetime.datetime.now() - t1"
   ]
  },
  {
   "cell_type": "code",
   "execution_count": 264,
   "metadata": {},
   "outputs": [
    {
     "data": {
      "text/plain": [
       "5527.090216"
      ]
     },
     "execution_count": 264,
     "metadata": {},
     "output_type": "execute_result"
    }
   ],
   "source": [
    "dt.total_seconds()"
   ]
  },
  {
   "cell_type": "code",
   "execution_count": null,
   "metadata": {
    "collapsed": true
   },
   "outputs": [],
   "source": []
  },
  {
   "cell_type": "code",
   "execution_count": null,
   "metadata": {
    "collapsed": true
   },
   "outputs": [],
   "source": []
  }
 ],
 "metadata": {
  "kernelspec": {
   "display_name": "Python 3",
   "language": "python",
   "name": "python3"
  },
  "language_info": {
   "codemirror_mode": {
    "name": "ipython",
    "version": 3
   },
   "file_extension": ".py",
   "mimetype": "text/x-python",
   "name": "python",
   "nbconvert_exporter": "python",
   "pygments_lexer": "ipython3",
   "version": "3.6.2"
  }
 },
 "nbformat": 4,
 "nbformat_minor": 2
}
