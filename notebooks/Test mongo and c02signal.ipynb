{
 "cells": [
  {
   "cell_type": "code",
   "execution_count": 1,
   "metadata": {
    "collapsed": true
   },
   "outputs": [],
   "source": [
    "from requests import get"
   ]
  },
  {
   "cell_type": "code",
   "execution_count": 228,
   "metadata": {
    "collapsed": true
   },
   "outputs": [],
   "source": [
    "# Reading the environment variables\n",
    "with open('../.env', 'r') as f:\n",
    "    data = f.read()\n",
    "for l in data.splitlines():\n",
    "    #eval(l.split('=')[0] + '=\"'+ l.split('=')[1]+'\"')\n",
    "    locals()[l.split('=')[0]] = l.split('=')[1]"
   ]
  },
  {
   "cell_type": "code",
   "execution_count": 231,
   "metadata": {
    "collapsed": true
   },
   "outputs": [],
   "source": [
    "resp = get('https://api.co2signal.com/v1/latest?countryCode=DK',headers={'auth-token': C02_AUTH}).json()"
   ]
  },
  {
   "cell_type": "code",
   "execution_count": 232,
   "metadata": {},
   "outputs": [
    {
     "data": {
      "text/plain": [
       "{'carbonIntensity': 186.1026353270239,\n",
       " 'fossilFuelPercentage': 24.544481546726264}"
      ]
     },
     "execution_count": 232,
     "metadata": {},
     "output_type": "execute_result"
    }
   ],
   "source": [
    "resp['data']\n"
   ]
  },
  {
   "cell_type": "code",
   "execution_count": 13,
   "metadata": {
    "collapsed": true
   },
   "outputs": [],
   "source": [
    "hello = None or 'world'"
   ]
  },
  {
   "cell_type": "code",
   "execution_count": 14,
   "metadata": {},
   "outputs": [
    {
     "data": {
      "text/plain": [
       "'world'"
      ]
     },
     "execution_count": 14,
     "metadata": {},
     "output_type": "execute_result"
    }
   ],
   "source": [
    "hello"
   ]
  },
  {
   "cell_type": "code",
   "execution_count": 15,
   "metadata": {
    "collapsed": true
   },
   "outputs": [],
   "source": [
    "import os"
   ]
  },
  {
   "cell_type": "code",
   "execution_count": 17,
   "metadata": {
    "collapsed": true
   },
   "outputs": [],
   "source": [
    "hello = os.environ['world'] if 'world' in os.environ else 'world'"
   ]
  },
  {
   "cell_type": "code",
   "execution_count": 18,
   "metadata": {},
   "outputs": [
    {
     "data": {
      "text/plain": [
       "'world'"
      ]
     },
     "execution_count": 18,
     "metadata": {},
     "output_type": "execute_result"
    }
   ],
   "source": [
    "hello"
   ]
  },
  {
   "cell_type": "code",
   "execution_count": 24,
   "metadata": {},
   "outputs": [
    {
     "name": "stderr",
     "output_type": "stream",
     "text": [
      "/home/pilou/anaconda3/envs/kunst/lib/python3.6/site-packages/matplotlib/font_manager.py:279: UserWarning: Matplotlib is building the font cache using fc-list. This may take a moment.\n",
      "  'Matplotlib is building the font cache using fc-list. '\n"
     ]
    }
   ],
   "source": [
    "import matplotlib.pylab as plt"
   ]
  },
  {
   "cell_type": "code",
   "execution_count": 34,
   "metadata": {
    "collapsed": true
   },
   "outputs": [],
   "source": [
    "import sys\n",
    "# the mock-0.3.1 dir contains testcase.py, testutils.py & mock.py\n",
    "sys.path.append('/home/pilou/git/kunst/python/scripts')\n",
    "from hue_show import *"
   ]
  },
  {
   "cell_type": "code",
   "execution_count": 233,
   "metadata": {
    "collapsed": true
   },
   "outputs": [],
   "source": [
    "b = init_bridge(HUE_IP, HUE_CRED)"
   ]
  },
  {
   "cell_type": "code",
   "execution_count": 234,
   "metadata": {},
   "outputs": [
    {
     "data": {
      "text/plain": [
       "True"
      ]
     },
     "execution_count": 234,
     "metadata": {},
     "output_type": "execute_result"
    }
   ],
   "source": [
    "l = b.lights_by_name['P1']\n",
    "l.xy = c.rgbToCIE1931(1., 1., 1.)\n",
    "l.reachable"
   ]
  },
  {
   "cell_type": "code",
   "execution_count": 235,
   "metadata": {},
   "outputs": [
    {
     "data": {
      "text/plain": [
       "True"
      ]
     },
     "execution_count": 235,
     "metadata": {},
     "output_type": "execute_result"
    }
   ],
   "source": [
    "l.reachable"
   ]
  },
  {
   "cell_type": "code",
   "execution_count": 236,
   "metadata": {
    "collapsed": true
   },
   "outputs": [],
   "source": [
    "b.lights_by_name['P1'].xy = cmxy(1.0)"
   ]
  },
  {
   "cell_type": "code",
   "execution_count": 237,
   "metadata": {
    "collapsed": true
   },
   "outputs": [],
   "source": [
    "normal(b)"
   ]
  },
  {
   "cell_type": "code",
   "execution_count": 238,
   "metadata": {
    "collapsed": true
   },
   "outputs": [],
   "source": [
    "all_rgb(b, 1.0, 1.0, 1.0, 0.5)"
   ]
  },
  {
   "cell_type": "code",
   "execution_count": 239,
   "metadata": {},
   "outputs": [
    {
     "data": {
      "text/plain": [
       "dict_keys(['P10', 'P9', 'P11', 'P12', 'P13', 'P18', 'P5', 'P15', 'P14', 'P3', 'P17', 'P6', 'P4', 'P2', 'P1', 'P16', 'P19', 'P8', 'H21P', 'Parking 1', 'Parking 2', 'P7'])"
      ]
     },
     "execution_count": 239,
     "metadata": {},
     "output_type": "execute_result"
    }
   ],
   "source": [
    "b.lights_by_name.keys()"
   ]
  },
  {
   "cell_type": "code",
   "execution_count": 240,
   "metadata": {},
   "outputs": [
    {
     "data": {
      "text/plain": [
       "True"
      ]
     },
     "execution_count": 240,
     "metadata": {},
     "output_type": "execute_result"
    }
   ],
   "source": [
    "b.lights_by_name['P8'].reachable"
   ]
  },
  {
   "cell_type": "code",
   "execution_count": 241,
   "metadata": {},
   "outputs": [
    {
     "data": {
      "text/plain": [
       "'P1'"
      ]
     },
     "execution_count": 241,
     "metadata": {},
     "output_type": "execute_result"
    }
   ],
   "source": [
    "l.name"
   ]
  },
  {
   "cell_type": "code",
   "execution_count": 242,
   "metadata": {
    "collapsed": true
   },
   "outputs": [],
   "source": [
    "import datetime"
   ]
  },
  {
   "cell_type": "code",
   "execution_count": 246,
   "metadata": {
    "collapsed": true
   },
   "outputs": [],
   "source": [
    "dt = datetime.datetime.now() -d1"
   ]
  },
  {
   "cell_type": "code",
   "execution_count": 247,
   "metadata": {},
   "outputs": [
    {
     "data": {
      "text/plain": [
       "datetime.timedelta(-999999999)"
      ]
     },
     "execution_count": 247,
     "metadata": {},
     "output_type": "execute_result"
    }
   ],
   "source": [
    "dt.min"
   ]
  },
  {
   "cell_type": "code",
   "execution_count": 248,
   "metadata": {},
   "outputs": [
    {
     "data": {
      "text/plain": [
       "6581.707554"
      ]
     },
     "execution_count": 248,
     "metadata": {},
     "output_type": "execute_result"
    }
   ],
   "source": [
    "dt.total_seconds()"
   ]
  },
  {
   "cell_type": "code",
   "execution_count": 249,
   "metadata": {
    "collapsed": true
   },
   "outputs": [],
   "source": [
    "from pymongo import MongoClient\n",
    "mongo = MongoClient('localhost', 27017)\n",
    "db_state = mongo.state_db\n",
    "states = db_state.states"
   ]
  },
  {
   "cell_type": "code",
   "execution_count": 250,
   "metadata": {},
   "outputs": [
    {
     "data": {
      "text/plain": [
       "['admin', 'local', 'state_db']"
      ]
     },
     "execution_count": 250,
     "metadata": {},
     "output_type": "execute_result"
    }
   ],
   "source": [
    "mongo.database_names()"
   ]
  },
  {
   "cell_type": "code",
   "execution_count": 251,
   "metadata": {},
   "outputs": [
    {
     "data": {
      "text/plain": [
       "['startup_log', 'states']"
      ]
     },
     "execution_count": 251,
     "metadata": {},
     "output_type": "execute_result"
    }
   ],
   "source": [
    "mongo.local.collection_names()"
   ]
  },
  {
   "cell_type": "code",
   "execution_count": 252,
   "metadata": {
    "collapsed": true
   },
   "outputs": [],
   "source": [
    "db = mongo.state_db"
   ]
  },
  {
   "cell_type": "code",
   "execution_count": 253,
   "metadata": {
    "collapsed": true
   },
   "outputs": [],
   "source": [
    "states = db.states"
   ]
  },
  {
   "cell_type": "code",
   "execution_count": 254,
   "metadata": {},
   "outputs": [
    {
     "data": {
      "text/plain": [
       "<pymongo.results.InsertOneResult at 0x7fdd91a74088>"
      ]
     },
     "execution_count": 254,
     "metadata": {},
     "output_type": "execute_result"
    }
   ],
   "source": [
    "states.insert_one({'name':'P1', 'xy':[0.11,0.2]})"
   ]
  },
  {
   "cell_type": "code",
   "execution_count": 255,
   "metadata": {
    "collapsed": true
   },
   "outputs": [],
   "source": [
    "from pprint import pprint"
   ]
  },
  {
   "cell_type": "code",
   "execution_count": 256,
   "metadata": {},
   "outputs": [
    {
     "data": {
      "text/plain": [
       "{'_id': ObjectId('5a15e6256f8d9134b741044e'),\n",
       " 'name': 'P1',\n",
       " 'xy': [0.33618074375880236, 0.3603696362840742]}"
      ]
     },
     "execution_count": 256,
     "metadata": {},
     "output_type": "execute_result"
    }
   ],
   "source": [
    "states.find_one({'name':'P1'})"
   ]
  },
  {
   "cell_type": "code",
   "execution_count": null,
   "metadata": {
    "collapsed": true
   },
   "outputs": [],
   "source": [
    "0.33618074375880236, 0.3603696362840742"
   ]
  },
  {
   "cell_type": "code",
   "execution_count": 282,
   "metadata": {},
   "outputs": [
    {
     "name": "stdout",
     "output_type": "stream",
     "text": [
      "{'_id': ObjectId('5a15e7196f8d9134b741057f'),\n",
      " 'name': 'P2',\n",
      " 'xy': [0.33618074375880236, 0.3603696362840742]}\n",
      "{'_id': ObjectId('5a15e71a6f8d9134b7410581'),\n",
      " 'name': 'P3',\n",
      " 'xy': [0.33618074375880236, 0.3603696362840742]}\n",
      "{'_id': ObjectId('5a15e71a6f8d9134b7410584'),\n",
      " 'name': 'P4',\n",
      " 'xy': [0.33618074375880236, 0.3603696362840742]}\n",
      "{'_id': ObjectId('5a15e71b6f8d9134b7410589'),\n",
      " 'name': 'P5',\n",
      " 'xy': [0.33618074375880236, 0.3603696362840742]}\n",
      "{'_id': ObjectId('5a15e71b6f8d9134b741058d'),\n",
      " 'name': 'P6',\n",
      " 'xy': [0.33618074375880236, 0.3603696362840742]}\n",
      "{'_id': ObjectId('5a15e71c6f8d9134b741058f'),\n",
      " 'name': 'P7',\n",
      " 'xy': [0.33618074375880236, 0.3603696362840742]}\n",
      "{'_id': ObjectId('5a15e71c6f8d9134b7410593'),\n",
      " 'name': 'P8',\n",
      " 'xy': [0.33618074375880236, 0.3603696362840742]}\n",
      "{'_id': ObjectId('5a15e71d6f8d9134b7410595'),\n",
      " 'name': 'P9',\n",
      " 'xy': [0.33618074375880236, 0.3603696362840742]}\n",
      "{'_id': ObjectId('5a15e71e6f8d9134b7410597'),\n",
      " 'name': 'P10',\n",
      " 'xy': [0.33618074375880236, 0.3603696362840742]}\n",
      "{'_id': ObjectId('5a15e71e6f8d9134b7410599'),\n",
      " 'name': 'P11',\n",
      " 'xy': [0.33618074375880236, 0.3603696362840742]}\n",
      "{'_id': ObjectId('5a15e71f6f8d9134b741059b'),\n",
      " 'name': 'P12',\n",
      " 'xy': [0.33618074375880236, 0.3603696362840742]}\n",
      "{'_id': ObjectId('5a15e71f6f8d9134b741059f'),\n",
      " 'name': 'P13',\n",
      " 'xy': [0.33618074375880236, 0.3603696362840742]}\n",
      "{'_id': ObjectId('5a15e7206f8d9134b74105a1'),\n",
      " 'name': 'P14',\n",
      " 'xy': [0.33618074375880236, 0.3603696362840742]}\n",
      "{'_id': ObjectId('5a15e7206f8d9134b74105a3'),\n",
      " 'name': 'P15',\n",
      " 'xy': [0.33618074375880236, 0.3603696362840742]}\n",
      "{'_id': ObjectId('5a15e7216f8d9134b74105a5'),\n",
      " 'name': 'P16',\n",
      " 'xy': [0.33618074375880236, 0.3603696362840742]}\n",
      "{'_id': ObjectId('5a15e7216f8d9134b74105a7'),\n",
      " 'name': 'P17',\n",
      " 'xy': [0.33618074375880236, 0.3603696362840742]}\n",
      "{'_id': ObjectId('5a15e7226f8d9134b74105a9'),\n",
      " 'name': 'P18',\n",
      " 'xy': [0.33618074375880236, 0.3603696362840742]}\n",
      "{'_id': ObjectId('5a15e7236f8d9134b74105ab'),\n",
      " 'name': 'P19',\n",
      " 'xy': [0.33618074375880236, 0.3603696362840742]}\n",
      "{'_id': ObjectId('5a15e9196f8d9134b7410750'),\n",
      " 'carbonIntensity': 168.35564761277124,\n",
      " 'fossilFuelPercentage': 21.692199346733133,\n",
      " 'name': 'carbon',\n",
      " 'time': datetime.datetime(2017, 11, 22, 22, 14, 45, 111000)}\n",
      "{'_id': ObjectId('5a15eaec6f8d9134b7410973'),\n",
      " 'name': 'effect_type',\n",
      " 'state': 'carbon'}\n",
      "{'_id': ObjectId('5a15f2f16f8d9134b74132cd'),\n",
      " 'name': 'P1',\n",
      " 'xy': [0.33618074375880236, 0.3603696362840742]}\n"
     ]
    }
   ],
   "source": [
    "for post in states.find():\n",
    "    pprint(post)"
   ]
  },
  {
   "cell_type": "code",
   "execution_count": 258,
   "metadata": {},
   "outputs": [
    {
     "data": {
      "text/plain": [
       "{'_id': ObjectId('5a15e6256f8d9134b741044e'),\n",
       " 'name': 'P1',\n",
       " 'xy': [0.33618074375880236, 0.3603696362840742]}"
      ]
     },
     "execution_count": 258,
     "metadata": {},
     "output_type": "execute_result"
    }
   ],
   "source": [
    "states.find_one_and_update({'name':'P1'}, {\"$set\": {'xy':[100.2,22]}}, upsert=True)"
   ]
  },
  {
   "cell_type": "code",
   "execution_count": 259,
   "metadata": {},
   "outputs": [
    {
     "data": {
      "text/plain": [
       "<pymongo.results.DeleteResult at 0x7fdd91627208>"
      ]
     },
     "execution_count": 259,
     "metadata": {},
     "output_type": "execute_result"
    }
   ],
   "source": [
    "states.delete_many({'name':'P1'})"
   ]
  },
  {
   "cell_type": "code",
   "execution_count": 266,
   "metadata": {},
   "outputs": [
    {
     "data": {
      "text/plain": [
       "{'_id': ObjectId('5a15e9196f8d9134b7410750'),\n",
       " 'carbonIntensity': 168.35564761277124,\n",
       " 'fossilFuelPercentage': 21.692199346733133,\n",
       " 'name': 'carbon',\n",
       " 'time': datetime.datetime(2017, 11, 22, 22, 11, 8, 892000)}"
      ]
     },
     "execution_count": 266,
     "metadata": {},
     "output_type": "execute_result"
    }
   ],
   "source": [
    "states.find_one({'name':'carbon'})"
   ]
  },
  {
   "cell_type": "code",
   "execution_count": 267,
   "metadata": {},
   "outputs": [
    {
     "data": {
      "text/plain": [
       "{'_id': ObjectId('5a15eaec6f8d9134b7410973'),\n",
       " 'name': 'effect_type',\n",
       " 'state': 'none'}"
      ]
     },
     "execution_count": 267,
     "metadata": {},
     "output_type": "execute_result"
    }
   ],
   "source": [
    "states.find_one({'name':'effect_type'})"
   ]
  },
  {
   "cell_type": "code",
   "execution_count": 262,
   "metadata": {
    "collapsed": true
   },
   "outputs": [],
   "source": [
    "t1 = datetime.datetime(2017, 11, 22, 21, 25, 58, 584000)"
   ]
  },
  {
   "cell_type": "code",
   "execution_count": 263,
   "metadata": {
    "collapsed": true
   },
   "outputs": [],
   "source": [
    "dt = datetime.datetime.now() - t1"
   ]
  },
  {
   "cell_type": "code",
   "execution_count": 264,
   "metadata": {},
   "outputs": [
    {
     "data": {
      "text/plain": [
       "5527.090216"
      ]
     },
     "execution_count": 264,
     "metadata": {},
     "output_type": "execute_result"
    }
   ],
   "source": [
    "dt.total_seconds()"
   ]
  },
  {
   "cell_type": "code",
   "execution_count": null,
   "metadata": {
    "collapsed": true
   },
   "outputs": [],
   "source": []
  },
  {
   "cell_type": "code",
   "execution_count": null,
   "metadata": {
    "collapsed": true
   },
   "outputs": [],
   "source": []
  }
 ],
 "metadata": {
  "kernelspec": {
   "display_name": "Python 3",
   "language": "python",
   "name": "python3"
  },
  "language_info": {
   "codemirror_mode": {
    "name": "ipython",
    "version": 3
   },
   "file_extension": ".py",
   "mimetype": "text/x-python",
   "name": "python",
   "nbconvert_exporter": "python",
   "pygments_lexer": "ipython3",
   "version": "3.6.2"
  }
 },
 "nbformat": 4,
 "nbformat_minor": 2
}
