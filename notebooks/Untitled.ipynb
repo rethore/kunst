{
 "cells": [
  {
   "cell_type": "code",
   "execution_count": 1,
   "metadata": {
    "collapsed": true
   },
   "outputs": [],
   "source": [
    "from requests import get"
   ]
  },
  {
   "cell_type": "code",
   "execution_count": 9,
   "metadata": {},
   "outputs": [],
   "source": [
    "resp = get('https://api.co2signal.com/v1/latest?countryCode=DK',headers={'auth-token': 'a639d4f3c1585189'}).json()"
   ]
  },
  {
   "cell_type": "code",
   "execution_count": 12,
   "metadata": {},
   "outputs": [
    {
     "data": {
      "text/plain": [
       "{'carbonIntensity': 256.07445568034325,\n",
       " 'fossilFuelPercentage': 34.09043924518537}"
      ]
     },
     "execution_count": 12,
     "metadata": {},
     "output_type": "execute_result"
    }
   ],
   "source": [
    "resp['data']\n"
   ]
  },
  {
   "cell_type": "code",
   "execution_count": 13,
   "metadata": {
    "collapsed": true
   },
   "outputs": [],
   "source": [
    "hello = None or 'world'"
   ]
  },
  {
   "cell_type": "code",
   "execution_count": 14,
   "metadata": {},
   "outputs": [
    {
     "data": {
      "text/plain": [
       "'world'"
      ]
     },
     "execution_count": 14,
     "metadata": {},
     "output_type": "execute_result"
    }
   ],
   "source": [
    "hello"
   ]
  },
  {
   "cell_type": "code",
   "execution_count": 15,
   "metadata": {
    "collapsed": true
   },
   "outputs": [],
   "source": [
    "import os"
   ]
  },
  {
   "cell_type": "code",
   "execution_count": 17,
   "metadata": {},
   "outputs": [],
   "source": [
    "hello = os.environ['world'] if 'world' in os.environ else 'world'"
   ]
  },
  {
   "cell_type": "code",
   "execution_count": 18,
   "metadata": {},
   "outputs": [
    {
     "data": {
      "text/plain": [
       "'world'"
      ]
     },
     "execution_count": 18,
     "metadata": {},
     "output_type": "execute_result"
    }
   ],
   "source": [
    "hello"
   ]
  },
  {
   "cell_type": "code",
   "execution_count": 20,
   "metadata": {
    "collapsed": true
   },
   "outputs": [],
   "source": [
    "\"\"\"\n",
    "Library for RGB / CIE1931 coversion.\n",
    "Ported and extended from Bryan Johnson's JavaScript implementation:\n",
    "https://github.com/bjohnso5/hue-hacking\n",
    "\n",
    "Copyright (c) 2014 Benjamin Knight / MIT License.\n",
    "\"\"\"\n",
    "import math\n",
    "import random\n",
    "from collections import namedtuple\n",
    "\n",
    "\n",
    "# Represents a CIE 1931 XY coordinate pair.\n",
    "XYPoint = namedtuple('XYPoint', ['x', 'y'])\n",
    "\n",
    "\n",
    "class ColorHelper:\n",
    "\n",
    "    Red = XYPoint(0.675, 0.322)\n",
    "    Lime = XYPoint(0.4091, 0.518)\n",
    "    Blue = XYPoint(0.167, 0.04)\n",
    "\n",
    "    def hexToRed(self, hex):\n",
    "        \"\"\"Parses a valid hex color string and returns the Red RGB integer value.\"\"\"\n",
    "        return int(hex[0:2], 16)\n",
    "\n",
    "    def hexToGreen(self, hex):\n",
    "        \"\"\"Parses a valid hex color string and returns the Green RGB integer value.\"\"\"\n",
    "        return int(hex[2:4], 16)\n",
    "\n",
    "    def hexToBlue(self, hex):\n",
    "        \"\"\"Parses a valid hex color string and returns the Blue RGB integer value.\"\"\"\n",
    "        return int(hex[4:6], 16)\n",
    "\n",
    "    def hexToRGB(self, h):\n",
    "        \"\"\"Converts a valid hex color string to an RGB array.\"\"\"\n",
    "        rgb = [self.hexToRed(h), self.hexToGreen(h), self.hexToBlue(h)]\n",
    "        return rgb\n",
    "\n",
    "    def rgbToHex(self, r, g, b):\n",
    "        \"\"\"Converts RGB to hex.\"\"\"\n",
    "        return '%02x%02x%02x' % (r, g, b)\n",
    "\n",
    "    def randomRGBValue(self):\n",
    "        \"\"\"Return a random Integer in the range of 0 to 255, representing an RGB color value.\"\"\"\n",
    "        return random.randrange(0, 256)\n",
    "\n",
    "    def crossProduct(self, p1, p2):\n",
    "        \"\"\"Returns the cross product of two XYPoints.\"\"\"\n",
    "        return (p1.x * p2.y - p1.y * p2.x)\n",
    "\n",
    "    def checkPointInLampsReach(self, p):\n",
    "        \"\"\"Check if the provided XYPoint can be recreated by a Hue lamp.\"\"\"\n",
    "        v1 = XYPoint(self.Lime.x - self.Red.x, self.Lime.y - self.Red.y)\n",
    "        v2 = XYPoint(self.Blue.x - self.Red.x, self.Blue.y - self.Red.y)\n",
    "\n",
    "        q = XYPoint(p.x - self.Red.x, p.y - self.Red.y)\n",
    "        s = self.crossProduct(q, v2) / self.crossProduct(v1, v2)\n",
    "        t = self.crossProduct(v1, q) / self.crossProduct(v1, v2)\n",
    "\n",
    "        return (s >= 0.0) and (t >= 0.0) and (s + t <= 1.0)\n",
    "\n",
    "    def getClosestPointToLine(self, A, B, P):\n",
    "        \"\"\"Find the closest point on a line. This point will be reproducible by a Hue lamp.\"\"\"\n",
    "        AP = XYPoint(P.x - A.x, P.y - A.y)\n",
    "        AB = XYPoint(B.x - A.x, B.y - A.y)\n",
    "        ab2 = AB.x * AB.x + AB.y * AB.y\n",
    "        ap_ab = AP.x * AB.x + AP.y * AB.y\n",
    "        t = ap_ab / ab2\n",
    "\n",
    "        if t < 0.0:\n",
    "            t = 0.0\n",
    "        elif t > 1.0:\n",
    "            t = 1.0\n",
    "\n",
    "        return XYPoint(A.x + AB.x * t, A.y + AB.y * t)\n",
    "\n",
    "    def getClosestPointToPoint(self, xyPoint):\n",
    "        # Color is unreproducible, find the closest point on each line in the CIE 1931 'triangle'.\n",
    "        pAB = self.getClosestPointToLine(self.Red, self.Lime, xyPoint)\n",
    "        pAC = self.getClosestPointToLine(self.Blue, self.Red, xyPoint)\n",
    "        pBC = self.getClosestPointToLine(self.Lime, self.Blue, xyPoint)\n",
    "\n",
    "        # Get the distances per point and see which point is closer to our Point.\n",
    "        dAB = self.getDistanceBetweenTwoPoints(xyPoint, pAB)\n",
    "        dAC = self.getDistanceBetweenTwoPoints(xyPoint, pAC)\n",
    "        dBC = self.getDistanceBetweenTwoPoints(xyPoint, pBC)\n",
    "\n",
    "        lowest = dAB\n",
    "        closestPoint = pAB\n",
    "\n",
    "        if (dAC < lowest):\n",
    "            lowest = dAC\n",
    "            closestPoint = pAC\n",
    "\n",
    "        if (dBC < lowest):\n",
    "            lowest = dBC\n",
    "            closestPoint = pBC\n",
    "\n",
    "        # Change the xy value to a value which is within the reach of the lamp.\n",
    "        cx = closestPoint.x\n",
    "        cy = closestPoint.y\n",
    "\n",
    "        return XYPoint(cx, cy)\n",
    "\n",
    "    def getDistanceBetweenTwoPoints(self, one, two):\n",
    "        \"\"\"Returns the distance between two XYPoints.\"\"\"\n",
    "        dx = one.x - two.x\n",
    "        dy = one.y - two.y\n",
    "        return math.sqrt(dx * dx + dy * dy)\n",
    "\n",
    "    def getXYPointFromRGB(self, red, green, blue):\n",
    "        \"\"\"Returns an XYPoint object containing the closest available CIE 1931 coordinates\n",
    "        based on the RGB input values.\"\"\"\n",
    "\n",
    "        r = ((red + 0.055) / (1.0 + 0.055))**2.4 if (red > 0.04045) else (red / 12.92)\n",
    "        g = ((green + 0.055) / (1.0 + 0.055))**2.4 if (green > 0.04045) else (green / 12.92)\n",
    "        b = ((blue + 0.055) / (1.0 + 0.055))**2.4 if (blue > 0.04045) else (blue / 12.92)\n",
    "\n",
    "        X = r * 0.4360747 + g * 0.3850649 + b * 0.0930804\n",
    "        Y = r * 0.2225045 + g * 0.7168786 + b * 0.0406169\n",
    "        Z = r * 0.0139322 + g * 0.0971045 + b * 0.7141733\n",
    "\n",
    "        if X + Y + Z == 0:\n",
    "            cx = cy = 0\n",
    "        else:\n",
    "            cx = X / (X + Y + Z)\n",
    "            cy = Y / (X + Y + Z)\n",
    "\n",
    "        # Check if the given XY value is within the colourreach of our lamps.\n",
    "        xyPoint = XYPoint(cx, cy)\n",
    "        inReachOfLamps = self.checkPointInLampsReach(xyPoint)\n",
    "\n",
    "        if not inReachOfLamps:\n",
    "            xyPoint = self.getClosestPointToPoint(xyPoint)\n",
    "\n",
    "        return xyPoint\n",
    "\n",
    "    def getRGBFromXYAndBrightness(self, x, y, bri=1):\n",
    "        \"\"\"Returns a rgb tuplet for given x, y values.  Not actually an inverse of `getXYPointFromRGB`.\n",
    "        Implementation of the instructions found on the Philips Hue iOS SDK docs: http://goo.gl/kWKXKl\n",
    "        \"\"\"\n",
    "        xyPoint = XYPoint(x, y)\n",
    "\n",
    "        # Check if the xy value is within the color gamut of the lamp.\n",
    "        # If not continue with step 2, otherwise step 3.\n",
    "        # We do this to calculate the most accurate color the given light can actually do.\n",
    "        if not self.checkPointInLampsReach(xyPoint):\n",
    "            # Calculate the closest point on the color gamut triangle\n",
    "            # and use that as xy value See step 6 of color to xy.\n",
    "            xyPoint = self.getClosestPointToPoint(xyPoint)\n",
    "\n",
    "        # Calculate XYZ values Convert using the following formulas:\n",
    "        Y = bri\n",
    "        X = (Y / xyPoint.y) * xyPoint.x\n",
    "        Z = (Y / xyPoint.y) * (1 - xyPoint.x - xyPoint.y)\n",
    "\n",
    "        # Convert to RGB using Wide RGB D65 conversion.\n",
    "        r =  X * 1.612 - Y * 0.203 - Z * 0.302\n",
    "        g = -X * 0.509 + Y * 1.412 + Z * 0.066\n",
    "        b =  X * 0.026 - Y * 0.072 + Z * 0.962\n",
    "\n",
    "        # Apply reverse gamma correction.\n",
    "        r, g, b = map(\n",
    "            lambda x: (12.92 * x) if (x <= 0.0031308) else ((1.0 + 0.055) * pow(x, (1.0 / 2.4)) - 0.055),\n",
    "            [r, g, b]\n",
    "        )\n",
    "\n",
    "        # Bring all negative components to zero.\n",
    "        r, g, b = map(lambda x: max(0, x), [r, g, b])\n",
    "\n",
    "        # If one component is greater than 1, weight components by that value.\n",
    "        max_component = max(r, g, b)\n",
    "        if max_component > 1:\n",
    "            r, g, b = map(lambda x: x / max_component, [r, g, b])\n",
    "\n",
    "        r, g, b = map(lambda x: int(x * 255), [r, g, b])\n",
    "\n",
    "        return (r, g, b)\n",
    "\n",
    "\n",
    "class Converter:\n",
    "\n",
    "    color = ColorHelper()\n",
    "\n",
    "    def hexToCIE1931(self, h):\n",
    "        \"\"\"Converts hexadecimal colors represented as a String to approximate CIE 1931 coordinates.\n",
    "        May not produce accurate values.\"\"\"\n",
    "        rgb = self.color.hexToRGB(h)\n",
    "        return self.rgbToCIE1931(rgb[0], rgb[1], rgb[2])\n",
    "\n",
    "    def rgbToCIE1931(self, red, green, blue):\n",
    "        \"\"\"Converts red, green and blue integer values to approximate CIE 1931 x and y coordinates.\n",
    "        Algorithm from: http://www.easyrgb.com/index.php?X=MATH&H=02#text2.\n",
    "        May not produce accurate values.\n",
    "        \"\"\"\n",
    "        point = self.color.getXYPointFromRGB(red, green, blue)\n",
    "        return [point.x, point.y]\n",
    "\n",
    "    def getCIEColor(self, hexColor=None):\n",
    "        \"\"\"Returns the approximate CIE 1931 x, y coordinates represented by the supplied hexColor parameter,\n",
    "        or of a random color if the parameter is not passed.\n",
    "        The point of this function is to let people set a lamp's color to any random color.\n",
    "        Arguably this should be implemented elsewhere.\"\"\"\n",
    "        xy = []\n",
    "\n",
    "        if hexColor:\n",
    "            xy = self.hexToCIE1931(hexColor)\n",
    "\n",
    "        else:\n",
    "            r = self.color.randomRGBValue()\n",
    "            g = self.color.randomRGBValue()\n",
    "            b = self.color.randomRGBValue()\n",
    "            xy = self.rgbToCIE1931(r, g, b)\n",
    "\n",
    "        return xy\n",
    "\n",
    "    def CIE1931ToHex(self, x, y, bri=1):\n",
    "        \"\"\"Converts CIE 1931 x and y coordinates and brightness value from 0 to 1 to a CSS hex color.\"\"\"\n",
    "        r, g, b = self.color.getRGBFromXYAndBrightness(x, y, bri)\n",
    "        return self.color.rgbToHex(r, g, b)"
   ]
  },
  {
   "cell_type": "code",
   "execution_count": 24,
   "metadata": {},
   "outputs": [
    {
     "name": "stderr",
     "output_type": "stream",
     "text": [
      "/home/pilou/anaconda3/envs/kunst/lib/python3.6/site-packages/matplotlib/font_manager.py:279: UserWarning: Matplotlib is building the font cache using fc-list. This may take a moment.\n",
      "  'Matplotlib is building the font cache using fc-list. '\n"
     ]
    }
   ],
   "source": [
    "import matplotlib.pylab as plt"
   ]
  },
  {
   "cell_type": "code",
   "execution_count": 22,
   "metadata": {
    "scrolled": true
   },
   "outputs": [],
   "source": [
    "#from rgb_cie import Converter\n",
    "c = Converter()\n",
    "mapxy = lambda colormap: lambda val: c.rgbToCIE1931(*plt.get_cmap(colormap)(val)[:3])\n",
    "cmxy = mapxy('hot')"
   ]
  },
  {
   "cell_type": "code",
   "execution_count": 25,
   "metadata": {},
   "outputs": [
    {
     "data": {
      "text/plain": [
       "[0.64842722368721195, 0.33085610147277805]"
      ]
     },
     "execution_count": 25,
     "metadata": {},
     "output_type": "execute_result"
    }
   ],
   "source": [
    "cmxy(0.0)"
   ]
  },
  {
   "cell_type": "code",
   "execution_count": 32,
   "metadata": {},
   "outputs": [
    {
     "data": {
      "text/plain": [
       "(1.0, 0.35931409993811703, 0.0, 1.0)"
      ]
     },
     "execution_count": 32,
     "metadata": {},
     "output_type": "execute_result"
    }
   ],
   "source": [
    "plt.get_cmap('hot')(0.50)"
   ]
  },
  {
   "cell_type": "code",
   "execution_count": 34,
   "metadata": {
    "collapsed": true
   },
   "outputs": [],
   "source": [
    "import sys\n",
    "# the mock-0.3.1 dir contains testcase.py, testutils.py & mock.py\n",
    "sys.path.append('/home/pilou/git/kunst/python/scripts')\n",
    "from hue_show import *"
   ]
  },
  {
   "cell_type": "code",
   "execution_count": 36,
   "metadata": {},
   "outputs": [],
   "source": [
    "b = init_bridge('81.161.138.239:6675', 'EFFqv1xdgfY-Sgz9Vn6XlGdiFWGh2KUUjQvM6h8T')"
   ]
  },
  {
   "cell_type": "code",
   "execution_count": 81,
   "metadata": {},
   "outputs": [
    {
     "data": {
      "text/plain": [
       "False"
      ]
     },
     "execution_count": 81,
     "metadata": {},
     "output_type": "execute_result"
    }
   ],
   "source": [
    "l = b.lights_by_name['P1']\n",
    "l.xy = c.rgbToCIE1931(1., 1., 1.)\n",
    "l.reachable"
   ]
  },
  {
   "cell_type": "code",
   "execution_count": 63,
   "metadata": {},
   "outputs": [
    {
     "data": {
      "text/plain": [
       "False"
      ]
     },
     "execution_count": 63,
     "metadata": {},
     "output_type": "execute_result"
    }
   ],
   "source": [
    "l.reachable"
   ]
  },
  {
   "cell_type": "code",
   "execution_count": 52,
   "metadata": {},
   "outputs": [],
   "source": [
    "b.lights_by_name['P1'].xy = cmxy(1.0)"
   ]
  },
  {
   "cell_type": "code",
   "execution_count": 48,
   "metadata": {
    "collapsed": true
   },
   "outputs": [],
   "source": [
    "normal(b)"
   ]
  },
  {
   "cell_type": "code",
   "execution_count": 50,
   "metadata": {
    "collapsed": true
   },
   "outputs": [],
   "source": [
    "all_rgb(b, 1.0, 1.0, 1.0, 0.5)"
   ]
  },
  {
   "cell_type": "code",
   "execution_count": 82,
   "metadata": {},
   "outputs": [
    {
     "data": {
      "text/plain": [
       "dict_keys(['P10', 'P9', 'P11', 'P12', 'P13', 'P18', 'P5', 'P15', 'P14', 'P3', 'P17', 'P6', 'P4', 'P2', 'P1', 'P16', 'P19', 'P8', 'H21P', 'Parking 1', 'Parking 2', 'P7'])"
      ]
     },
     "execution_count": 82,
     "metadata": {},
     "output_type": "execute_result"
    }
   ],
   "source": [
    "b.lights_by_name.keys()"
   ]
  },
  {
   "cell_type": "code",
   "execution_count": 86,
   "metadata": {},
   "outputs": [
    {
     "data": {
      "text/plain": [
       "True"
      ]
     },
     "execution_count": 86,
     "metadata": {},
     "output_type": "execute_result"
    }
   ],
   "source": [
    "b.lights_by_name['P8'].reachable"
   ]
  },
  {
   "cell_type": "code",
   "execution_count": 87,
   "metadata": {},
   "outputs": [
    {
     "data": {
      "text/plain": [
       "'P1'"
      ]
     },
     "execution_count": 87,
     "metadata": {},
     "output_type": "execute_result"
    }
   ],
   "source": [
    "l.name"
   ]
  },
  {
   "cell_type": "code",
   "execution_count": 89,
   "metadata": {},
   "outputs": [],
   "source": [
    "import datetime"
   ]
  },
  {
   "cell_type": "code",
   "execution_count": 96,
   "metadata": {},
   "outputs": [],
   "source": [
    "d1 = datetime."
   ]
  },
  {
   "cell_type": "code",
   "execution_count": 120,
   "metadata": {},
   "outputs": [],
   "source": [
    "dt = datetime.datetime.now() -d1"
   ]
  },
  {
   "cell_type": "code",
   "execution_count": 121,
   "metadata": {},
   "outputs": [
    {
     "data": {
      "text/plain": [
       "datetime.timedelta(-999999999)"
      ]
     },
     "execution_count": 121,
     "metadata": {},
     "output_type": "execute_result"
    }
   ],
   "source": [
    "dt.min"
   ]
  },
  {
   "cell_type": "code",
   "execution_count": 124,
   "metadata": {},
   "outputs": [
    {
     "data": {
      "text/plain": [
       "95.585837"
      ]
     },
     "execution_count": 124,
     "metadata": {},
     "output_type": "execute_result"
    }
   ],
   "source": [
    "dt.total_seconds()"
   ]
  },
  {
   "cell_type": "code",
   "execution_count": 170,
   "metadata": {},
   "outputs": [],
   "source": [
    "from pymongo import MongoClient\n",
    "mongo = MongoClient('localhost', 27017)\n",
    "db_state = mongo.state_db\n",
    "states = db_state.states"
   ]
  },
  {
   "cell_type": "code",
   "execution_count": 171,
   "metadata": {},
   "outputs": [
    {
     "data": {
      "text/plain": [
       "['admin', 'local', 'state_db']"
      ]
     },
     "execution_count": 171,
     "metadata": {},
     "output_type": "execute_result"
    }
   ],
   "source": [
    "mongo.database_names()"
   ]
  },
  {
   "cell_type": "code",
   "execution_count": 172,
   "metadata": {},
   "outputs": [
    {
     "data": {
      "text/plain": [
       "['startup_log', 'states']"
      ]
     },
     "execution_count": 172,
     "metadata": {},
     "output_type": "execute_result"
    }
   ],
   "source": [
    "mongo.local.collection_names()"
   ]
  },
  {
   "cell_type": "code",
   "execution_count": 176,
   "metadata": {
    "collapsed": true
   },
   "outputs": [],
   "source": [
    "db = mongo.state_db"
   ]
  },
  {
   "cell_type": "code",
   "execution_count": 177,
   "metadata": {},
   "outputs": [],
   "source": [
    "states = db.states"
   ]
  },
  {
   "cell_type": "code",
   "execution_count": 143,
   "metadata": {},
   "outputs": [
    {
     "data": {
      "text/plain": [
       "<pymongo.results.InsertOneResult at 0x7fdd91742a48>"
      ]
     },
     "execution_count": 143,
     "metadata": {},
     "output_type": "execute_result"
    }
   ],
   "source": [
    "states.insert_one({'name':'P1', 'xy':[0.11,0.2]})"
   ]
  },
  {
   "cell_type": "code",
   "execution_count": 150,
   "metadata": {
    "collapsed": true
   },
   "outputs": [],
   "source": [
    "from pprint import pprint"
   ]
  },
  {
   "cell_type": "code",
   "execution_count": 160,
   "metadata": {},
   "outputs": [
    {
     "data": {
      "text/plain": [
       "{'_id': ObjectId('5a15e10dfb63296aadd342bc'), 'name': 'P1', 'xy': [100.2, 22]}"
      ]
     },
     "execution_count": 160,
     "metadata": {},
     "output_type": "execute_result"
    }
   ],
   "source": [
    "states.find_one({'name':'P1'})"
   ]
  },
  {
   "cell_type": "code",
   "execution_count": 213,
   "metadata": {},
   "outputs": [
    {
     "name": "stdout",
     "output_type": "stream",
     "text": [
      "{'_id': ObjectId('5a15e6256f8d9134b741044e'),\n",
      " 'name': 'P1',\n",
      " 'xy': [0.33618074375880236, 0.3603696362840742]}\n",
      "{'_id': ObjectId('5a15e7196f8d9134b741057f'),\n",
      " 'name': 'P2',\n",
      " 'xy': [0.33618074375880236, 0.3603696362840742]}\n",
      "{'_id': ObjectId('5a15e71a6f8d9134b7410581'),\n",
      " 'name': 'P3',\n",
      " 'xy': [0.33618074375880236, 0.3603696362840742]}\n",
      "{'_id': ObjectId('5a15e71a6f8d9134b7410584'),\n",
      " 'name': 'P4',\n",
      " 'xy': [0.33618074375880236, 0.3603696362840742]}\n",
      "{'_id': ObjectId('5a15e71b6f8d9134b7410589'),\n",
      " 'name': 'P5',\n",
      " 'xy': [0.33618074375880236, 0.3603696362840742]}\n",
      "{'_id': ObjectId('5a15e71b6f8d9134b741058d'),\n",
      " 'name': 'P6',\n",
      " 'xy': [0.33618074375880236, 0.3603696362840742]}\n",
      "{'_id': ObjectId('5a15e71c6f8d9134b741058f'),\n",
      " 'name': 'P7',\n",
      " 'xy': [0.33618074375880236, 0.3603696362840742]}\n",
      "{'_id': ObjectId('5a15e71c6f8d9134b7410593'),\n",
      " 'name': 'P8',\n",
      " 'xy': [0.33618074375880236, 0.3603696362840742]}\n",
      "{'_id': ObjectId('5a15e71d6f8d9134b7410595'),\n",
      " 'name': 'P9',\n",
      " 'xy': [0.33618074375880236, 0.3603696362840742]}\n",
      "{'_id': ObjectId('5a15e71e6f8d9134b7410597'),\n",
      " 'name': 'P10',\n",
      " 'xy': [0.33618074375880236, 0.3603696362840742]}\n",
      "{'_id': ObjectId('5a15e71e6f8d9134b7410599'),\n",
      " 'name': 'P11',\n",
      " 'xy': [0.33618074375880236, 0.3603696362840742]}\n",
      "{'_id': ObjectId('5a15e71f6f8d9134b741059b'),\n",
      " 'name': 'P12',\n",
      " 'xy': [0.33618074375880236, 0.3603696362840742]}\n",
      "{'_id': ObjectId('5a15e71f6f8d9134b741059f'),\n",
      " 'name': 'P13',\n",
      " 'xy': [0.33618074375880236, 0.3603696362840742]}\n",
      "{'_id': ObjectId('5a15e7206f8d9134b74105a1'),\n",
      " 'name': 'P14',\n",
      " 'xy': [0.33618074375880236, 0.3603696362840742]}\n",
      "{'_id': ObjectId('5a15e7206f8d9134b74105a3'),\n",
      " 'name': 'P15',\n",
      " 'xy': [0.33618074375880236, 0.3603696362840742]}\n",
      "{'_id': ObjectId('5a15e7216f8d9134b74105a5'),\n",
      " 'name': 'P16',\n",
      " 'xy': [0.33618074375880236, 0.3603696362840742]}\n",
      "{'_id': ObjectId('5a15e7216f8d9134b74105a7'),\n",
      " 'name': 'P17',\n",
      " 'xy': [0.33618074375880236, 0.3603696362840742]}\n",
      "{'_id': ObjectId('5a15e7226f8d9134b74105a9'),\n",
      " 'name': 'P18',\n",
      " 'xy': [0.33618074375880236, 0.3603696362840742]}\n",
      "{'_id': ObjectId('5a15e7236f8d9134b74105ab'),\n",
      " 'name': 'P19',\n",
      " 'xy': [0.33618074375880236, 0.3603696362840742]}\n",
      "{'_id': ObjectId('5a15e9196f8d9134b7410750'),\n",
      " 'carbonIntensity': 186.10263549407688,\n",
      " 'fossilFuelPercentage': 24.544481439536312,\n",
      " 'name': 'carbon',\n",
      " 'time': datetime.datetime(2017, 11, 22, 21, 39, 20, 837000)}\n",
      "{'_id': ObjectId('5a15eaec6f8d9134b7410973'),\n",
      " 'name': 'effect_type',\n",
      " 'state': 'carbon'}\n"
     ]
    }
   ],
   "source": [
    "for post in states.find():\n",
    "    pprint(post)"
   ]
  },
  {
   "cell_type": "code",
   "execution_count": 163,
   "metadata": {},
   "outputs": [],
   "source": [
    "states.find_one_and_update({'name':'P1'}, {\"$set\": {'xy':[100.2,22]}}, upsert=True)"
   ]
  },
  {
   "cell_type": "code",
   "execution_count": 161,
   "metadata": {},
   "outputs": [
    {
     "data": {
      "text/plain": [
       "<pymongo.results.DeleteResult at 0x7fdd91734988>"
      ]
     },
     "execution_count": 161,
     "metadata": {},
     "output_type": "execute_result"
    }
   ],
   "source": [
    "states.delete_many({'name':'P1'})"
   ]
  },
  {
   "cell_type": "code",
   "execution_count": 212,
   "metadata": {},
   "outputs": [
    {
     "data": {
      "text/plain": [
       "{'_id': ObjectId('5a15e9196f8d9134b7410750'),\n",
       " 'carbonIntensity': 186.10263549407688,\n",
       " 'fossilFuelPercentage': 24.544481439536312,\n",
       " 'name': 'carbon',\n",
       " 'time': datetime.datetime(2017, 11, 22, 21, 39, 20, 837000)}"
      ]
     },
     "execution_count": 212,
     "metadata": {},
     "output_type": "execute_result"
    }
   ],
   "source": [
    "states.find_one({'name':'carbon'})"
   ]
  },
  {
   "cell_type": "code",
   "execution_count": 211,
   "metadata": {},
   "outputs": [
    {
     "data": {
      "text/plain": [
       "{'_id': ObjectId('5a15eaec6f8d9134b7410973'),\n",
       " 'name': 'effect_type',\n",
       " 'state': 'carbon'}"
      ]
     },
     "execution_count": 211,
     "metadata": {},
     "output_type": "execute_result"
    }
   ],
   "source": [
    "states.find_one({'name':'effect_type'})"
   ]
  },
  {
   "cell_type": "code",
   "execution_count": 195,
   "metadata": {},
   "outputs": [],
   "source": [
    "t1 = datetime.datetime(2017, 11, 22, 21, 25, 58, 584000)"
   ]
  },
  {
   "cell_type": "code",
   "execution_count": 199,
   "metadata": {},
   "outputs": [],
   "source": [
    "dt = datetime.datetime.now() - t1"
   ]
  },
  {
   "cell_type": "code",
   "execution_count": 200,
   "metadata": {},
   "outputs": [
    {
     "data": {
      "text/plain": [
       "3674.545058"
      ]
     },
     "execution_count": 200,
     "metadata": {},
     "output_type": "execute_result"
    }
   ],
   "source": [
    "dt.total_seconds()"
   ]
  },
  {
   "cell_type": "code",
   "execution_count": null,
   "metadata": {
    "collapsed": true
   },
   "outputs": [],
   "source": []
  }
 ],
 "metadata": {
  "kernelspec": {
   "display_name": "Python 3",
   "language": "python",
   "name": "python3"
  },
  "language_info": {
   "codemirror_mode": {
    "name": "ipython",
    "version": 3
   },
   "file_extension": ".py",
   "mimetype": "text/x-python",
   "name": "python",
   "nbconvert_exporter": "python",
   "pygments_lexer": "ipython3",
   "version": "3.6.2"
  }
 },
 "nbformat": 4,
 "nbformat_minor": 2
}
